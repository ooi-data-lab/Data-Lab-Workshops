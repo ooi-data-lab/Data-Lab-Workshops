{
  "nbformat": 4,
  "nbformat_minor": 0,
  "metadata": {
    "colab": {
      "name": "OH2021 NDBC Example.ipynb",
      "provenance": []
    },
    "kernelspec": {
      "name": "python3",
      "display_name": "Python 3"
    }
  },
  "cells": [
    {
      "cell_type": "markdown",
      "metadata": {
        "id": "_rnudr0HhG60"
      },
      "source": [
        "## A Quick NDBC data Example\n",
        "**Oceanography House Spring 2021**\n",
        "\n",
        "*Written by Sage Lichtenwalner, Rutgers University, February 15, 2021*\n",
        "\n",
        "This example demonstrates how to quickly load and plot NDBC Standard Meteorological Buoy Data from the [NOAA Coastwatch Erddap server](https://coastwatch.pfeg.noaa.gov/erddapinfo/index.html).\n",
        "\n",
        "One of the big advantages of ERDDAP is that it provides data in CSV format (among many others).  Using the Python [pandas](https://pandas.pydata.org) library, we can easily load any CSV file available on the internet or on our machine.  And with [matplotlib](https://matplotlib.org/stable/index.html) we can plot the results.  Thus, this example provides the basics for creating simple data plots in Python from any CSV file you might have."
      ]
    },
    {
      "cell_type": "code",
      "metadata": {
        "id": "zmaKlXFCiUZc"
      },
      "source": [
        "# Notebook setup - Let's load some libraries\n",
        "import pandas as pd\n",
        "import matplotlib.pyplot as plt"
      ],
      "execution_count": null,
      "outputs": []
    },
    {
      "cell_type": "markdown",
      "metadata": {
        "id": "tUBuJa1ziTyE"
      },
      "source": [
        "First we need to specify the data url that will give us a CSV file.  \n",
        "\n",
        "You can customize the data url on this page;\n",
        "https://coastwatch.pfeg.noaa.gov/erddap/tabledap/cwwcNDBCMet.html"
      ]
    },
    {
      "cell_type": "code",
      "metadata": {
        "id": "9qh0QJZOg1l0"
      },
      "source": [
        "# Let's specify our Dataset URL\n",
        "url = 'https://coastwatch.pfeg.noaa.gov/erddap/tabledap/cwwcNDBCMet.csv?station%2Clongitude%2Clatitude%2Ctime%2Cwd%2Cwspd%2Cgst%2Cwvht%2Cdpd%2Capd%2Cmwd%2Cbar%2Catmp%2Cwtmp%2Cdewp%2Cvis%2Cptdy%2Ctide%2Cwspu%2Cwspv&station=%2244025%22&time%3E=2019-01-01&time%3C=2020-01-01'"
      ],
      "execution_count": null,
      "outputs": []
    },
    {
      "cell_type": "markdown",
      "metadata": {
        "id": "TaBi7-LH8A2u"
      },
      "source": [
        "For this exmaple, I've specified a single station ([Station 44025](https://www.ndbc.noaa.gov/station_page.php?station=44025)) and the date range 2019-01-01 to 2020-01-01.\n",
        "\n",
        "Note, there are three kinds of CSV downloads available.  I've chosen `.csv` which includes the variable names in line 1 and the units in line 2.  I will skip line 2 when loading."
      ]
    },
    {
      "cell_type": "code",
      "metadata": {
        "id": "NuNR-4QHjS_2"
      },
      "source": [
        "# Load the Data\n",
        "data = pd.read_csv(url,skiprows=[1], parse_dates=['time'], index_col='time')"
      ],
      "execution_count": null,
      "outputs": []
    },
    {
      "cell_type": "markdown",
      "metadata": {
        "id": "qXiXOL030aEO"
      },
      "source": [
        "By default, if you specify a variable in the last line of a code cell, you will see some sort of print out of what the variable is, though what you see depends greatly on the *type* of object it is.\n",
        "\n",
        "Pandas provides a few commands to help you understand what your dataset looks like.\n",
        "* `data.head()` - You can also specify the number of rows as `data.head(2)`\n",
        "* `data.tail()`\n",
        "* `data.size`\n",
        "* `data.shape`\n",
        "* `data.sample()`\n",
        "* `data.keys()`\n",
        "\n"
      ]
    },
    {
      "cell_type": "code",
      "metadata": {
        "id": "r6FVXVTBj1dO"
      },
      "source": [
        "# data.head()"
      ],
      "execution_count": null,
      "outputs": []
    },
    {
      "cell_type": "markdown",
      "metadata": {
        "id": "YuzYOy4Z1-5f"
      },
      "source": [
        "Pandas also provides a number of commands to quickly calculate a number of common statistics.\n",
        "\n",
        "You can use `data.describe()` to get several calculations at once in a nice table.  \n",
        "\n",
        "Or you can use `mean()`, `std()`, `count()`, `min()` and `max()` to get specific statistics for the entire table or specific variables."
      ]
    },
    {
      "cell_type": "code",
      "metadata": {
        "id": "LrluDvvq18J1"
      },
      "source": [
        "# data.describe() # Full table\n",
        "# data.mean() # Means for all columns\n",
        "# data['wtmp'].mean() # Mean for just water temp\n",
        "# data.wtmp.mean()  # Another format for mean water temp"
      ],
      "execution_count": null,
      "outputs": []
    },
    {
      "cell_type": "markdown",
      "metadata": {
        "id": "WBagi06v3NG_"
      },
      "source": [
        "## A Quick Plot\n",
        "Now that we have some data loaded, let's make some plots.\n",
        "\n",
        "We can easily use the matplotlib library to create a basic X/Y plot with `plt.plot(x,y)`."
      ]
    },
    {
      "cell_type": "code",
      "metadata": {
        "id": "bH-YKweyjWVm"
      },
      "source": [
        "plt.plot(data.index,data.atmp);"
      ],
      "execution_count": null,
      "outputs": []
    },
    {
      "cell_type": "markdown",
      "metadata": {
        "id": "xikH5TFB3ooF"
      },
      "source": [
        "That's nice.\n",
        "\n",
        "But we've forgotten the first rule in Data Visualization...\n",
        "\n",
        "## Label your Graphs!!!\n",
        "Thankfully, Matplotlib provides quite a few ways to customize your plot.  Here are a few quick things we can add.\n",
        "* Axis Title: `plt.title('Title')`\n",
        "* Axes Labels: `plt.xlabel('Time')` or `plt.ylabel('Temperature')`\n",
        "* Axes Limits: `plt.ylim([-5,5])`\n",
        "* Add a Legend: `plt.legend()`.  This is helpful when you plot more than one graph on the same axis.  For this to work, you will need to add `label='NAME'` to your plot commands.\n",
        "\n",
        "This just scratches the surface.  There are several more examples and references in [this tutorial](https://github.com/ooi-data-lab/data-lab-workshops/blob/master/Other_Examples/OH2020_Python_Basics.ipynb)."
      ]
    },
    {
      "cell_type": "code",
      "metadata": {
        "id": "qvdRHpXmlLQv"
      },
      "source": [
        "# Example Plot\n",
        "plt.figure(figsize=(8,6)) # Let's make the figure bigger\n",
        "\n",
        "plt.plot(data.index, data['atmp'], label='Air Temperature', c='#e41a1c');\n",
        "plt.plot(data.index, data['wtmp'], label='Water Temperature', c='#377eb8'); # Add a 2nd plot to the same graph\n",
        "\n",
        "plt.legend() # Add a legend\n",
        "plt.ylabel('Temperature (°C)')\n",
        "plt.title('Tempetaure at NDBC Station 44025', fontweight='bold', fontsize=12);"
      ],
      "execution_count": null,
      "outputs": []
    },
    {
      "cell_type": "markdown",
      "metadata": {
        "id": "gpUZjfhP6vTx"
      },
      "source": [
        "## Creating Subplots\n",
        "Finally, let's do a quick example that shows how to create 2 plots in the same figure.  \n",
        "\n",
        "For this example, we will load the first 2 weeks of February for [Station 44077](https://www.ndbc.noaa.gov/station_page.php?station=44077)."
      ]
    },
    {
      "cell_type": "code",
      "metadata": {
        "id": "tQjDij4I6J3F"
      },
      "source": [
        "url = 'https://coastwatch.pfeg.noaa.gov/erddap/tabledap/cwwcNDBCMet.csv?station%2Clongitude%2Clatitude%2Ctime%2Cwd%2Cwspd%2Cgst%2Cwvht%2Cdpd%2Capd%2Cmwd%2Cbar%2Catmp%2Cwtmp%2Cdewp%2Cvis%2Cptdy%2Ctide%2Cwspu%2Cwspv&station=%2244077%22&time%3E=2021-02-01&time%3C=2021-02-15'"
      ],
      "execution_count": null,
      "outputs": []
    },
    {
      "cell_type": "code",
      "metadata": {
        "id": "iTzDUz-D6J9M"
      },
      "source": [
        "# Load the Data\n",
        "data = pd.read_csv(url,skiprows=[1], parse_dates=['time'], index_col='time')"
      ],
      "execution_count": null,
      "outputs": []
    },
    {
      "cell_type": "code",
      "metadata": {
        "id": "Zb6P-PTa6KA4"
      },
      "source": [
        "# Plot\n",
        "fig,(ax1,ax2,ax3) = plt.subplots(3,1, sharex=True, figsize=(8,6) ) # Let's create 3 subplots, and also make the figure bigger\n",
        "\n",
        "ax1.plot(data.index, data['atmp'], label='Air Temperature');\n",
        "ax1.plot(data.index, data['wtmp'], label='Water Temperature');\n",
        "ax1.legend()\n",
        "ax1.set_ylabel('Temperature (°C)')\n",
        "ax1.set_title('NDBC Station 44077', fontweight='bold', fontsize=12);\n",
        "\n",
        "ax2.plot(data.index, data['bar'], label='Barometric Pressure');\n",
        "ax2.set_ylabel('Pressure (hPa)')\n",
        "\n",
        "ax3.plot(data.index, data['wspd'], label='Wind Speed');\n",
        "ax3.set_ylabel('Wind Speed (m/s)');\n",
        "\n",
        "plt.savefig('ndbc_test.png') # Save the figure to a file"
      ],
      "execution_count": null,
      "outputs": []
    },
    {
      "cell_type": "markdown",
      "metadata": {
        "id": "8JzsXmTD5p_R"
      },
      "source": [
        "## Your Turn\n",
        "Using the few lines of code above, try to create your own plots.\n",
        "\n",
        "Here are some things you can try:\n",
        "* Try a different [NDBC station](https://www.ndbc.noaa.gov).  You can use the map on their site to find one in a region that interests you.  (Not all sites may have data.)\n",
        "* Select a different time range to plot.  Maybe a month, a season, or a full year.\n",
        "* Plot different variables against each other, like winds vs. waves, or air vs. water temperatures.\n",
        "* Create a plot that compares timeseries plots of different variables (e.g. using sub plots)\n",
        "* Load 2 or 3 different stations and plot the data together."
      ]
    },
    {
      "cell_type": "code",
      "metadata": {
        "id": "FXJUESn98fbc"
      },
      "source": [
        ""
      ],
      "execution_count": null,
      "outputs": []
    },
    {
      "cell_type": "code",
      "metadata": {
        "id": "5MmgVwW5LfA2"
      },
      "source": [
        ""
      ],
      "execution_count": null,
      "outputs": []
    },
    {
      "cell_type": "code",
      "metadata": {
        "id": "CYZz3ccgLfDR"
      },
      "source": [
        ""
      ],
      "execution_count": null,
      "outputs": []
    }
  ]
}
