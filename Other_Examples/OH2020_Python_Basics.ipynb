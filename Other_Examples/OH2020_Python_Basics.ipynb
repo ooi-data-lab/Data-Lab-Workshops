{
  "nbformat": 4,
  "nbformat_minor": 0,
  "metadata": {
    "colab": {
      "name": "OH2020 Python Basics.ipynb",
      "provenance": [],
      "collapsed_sections": [],
      "toc_visible": true
    },
    "kernelspec": {
      "name": "python3",
      "display_name": "Python 3"
    }
  },
  "cells": [
    {
      "cell_type": "markdown",
      "metadata": {
        "id": "QxxH0AcX15bs",
        "colab_type": "text"
      },
      "source": [
        "# A Quick Intro to Using Python for Oceanography\n",
        "**Oceanography House Fall 2020**\n",
        "\n",
        "*Written by Sage Lichtenwalner, Rutgers University, September 23, 2020*\n",
        "\n",
        "Welcome to Python!  In this notebook, we will demonstrate how you can quickly get started programming in Python, using Google's cool [Colaboratory](https://colab.research.google.com) platform. Colab is basically a free service that can run *Python/Jupyter notebooks* in the cloud.\n",
        "\n",
        "We will only cover a few basics. If you want to lean more, there are lots of other resources and training sessions out there, including the official [Python Tutorial](https://docs.python.org/3/tutorial/).  But as an oceanographer, you don't really need to know all the ins-and-outs of programming, especially when just starting out.  \n",
        "\n",
        "The best way to learn is to play with existing examples written by others (what I often call *recipes*).  When you get stuck, remember Google is your friend, but it may also be helpful to take the time to learn more about how functions, Objects, and arrays work, in addition to learning more about the various libraries you are using - most of which have very nice tutorials available.\n",
        "\n",
        "But enough of that, let's get started."
      ]
    },
    {
      "cell_type": "markdown",
      "metadata": {
        "id": "uHXHmHwv--ww",
        "colab_type": "text"
      },
      "source": [
        "## Getting Started with Colab\n",
        "\n",
        "Jupyter notebooks have two kids of cells.  \n",
        "* **Text** cells, like this one which can contain formatted text using [Markdown](https://colab.research.google.com/notebooks/markdown_guide.ipynb) syntax\n",
        "* And **Code** cells, which contain the code you will run.\n",
        "\n",
        "To execute the code in a cell, you can:\n",
        "* click the **Play** icon on the left\n",
        "* type **Cmd (or Ctrl) + Enter** to run the cell in place \n",
        "* or type **Shift + Enter** to run the cell and move the focus to the next cell.\n",
        "\n",
        "Go ahead and try all these options on our first *very elaborate* pieces of code in the next few cells.  After you execute a cell, the result will automatically display underneath it.  If you rerun the cell, the output will be regenerated."
      ]
    },
    {
      "cell_type": "code",
      "metadata": {
        "id": "gQSi2cI9_EZG",
        "colab_type": "code",
        "colab": {
          "base_uri": "https://localhost:8080/",
          "height": 34
        },
        "outputId": "894a0152-03d1-41ca-959f-5a9becf813d1"
      },
      "source": [
        "2+2"
      ],
      "execution_count": 1,
      "outputs": [
        {
          "output_type": "execute_result",
          "data": {
            "text/plain": [
              "4"
            ]
          },
          "metadata": {
            "tags": []
          },
          "execution_count": 1
        }
      ]
    },
    {
      "cell_type": "code",
      "metadata": {
        "id": "0a6RP0OvBGpl",
        "colab_type": "code",
        "colab": {
          "base_uri": "https://localhost:8080/",
          "height": 34
        },
        "outputId": "b9530df2-f250-4671-8d29-b0f76fb95613"
      },
      "source": [
        "print(\"Hello, world!\")"
      ],
      "execution_count": 2,
      "outputs": [
        {
          "output_type": "stream",
          "text": [
            "Hello, world!\n"
          ],
          "name": "stdout"
        }
      ]
    },
    {
      "cell_type": "code",
      "metadata": {
        "id": "Dvqpvyi2BKOv",
        "colab_type": "code",
        "colab": {}
      },
      "source": [
        "# This is a comment"
      ],
      "execution_count": 3,
      "outputs": []
    },
    {
      "cell_type": "markdown",
      "metadata": {
        "id": "U9BweOkrFcf_",
        "colab_type": "text"
      },
      "source": [
        "As you work on notebooks, you can add your own comments or text blocks to save your thoughts and notes."
      ]
    },
    {
      "cell_type": "code",
      "metadata": {
        "id": "wYHhEJnwBnsY",
        "colab_type": "code",
        "colab": {}
      },
      "source": [
        "# Your Turn: Create your own print() command here that outputs your name\n"
      ],
      "execution_count": 4,
      "outputs": []
    },
    {
      "cell_type": "markdown",
      "metadata": {
        "colab_type": "text",
        "id": "i4k796DieJ0_"
      },
      "source": [
        "**Sidebar: A note about print()**\n",
        "\n",
        "* By default, a Colab/Jupyter notebooks will print out the output from the last line, so you don't have to specify the `print()` command.\n",
        "* However, if we want to output the results from additional lines (as we do below), we need to use `print()` on each line.\n",
        "* You can suppress the output from the last line by adding a semi-colon `;` at the end of the line."
      ]
    },
    {
      "cell_type": "code",
      "metadata": {
        "id": "hP7VTnDB_dRh",
        "colab_type": "code",
        "colab": {
          "base_uri": "https://localhost:8080/",
          "height": 34
        },
        "outputId": "4e321f9d-58c3-40e9-dbd6-9ebbde2fe60d"
      },
      "source": [
        "3\n",
        "4\n",
        "5"
      ],
      "execution_count": 5,
      "outputs": [
        {
          "output_type": "execute_result",
          "data": {
            "text/plain": [
              "5"
            ]
          },
          "metadata": {
            "tags": []
          },
          "execution_count": 5
        }
      ]
    },
    {
      "cell_type": "code",
      "metadata": {
        "colab_type": "code",
        "id": "rbULmpXCFJIZ",
        "colab": {
          "base_uri": "https://localhost:8080/",
          "height": 68
        },
        "outputId": "178674c3-2e99-403c-a75c-11efdf9b475e"
      },
      "source": [
        "print(3)\n",
        "print(4)\n",
        "print(5)"
      ],
      "execution_count": 6,
      "outputs": [
        {
          "output_type": "stream",
          "text": [
            "3\n",
            "4\n",
            "5\n"
          ],
          "name": "stdout"
        }
      ]
    },
    {
      "cell_type": "markdown",
      "metadata": {
        "id": "Jr_Htihg_E7B",
        "colab_type": "text"
      },
      "source": [
        "## Some Python Basics\n",
        "Let's review a few basic features of programming.  "
      ]
    },
    {
      "cell_type": "markdown",
      "metadata": {
        "id": "BeN7j0XR3Rpa",
        "colab_type": "text"
      },
      "source": [
        "### Basic Math\n",
        "First, it's great for math like addition (+), subtraction (-), multiplication (\\*), division (/) and exponentials (**)."
      ]
    },
    {
      "cell_type": "code",
      "metadata": {
        "id": "NlDw--ocCZ28",
        "colab_type": "code",
        "colab": {
          "base_uri": "https://localhost:8080/",
          "height": 34
        },
        "outputId": "26aa503d-2ad7-4096-8e48-895f4e49f1d0"
      },
      "source": [
        "# Your Turn: Try some math here\n",
        "5*2"
      ],
      "execution_count": 7,
      "outputs": [
        {
          "output_type": "execute_result",
          "data": {
            "text/plain": [
              "10"
            ]
          },
          "metadata": {
            "tags": []
          },
          "execution_count": 7
        }
      ]
    },
    {
      "cell_type": "markdown",
      "metadata": {
        "id": "1THCSL0kCbYF",
        "colab_type": "text"
      },
      "source": [
        "The *order of operations* is also important to get right.  Try each of the following lines to see the result."
      ]
    },
    {
      "cell_type": "code",
      "metadata": {
        "id": "k5YEVycoCdco",
        "colab_type": "code",
        "colab": {}
      },
      "source": [
        "# print(5 * 2 + 3)\n",
        "# print(5 * (2+3))\n",
        "# print((5 * 2) + 3)"
      ],
      "execution_count": 8,
      "outputs": []
    },
    {
      "cell_type": "markdown",
      "metadata": {
        "id": "Xt2pgXeNqFr0",
        "colab_type": "text"
      },
      "source": [
        "Can you solve this equation in Python?\n",
        "\n",
        "$\\frac{\\frac{10x9x8x7x6}{5}+(4x3)}{2+1}$\n",
        "\n",
        "\n"
      ]
    },
    {
      "cell_type": "code",
      "metadata": {
        "id": "wT22BB9MqEKj",
        "colab_type": "code",
        "colab": {}
      },
      "source": [
        "# Your Turn"
      ],
      "execution_count": 9,
      "outputs": []
    },
    {
      "cell_type": "markdown",
      "metadata": {
        "id": "nE9GQeevCveA",
        "colab_type": "text"
      },
      "source": [
        "### Variables"
      ]
    },
    {
      "cell_type": "code",
      "metadata": {
        "id": "3Fao5FUxA8Me",
        "colab_type": "code",
        "colab": {}
      },
      "source": [
        "# We can eailsy assign variables, just like in other languages\n",
        "x = 4\n",
        "y = 2.5"
      ],
      "execution_count": 10,
      "outputs": []
    },
    {
      "cell_type": "code",
      "metadata": {
        "id": "Cv6oBNDLA91Q",
        "colab_type": "code",
        "colab": {
          "base_uri": "https://localhost:8080/",
          "height": 51
        },
        "outputId": "9537af34-c709-4e3f-d2b5-ff73f0469c78"
      },
      "source": [
        "# And we can use them in our formulas\n",
        "print(x + y)\n",
        "print(x/y)"
      ],
      "execution_count": 11,
      "outputs": [
        {
          "output_type": "stream",
          "text": [
            "6.5\n",
            "1.6\n"
          ],
          "name": "stdout"
        }
      ]
    },
    {
      "cell_type": "code",
      "metadata": {
        "id": "2_x4zV7LFCcs",
        "colab_type": "code",
        "colab": {
          "base_uri": "https://localhost:8080/",
          "height": 51
        },
        "outputId": "8de2ab4f-3362-47b0-b8be-6b23760ecd94"
      },
      "source": [
        "# What kind of objects are these?\n",
        "print(type(x))\n",
        "print(type(y))"
      ],
      "execution_count": 12,
      "outputs": [
        {
          "output_type": "stream",
          "text": [
            "<class 'int'>\n",
            "<class 'float'>\n"
          ],
          "name": "stdout"
        }
      ]
    },
    {
      "cell_type": "markdown",
      "metadata": {
        "id": "dsC7Jg4RML9M",
        "colab_type": "text"
      },
      "source": [
        "Note, that when you run code in a Notebook, the **variables in memory are based on the order that you run the cells**, not the order that they show up on the page.  As you work on code, you may override variables as you bounce around your notebook.  This is why it's always best to run your notebook *from the top* before you share it to make sure everything works as expected.\n",
        "\n",
        "**Tip**: You can find out what variables are loaded in memory by using the command `whos`."
      ]
    },
    {
      "cell_type": "code",
      "metadata": {
        "id": "eDPD4t0mMisq",
        "colab_type": "code",
        "colab": {
          "base_uri": "https://localhost:8080/",
          "height": 85
        },
        "outputId": "98a5ff6d-bb28-47bd-b6d9-94b50e93be52"
      },
      "source": [
        "whos"
      ],
      "execution_count": 13,
      "outputs": [
        {
          "output_type": "stream",
          "text": [
            "Variable   Type     Data/Info\n",
            "-----------------------------\n",
            "x          int      4\n",
            "y          float    2.5\n"
          ],
          "name": "stdout"
        }
      ]
    },
    {
      "cell_type": "code",
      "metadata": {
        "id": "4bgsMdN7MqZO",
        "colab_type": "code",
        "colab": {
          "base_uri": "https://localhost:8080/",
          "height": 34
        },
        "outputId": "925bab7d-bcb4-40b1-e714-343ba85c7990"
      },
      "source": [
        "x*y"
      ],
      "execution_count": 14,
      "outputs": [
        {
          "output_type": "execute_result",
          "data": {
            "text/plain": [
              "10.0"
            ]
          },
          "metadata": {
            "tags": []
          },
          "execution_count": 14
        }
      ]
    },
    {
      "cell_type": "code",
      "metadata": {
        "id": "WyUfwzXPMeTz",
        "colab_type": "code",
        "colab": {}
      },
      "source": [
        "# Run this cell, and rerun the above 2 cells to see what happens\n",
        "y = 50"
      ],
      "execution_count": 15,
      "outputs": []
    },
    {
      "cell_type": "markdown",
      "metadata": {
        "id": "AcUxD7ehCxRf",
        "colab_type": "text"
      },
      "source": [
        "### Strings"
      ]
    },
    {
      "cell_type": "code",
      "metadata": {
        "id": "uXF3zKv6_zxt",
        "colab_type": "code",
        "colab": {
          "base_uri": "https://localhost:8080/",
          "height": 37
        },
        "outputId": "350fb372-07a5-4b05-97f2-bd3fd986ed91"
      },
      "source": [
        "# A string needs to be in quotes (single or double)\n",
        "z = 'Oceanography House is great'\n",
        "z"
      ],
      "execution_count": 16,
      "outputs": [
        {
          "output_type": "execute_result",
          "data": {
            "application/vnd.google.colaboratory.intrinsic+json": {
              "type": "string"
            },
            "text/plain": [
              "'Oceanography House is great'"
            ]
          },
          "metadata": {
            "tags": []
          },
          "execution_count": 16
        }
      ]
    },
    {
      "cell_type": "code",
      "metadata": {
        "id": "BK7aIRB7a1oq",
        "colab_type": "code",
        "colab": {
          "base_uri": "https://localhost:8080/",
          "height": 37
        },
        "outputId": "8c3e3e30-e348-4fb6-b94d-b4f1323ab748"
      },
      "source": [
        "# We can subset a string as if it were an array or list\n",
        "z[0:5]"
      ],
      "execution_count": 17,
      "outputs": [
        {
          "output_type": "execute_result",
          "data": {
            "application/vnd.google.colaboratory.intrinsic+json": {
              "type": "string"
            },
            "text/plain": [
              "'Ocean'"
            ]
          },
          "metadata": {
            "tags": []
          },
          "execution_count": 17
        }
      ]
    },
    {
      "cell_type": "code",
      "metadata": {
        "id": "jSjoVPLcAIDW",
        "colab_type": "code",
        "colab": {
          "base_uri": "https://localhost:8080/",
          "height": 181
        },
        "outputId": "9d12237e-383a-41f0-89ea-94797a7074be"
      },
      "source": [
        "# You can't concatenate (add) strings and integers\n",
        "print( z + x )"
      ],
      "execution_count": 18,
      "outputs": [
        {
          "output_type": "error",
          "ename": "TypeError",
          "evalue": "ignored",
          "traceback": [
            "\u001b[0;31m---------------------------------------------------------------------------\u001b[0m",
            "\u001b[0;31mTypeError\u001b[0m                                 Traceback (most recent call last)",
            "\u001b[0;32m<ipython-input-18-45405ff52e40>\u001b[0m in \u001b[0;36m<module>\u001b[0;34m()\u001b[0m\n\u001b[1;32m      1\u001b[0m \u001b[0;31m# You can't concatenate (add) strings and integers\u001b[0m\u001b[0;34m\u001b[0m\u001b[0;34m\u001b[0m\u001b[0;34m\u001b[0m\u001b[0m\n\u001b[0;32m----> 2\u001b[0;31m \u001b[0mprint\u001b[0m\u001b[0;34m(\u001b[0m \u001b[0mz\u001b[0m \u001b[0;34m+\u001b[0m \u001b[0mx\u001b[0m \u001b[0;34m)\u001b[0m\u001b[0;34m\u001b[0m\u001b[0;34m\u001b[0m\u001b[0m\n\u001b[0m",
            "\u001b[0;31mTypeError\u001b[0m: must be str, not int"
          ]
        }
      ]
    },
    {
      "cell_type": "code",
      "metadata": {
        "id": "CtSvgM4yAJe7",
        "colab_type": "code",
        "colab": {
          "base_uri": "https://localhost:8080/",
          "height": 54
        },
        "outputId": "4034e811-7081-4f2c-b884-db74a1de2341"
      },
      "source": [
        "# But oddly, you can multiply them!\n",
        "print( z * x )"
      ],
      "execution_count": 19,
      "outputs": [
        {
          "output_type": "stream",
          "text": [
            "Oceanography House is greatOceanography House is greatOceanography House is greatOceanography House is great\n"
          ],
          "name": "stdout"
        }
      ]
    },
    {
      "cell_type": "code",
      "metadata": {
        "id": "f1UOtr7HALCG",
        "colab_type": "code",
        "colab": {
          "base_uri": "https://localhost:8080/",
          "height": 34
        },
        "outputId": "3fe16fa4-1fb3-4fcc-be06-3e4319c26bbb"
      },
      "source": [
        "# If you convert an integer into a string, you can then concatenate them\n",
        "print( z + ' ' + str(x) + ' you!' )"
      ],
      "execution_count": 20,
      "outputs": [
        {
          "output_type": "stream",
          "text": [
            "Oceanography House is great 4 you!\n"
          ],
          "name": "stdout"
        }
      ]
    },
    {
      "cell_type": "code",
      "metadata": {
        "id": "-zCETuuXAMqr",
        "colab_type": "code",
        "colab": {}
      },
      "source": [
        "# Another way\n",
        "# print( 'Python is great %s you!' % x )\n",
        "# print( 'Python is great %s you! Just like %s' % (x,z) )"
      ],
      "execution_count": 21,
      "outputs": []
    },
    {
      "cell_type": "markdown",
      "metadata": {
        "id": "MKu7MXYiN6kj",
        "colab_type": "text"
      },
      "source": [
        "## Loading data with Pandas\n",
        "All of the commands above, relied on the basic functionality available in Python.  To do anything more advanced, we will need to load a *library*.\n",
        "\n",
        "One of the most common libraries for data analysis is **[Pandas](https://pandas.pydata.org/)**.  Why?\n",
        "  * It's great for working with \"spreadsheet-like\" tables that have headers and rows of data records\n",
        "  * You can easily load text, CSV or Excel files with it\n",
        "\n",
        "In order to use the functions available in Pandas, we need to import the library into our workspace. We **only need to do this once**. It is also common to give a library a nickname or shortcut, in this case `pd`."
      ]
    },
    {
      "cell_type": "code",
      "metadata": {
        "id": "P8VYNirHPUIc",
        "colab_type": "code",
        "colab": {}
      },
      "source": [
        "import pandas as pd"
      ],
      "execution_count": 22,
      "outputs": []
    },
    {
      "cell_type": "markdown",
      "metadata": {
        "id": "OhQ62DH8PQkK",
        "colab_type": "text"
      },
      "source": [
        "Let's start having some fun with some actual ocean data which I happen to have in a CSV file.  \n",
        "* If your CSV is on the web, you can load it directly using the URL.  \n",
        "* If you have your own file, you can upload it to your Colab server using the *Files* tab on the left (though you will have to do this each time Colab restarts).\n",
        "\n",
        "We can a simple CSV file from the web using the `read_csv()` function. "
      ]
    },
    {
      "cell_type": "code",
      "metadata": {
        "id": "Njk2CvRAPXgS",
        "colab_type": "code",
        "colab": {}
      },
      "source": [
        "url = 'https://marine.rutgers.edu/~sage/OOI_Data_Workshops/CP02PMUO_R9_ar24011.csv'"
      ],
      "execution_count": 23,
      "outputs": []
    },
    {
      "cell_type": "code",
      "metadata": {
        "id": "jqzaggvlPZCu",
        "colab_type": "code",
        "colab": {}
      },
      "source": [
        "data = pd.read_csv(url)"
      ],
      "execution_count": 24,
      "outputs": []
    },
    {
      "cell_type": "markdown",
      "metadata": {
        "id": "RVaU1ufUPaPM",
        "colab_type": "text"
      },
      "source": [
        "Our data is now loaded in the variable **`data`**. \n",
        "\n",
        "To see what we've loaded, we could simply print out the variable. But pandas include the **function** `.head()` which nicely prints out the first 5 rows. You could also use `.tail()` command to print out the last 5 rows.  You can also specify a different number of rows, by passing an integer as a paremeter into these functions, for example try `data.head(9)"
      ]
    },
    {
      "cell_type": "code",
      "metadata": {
        "id": "-gcoMayePbJj",
        "colab_type": "code",
        "colab": {
          "base_uri": "https://localhost:8080/",
          "height": 204
        },
        "outputId": "ee045690-5503-42bc-91ee-596fb824686f"
      },
      "source": [
        "# Your turn\n",
        "data.head()"
      ],
      "execution_count": 25,
      "outputs": [
        {
          "output_type": "execute_result",
          "data": {
            "text/html": [
              "<div>\n",
              "<style scoped>\n",
              "    .dataframe tbody tr th:only-of-type {\n",
              "        vertical-align: middle;\n",
              "    }\n",
              "\n",
              "    .dataframe tbody tr th {\n",
              "        vertical-align: top;\n",
              "    }\n",
              "\n",
              "    .dataframe thead th {\n",
              "        text-align: right;\n",
              "    }\n",
              "</style>\n",
              "<table border=\"1\" class=\"dataframe\">\n",
              "  <thead>\n",
              "    <tr style=\"text-align: right;\">\n",
              "      <th></th>\n",
              "      <th>Depth</th>\n",
              "      <th>Pressure</th>\n",
              "      <th>Temperature</th>\n",
              "      <th>Salinity</th>\n",
              "      <th>Density</th>\n",
              "      <th>Fluorescence</th>\n",
              "      <th>Turbidity</th>\n",
              "      <th>Oxygen</th>\n",
              "    </tr>\n",
              "  </thead>\n",
              "  <tbody>\n",
              "    <tr>\n",
              "      <th>0</th>\n",
              "      <td>14</td>\n",
              "      <td>14.109</td>\n",
              "      <td>20.0267</td>\n",
              "      <td>34.7221</td>\n",
              "      <td>1521.47</td>\n",
              "      <td>0.0072</td>\n",
              "      <td>0.3726</td>\n",
              "      <td>34.7187</td>\n",
              "    </tr>\n",
              "    <tr>\n",
              "      <th>1</th>\n",
              "      <td>15</td>\n",
              "      <td>15.116</td>\n",
              "      <td>20.0913</td>\n",
              "      <td>34.7772</td>\n",
              "      <td>1521.73</td>\n",
              "      <td>-0.0245</td>\n",
              "      <td>0.3700</td>\n",
              "      <td>34.7693</td>\n",
              "    </tr>\n",
              "    <tr>\n",
              "      <th>2</th>\n",
              "      <td>16</td>\n",
              "      <td>16.124</td>\n",
              "      <td>20.2141</td>\n",
              "      <td>34.8684</td>\n",
              "      <td>1522.19</td>\n",
              "      <td>-0.0361</td>\n",
              "      <td>0.3785</td>\n",
              "      <td>34.8652</td>\n",
              "    </tr>\n",
              "    <tr>\n",
              "      <th>3</th>\n",
              "      <td>17</td>\n",
              "      <td>17.132</td>\n",
              "      <td>20.3139</td>\n",
              "      <td>34.9335</td>\n",
              "      <td>1522.55</td>\n",
              "      <td>-0.0401</td>\n",
              "      <td>0.3759</td>\n",
              "      <td>34.9386</td>\n",
              "    </tr>\n",
              "    <tr>\n",
              "      <th>4</th>\n",
              "      <td>18</td>\n",
              "      <td>18.140</td>\n",
              "      <td>20.4459</td>\n",
              "      <td>35.0250</td>\n",
              "      <td>1523.03</td>\n",
              "      <td>-0.0509</td>\n",
              "      <td>0.3744</td>\n",
              "      <td>35.0229</td>\n",
              "    </tr>\n",
              "  </tbody>\n",
              "</table>\n",
              "</div>"
            ],
            "text/plain": [
              "   Depth  Pressure  Temperature  ...  Fluorescence  Turbidity   Oxygen\n",
              "0     14    14.109      20.0267  ...        0.0072     0.3726  34.7187\n",
              "1     15    15.116      20.0913  ...       -0.0245     0.3700  34.7693\n",
              "2     16    16.124      20.2141  ...       -0.0361     0.3785  34.8652\n",
              "3     17    17.132      20.3139  ...       -0.0401     0.3759  34.9386\n",
              "4     18    18.140      20.4459  ...       -0.0509     0.3744  35.0229\n",
              "\n",
              "[5 rows x 8 columns]"
            ]
          },
          "metadata": {
            "tags": []
          },
          "execution_count": 25
        }
      ]
    },
    {
      "cell_type": "markdown",
      "metadata": {
        "id": "rEi-Uuo6QTjn",
        "colab_type": "text"
      },
      "source": [
        "### Extracting columns\n",
        "Because our dataset has nicely named columns (which were included in the first line of the CSV file), if we want just a single column, we call it like this.\n"
      ]
    },
    {
      "cell_type": "code",
      "metadata": {
        "id": "hnWqXFc-QW20",
        "colab_type": "code",
        "colab": {
          "base_uri": "https://localhost:8080/",
          "height": 119
        },
        "outputId": "c64b7310-e4b1-4326-9b0f-ed4d9aef33f0"
      },
      "source": [
        "data['Depth'].head()"
      ],
      "execution_count": 26,
      "outputs": [
        {
          "output_type": "execute_result",
          "data": {
            "text/plain": [
              "0    14\n",
              "1    15\n",
              "2    16\n",
              "3    17\n",
              "4    18\n",
              "Name: Depth, dtype: int64"
            ]
          },
          "metadata": {
            "tags": []
          },
          "execution_count": 26
        }
      ]
    },
    {
      "cell_type": "code",
      "metadata": {
        "id": "QkMDx4ybQZO2",
        "colab_type": "code",
        "colab": {
          "base_uri": "https://localhost:8080/",
          "height": 204
        },
        "outputId": "703a3c25-4576-4291-a2da-04c7dcd5bc4a"
      },
      "source": [
        "# Extract 2 columns, notice the double [[]]\n",
        "data[['Depth','Temperature']].head()"
      ],
      "execution_count": 27,
      "outputs": [
        {
          "output_type": "execute_result",
          "data": {
            "text/html": [
              "<div>\n",
              "<style scoped>\n",
              "    .dataframe tbody tr th:only-of-type {\n",
              "        vertical-align: middle;\n",
              "    }\n",
              "\n",
              "    .dataframe tbody tr th {\n",
              "        vertical-align: top;\n",
              "    }\n",
              "\n",
              "    .dataframe thead th {\n",
              "        text-align: right;\n",
              "    }\n",
              "</style>\n",
              "<table border=\"1\" class=\"dataframe\">\n",
              "  <thead>\n",
              "    <tr style=\"text-align: right;\">\n",
              "      <th></th>\n",
              "      <th>Depth</th>\n",
              "      <th>Temperature</th>\n",
              "    </tr>\n",
              "  </thead>\n",
              "  <tbody>\n",
              "    <tr>\n",
              "      <th>0</th>\n",
              "      <td>14</td>\n",
              "      <td>20.0267</td>\n",
              "    </tr>\n",
              "    <tr>\n",
              "      <th>1</th>\n",
              "      <td>15</td>\n",
              "      <td>20.0913</td>\n",
              "    </tr>\n",
              "    <tr>\n",
              "      <th>2</th>\n",
              "      <td>16</td>\n",
              "      <td>20.2141</td>\n",
              "    </tr>\n",
              "    <tr>\n",
              "      <th>3</th>\n",
              "      <td>17</td>\n",
              "      <td>20.3139</td>\n",
              "    </tr>\n",
              "    <tr>\n",
              "      <th>4</th>\n",
              "      <td>18</td>\n",
              "      <td>20.4459</td>\n",
              "    </tr>\n",
              "  </tbody>\n",
              "</table>\n",
              "</div>"
            ],
            "text/plain": [
              "   Depth  Temperature\n",
              "0     14      20.0267\n",
              "1     15      20.0913\n",
              "2     16      20.2141\n",
              "3     17      20.3139\n",
              "4     18      20.4459"
            ]
          },
          "metadata": {
            "tags": []
          },
          "execution_count": 27
        }
      ]
    },
    {
      "cell_type": "markdown",
      "metadata": {
        "id": "AgmrCTLLQbDm",
        "colab_type": "text"
      },
      "source": [
        "## Plotting Data\n",
        "Now that we have our data loaded into a pandas DataFrame, we can easily plot it. To do this, we will use the **[Matplotlib](https://matplotlib.org)**`library.\n"
      ]
    },
    {
      "cell_type": "code",
      "metadata": {
        "id": "Nns0H1hgc7YL",
        "colab_type": "code",
        "colab": {}
      },
      "source": [
        "import matplotlib.pyplot as plt"
      ],
      "execution_count": 28,
      "outputs": []
    },
    {
      "cell_type": "code",
      "metadata": {
        "id": "lUtuC-soQdIq",
        "colab_type": "code",
        "colab": {
          "base_uri": "https://localhost:8080/",
          "height": 265
        },
        "outputId": "886cb919-c29b-4426-b63a-837537b4229e"
      },
      "source": [
        "# Let's plot the depth column\n",
        "plt.plot(data['Depth']);"
      ],
      "execution_count": 29,
      "outputs": [
        {
          "output_type": "display_data",
          "data": {
            "image/png": "[encoded data removed]",
            "text/plain": [
              "<Figure size 432x288 with 1 Axes>"
            ]
          },
          "metadata": {
            "tags": [],
            "needs_background": "light"
          }
        }
      ]
    },
    {
      "cell_type": "code",
      "metadata": {
        "id": "Nan-g-buQez2",
        "colab_type": "code",
        "colab": {}
      },
      "source": [
        "# Your Turn: Try plotting temperature and the other variables"
      ],
      "execution_count": 30,
      "outputs": []
    },
    {
      "cell_type": "markdown",
      "metadata": {
        "id": "5TKII-qJQgsq",
        "colab_type": "text"
      },
      "source": [
        "Note that each of the above two plots used the \"index\" number of each measurement of the x-axis. That's not that helpful unless we happen to know that each measurement was made regularly spaced in time and we happened to know what that is. \n",
        "\n",
        "So let's try to some better oceanographic plots instead.\n"
      ]
    },
    {
      "cell_type": "code",
      "metadata": {
        "id": "emTh608BQiV7",
        "colab_type": "code",
        "colab": {
          "base_uri": "https://localhost:8080/",
          "height": 265
        },
        "outputId": "517788d4-f1ae-41dc-ea1f-89ee76f8dad5"
      },
      "source": [
        "# Profile Plot: Depth vs. Temperature\n",
        "plt.plot(data['Temperature'], data['Depth']);\n",
        "plt.gca().invert_yaxis(); # Flip the y-axis"
      ],
      "execution_count": 31,
      "outputs": [
        {
          "output_type": "display_data",
          "data": {
            "image/png": "[encoded data removed]",
            "text/plain": [
              "<Figure size 432x288 with 1 Axes>"
            ]
          },
          "metadata": {
            "tags": [],
            "needs_background": "light"
          }
        }
      ]
    },
    {
      "cell_type": "markdown",
      "metadata": {
        "id": "9rW2iqQGfPsX",
        "colab_type": "text"
      },
      "source": [
        "### Label your Graphs!!!\n",
        "Matplotlib provides quite a few ways to customize your plot.\n"
      ]
    },
    {
      "cell_type": "markdown",
      "metadata": {
        "id": "NrSAldO4l3Bx",
        "colab_type": "text"
      },
      "source": [
        "#### Customizing the Axis\n",
        "* Axis Title: `plt.title('Title')`\n",
        "* Legend: `plt.legend()`\n",
        "* Axes Labels: `plt.xlabel('Time')` or `plt.ylabel('Temperature')`\n",
        "* Axes Limits: `plt.ylim([-5,5])`"
      ]
    },
    {
      "cell_type": "markdown",
      "metadata": {
        "id": "l_lf2RR_lmfm",
        "colab_type": "text"
      },
      "source": [
        "#### Customizing Lines\n",
        "Here are some of the more common parameters you will typically use when creating your plot.\n",
        "* linewidth - For example 0.5, 1, 2...\n",
        "* linestyle - For example '-','--', or ':' or other [basic](https://matplotlib.org/api/_as_gen/matplotlib.lines.Line2D.html#matplotlib.lines.Line2D.set_linestyle) or [advanced](https://matplotlib.org/gallery/lines_bars_and_markers/linestyles.html) styles\n",
        "* [color](https://matplotlib.org/gallery/color/named_colors.html)\n",
        "* [marker](https://matplotlib.org/api/markers_api.html#module-matplotlib.markers)\n",
        "* label - The name of the line, used in a legend (see the next section)\n",
        "For reference and inspiration, you can also check out the [Matplotlib Gallery](https://matplotlib.org/gallery/index.html)."
      ]
    },
    {
      "cell_type": "code",
      "metadata": {
        "id": "gmtu_X9NfO0k",
        "colab_type": "code",
        "colab": {
          "base_uri": "https://localhost:8080/",
          "height": 404
        },
        "outputId": "f925ca63-2cb8-4e70-e1a9-80bf386c9703"
      },
      "source": [
        "# Profile Plot: Depth vs. Temperature\n",
        "plt.figure(figsize=(6,6)) # Make it bigger\n",
        "\n",
        "plt.plot(data['Temperature'], data['Depth'], linewidth=3);\n",
        "plt.gca().invert_yaxis(); # Flip the y-axis\n",
        "\n",
        "plt.xlabel('Temperature (°C)')\n",
        "plt.ylabel('Depth (m)');\n",
        "plt.title('Pioneer Array Profile AR24011 - Oct 24, 2017', fontweight='bold', fontsize=12);"
      ],
      "execution_count": 32,
      "outputs": [
        {
          "output_type": "display_data",
          "data": {
            "image/png": "[encoded data removed]",
            "text/plain": [
              "<Figure size 432x432 with 1 Axes>"
            ]
          },
          "metadata": {
            "tags": [],
            "needs_background": "light"
          }
        }
      ]
    },
    {
      "cell_type": "markdown",
      "metadata": {
        "id": "H2nD8zqwlu-z",
        "colab_type": "text"
      },
      "source": [
        "### TS Diagram - Example Scatterplot"
      ]
    },
    {
      "cell_type": "code",
      "metadata": {
        "id": "6W7IzLE1Qlsv",
        "colab_type": "code",
        "colab": {
          "base_uri": "https://localhost:8080/",
          "height": 388
        },
        "outputId": "4c8724c6-dca4-47bc-dc9e-3e513102b1b5"
      },
      "source": [
        "# Let's go crazy!\n",
        "plt.figure(figsize=(8,6))\n",
        "\n",
        "plt.scatter(data=data, x='Salinity', y='Temperature', c='Depth', cmap='viridis_r')\n",
        "\n",
        "plt.xlabel('Salinity');\n",
        "plt.ylabel('Temperature (°C)')\n",
        "\n",
        "cbh = plt.colorbar();\n",
        "cbh.set_label('Depth (m)');"
      ],
      "execution_count": 33,
      "outputs": [
        {
          "output_type": "display_data",
          "data": {
            "image/png": "[encoded data removed]",
            "text/plain": [
              "<Figure size 576x432 with 2 Axes>"
            ]
          },
          "metadata": {
            "tags": [],
            "needs_background": "light"
          }
        }
      ]
    },
    {
      "cell_type": "markdown",
      "metadata": {
        "id": "z44fOYlAna9o",
        "colab_type": "text"
      },
      "source": [
        "### Other Examples"
      ]
    },
    {
      "cell_type": "code",
      "metadata": {
        "id": "jKCysXa6QnXw",
        "colab_type": "code",
        "colab": {
          "base_uri": "https://localhost:8080/",
          "height": 265
        },
        "outputId": "66e15009-2d54-4bb2-d0d2-de1d3549a013"
      },
      "source": [
        "# We can also easily create histograms\n",
        "plt.hist(data['Temperature'], bins=50);"
      ],
      "execution_count": 34,
      "outputs": [
        {
          "output_type": "display_data",
          "data": {
            "image/png": "[encoded data removed]",
            "text/plain": [
              "<Figure size 432x288 with 1 Axes>"
            ]
          },
          "metadata": {
            "tags": [],
            "needs_background": "light"
          }
        }
      ]
    },
    {
      "cell_type": "code",
      "metadata": {
        "id": "Z5h9XdN9QpFf",
        "colab_type": "code",
        "colab": {
          "base_uri": "https://localhost:8080/",
          "height": 265
        },
        "outputId": "143b5e51-f590-4d42-d240-8b84d8bed663"
      },
      "source": [
        "# And boxplots\n",
        "plt.boxplot([data['Temperature'],data['Salinity']], \n",
        "            labels=['Temperature','Salinity'],\n",
        "            vert=False);"
      ],
      "execution_count": 35,
      "outputs": [
        {
          "output_type": "display_data",
          "data": {
            "image/png": "[encoded data removed]",
            "text/plain": [
              "<Figure size 432x288 with 1 Axes>"
            ]
          },
          "metadata": {
            "tags": [],
            "needs_background": "light"
          }
        }
      ]
    },
    {
      "cell_type": "markdown",
      "metadata": {
        "id": "wIa8NUvYQru7",
        "colab_type": "text"
      },
      "source": [
        "We've barely begun to scratch the surface of python's plotting capabilities. There are also a number of libraries that can create interactive data visualization tools. Here's a quick example using [Altair](https://altair-viz.github.io/index.html).\n"
      ]
    },
    {
      "cell_type": "code",
      "metadata": {
        "id": "F3TPLxtMQvil",
        "colab_type": "code",
        "colab": {
          "base_uri": "https://localhost:8080/",
          "height": 368
        },
        "outputId": "ddeaa829-a72b-4335-a505-52577933be78"
      },
      "source": [
        "import altair as alt\n",
        "\n",
        "alt.Chart(data).mark_circle(size=60).encode(\n",
        "    alt.X('Salinity',\n",
        "          scale=alt.Scale(zero=False)\n",
        "    ),\n",
        "    alt.Y('Temperature',\n",
        "          scale=alt.Scale(zero=False)\n",
        "    ),\n",
        "    color='Depth',\n",
        "    tooltip=['Salinity', 'Temperature', 'Depth']\n",
        ").interactive()\n"
      ],
      "execution_count": 36,
      "outputs": [
        {
          "output_type": "execute_result",
          "data": {
            "text/plain": [
              "alt.Chart(...)"
            ],
            "text/html": [
              "\n",
              "<div id=\"altair-viz-7ec6a233daee42b6ae0dca425231124c\"></div>\n",
              "<script type=\"text/javascript\">\n",
              "  (function(spec, embedOpt){\n",
              "    let outputDiv = document.currentScript.previousElementSibling;\n",
              "    if (outputDiv.id !== \"altair-viz-7ec6a233daee42b6ae0dca425231124c\") {\n",
              "      outputDiv = document.getElementById(\"altair-viz-7ec6a233daee42b6ae0dca425231124c\");\n",
              "    }\n",
              "    const paths = {\n",
              "      \"vega\": \"https://cdn.jsdelivr.net/npm//vega@5?noext\",\n",
              "      \"vega-lib\": \"https://cdn.jsdelivr.net/npm//vega-lib?noext\",\n",
              "      \"vega-lite\": \"https://cdn.jsdelivr.net/npm//vega-lite@4.8.1?noext\",\n",
              "      \"vega-embed\": \"https://cdn.jsdelivr.net/npm//vega-embed@6?noext\",\n",
              "    };\n",
              "\n",
              "    function loadScript(lib) {\n",
              "      return new Promise(function(resolve, reject) {\n",
              "        var s = document.createElement('script');\n",
              "        s.src = paths[lib];\n",
              "        s.async = true;\n",
              "        s.onload = () => resolve(paths[lib]);\n",
              "        s.onerror = () => reject(`Error loading script: ${paths[lib]}`);\n",
              "        document.getElementsByTagName(\"head\")[0].appendChild(s);\n",
              "      });\n",
              "    }\n",
              "\n",
              "    function showError(err) {\n",
              "      outputDiv.innerHTML = `<div class=\"error\" style=\"color:red;\">${err}</div>`;\n",
              "      throw err;\n",
              "    }\n",
              "\n",
              "    function displayChart(vegaEmbed) {\n",
              "      vegaEmbed(outputDiv, spec, embedOpt)\n",
              "        .catch(err => showError(`Javascript Error: ${err.message}<br>This usually means there's a typo in your chart specification. See the javascript console for the full traceback.`));\n",
              "    }\n",
              "\n",
              "    if(typeof define === \"function\" && define.amd) {\n",
              "      requirejs.config({paths});\n",
              "      require([\"vega-embed\"], displayChart, err => showError(`Error loading script: ${err.message}`));\n",
              "    } else if (typeof vegaEmbed === \"function\") {\n",
              "      displayChart(vegaEmbed);\n",
              "    } else {\n",
              "      loadScript(\"vega\")\n",
              "        .then(() => loadScript(\"vega-lite\"))\n",
              "        .then(() => loadScript(\"vega-embed\"))\n",
              "        .catch(showError)\n",
              "        .then(() => displayChart(vegaEmbed));\n",
              "    }\n",
              "  })({\"config\": {\"view\": {\"continuousWidth\": 400, \"continuousHeight\": 300}}, \"data\": {\"name\": \"data-e070d7c7391d1a71ac6d53425c009993\"}, \"mark\": {\"type\": \"circle\", \"size\": 60}, \"encoding\": {\"color\": {\"type\": \"quantitative\", \"field\": \"Depth\"}, \"tooltip\": [{\"type\": \"quantitative\", \"field\": \"Salinity\"}, {\"type\": \"quantitative\", \"field\": \"Temperature\"}, {\"type\": \"quantitative\", \"field\": \"Depth\"}], \"x\": {\"type\": \"quantitative\", \"field\": \"Salinity\", \"scale\": {\"zero\": false}}, \"y\": {\"type\": \"quantitative\", \"field\": \"Temperature\", \"scale\": {\"zero\": false}}}, \"selection\": {\"selector001\": {\"type\": \"interval\", \"bind\": \"scales\", \"encodings\": [\"x\", \"y\"]}}, \"$schema\": \"https://vega.github.io/schema/vega-lite/v4.8.1.json\", \"datasets\": {\"data-e070d7c7391d1a71ac6d53425c009993\": [{\"Depth\": 14, \"Pressure\": 14.109000000000002, \"Temperature\": 20.0267, \"Salinity\": 34.7221, \"Density\": 1521.47, \"Fluorescence\": 0.0072, \"Turbidity\": 0.3726, \"Oxygen\": 34.7187}, {\"Depth\": 15, \"Pressure\": 15.116, \"Temperature\": 20.0913, \"Salinity\": 34.7772, \"Density\": 1521.73, \"Fluorescence\": -0.0245, \"Turbidity\": 0.37, \"Oxygen\": 34.7693}, {\"Depth\": 16, \"Pressure\": 16.124000000000002, \"Temperature\": 20.2141, \"Salinity\": 34.8684, \"Density\": 1522.19, \"Fluorescence\": -0.0361, \"Turbidity\": 0.3785, \"Oxygen\": 34.8652}, {\"Depth\": 17, \"Pressure\": 17.132, \"Temperature\": 20.3139, \"Salinity\": 34.9335, \"Density\": 1522.55, \"Fluorescence\": -0.0401, \"Turbidity\": 0.3759, \"Oxygen\": 34.9386}, {\"Depth\": 18, \"Pressure\": 18.14, \"Temperature\": 20.4459, \"Salinity\": 35.025, \"Density\": 1523.03, \"Fluorescence\": -0.0509, \"Turbidity\": 0.3744, \"Oxygen\": 35.0229}, {\"Depth\": 19, \"Pressure\": 19.147000000000002, \"Temperature\": 20.5841, \"Salinity\": 35.1051, \"Density\": 1523.52, \"Fluorescence\": -0.0472, \"Turbidity\": 0.3726, \"Oxygen\": 35.1044}, {\"Depth\": 20, \"Pressure\": 20.155, \"Temperature\": 20.6339, \"Salinity\": 35.143, \"Density\": 1523.71, \"Fluorescence\": -0.0761, \"Turbidity\": 0.3652, \"Oxygen\": 35.1385}, {\"Depth\": 21, \"Pressure\": 21.163, \"Temperature\": 20.6473, \"Salinity\": 35.1498, \"Density\": 1523.77, \"Fluorescence\": -0.0597, \"Turbidity\": 0.3673, \"Oxygen\": 35.1469}, {\"Depth\": 22, \"Pressure\": 22.171, \"Temperature\": 20.648000000000003, \"Salinity\": 35.1497, \"Density\": 1523.79, \"Fluorescence\": -0.0496, \"Turbidity\": 0.3669, \"Oxygen\": 35.1474}, {\"Depth\": 23, \"Pressure\": 23.179000000000002, \"Temperature\": 20.6373, \"Salinity\": 35.1503, \"Density\": 1523.78, \"Fluorescence\": -0.0397, \"Turbidity\": 0.3677, \"Oxygen\": 35.148}, {\"Depth\": 24, \"Pressure\": 24.186999999999998, \"Temperature\": 20.6266, \"Salinity\": 35.1498, \"Density\": 1523.77, \"Fluorescence\": -0.0371, \"Turbidity\": 0.3652, \"Oxygen\": 35.1474}, {\"Depth\": 25, \"Pressure\": 25.194000000000003, \"Temperature\": 20.6071, \"Salinity\": 35.1513, \"Density\": 1523.73, \"Fluorescence\": -0.0227, \"Turbidity\": 0.3677, \"Oxygen\": 35.1487}, {\"Depth\": 26, \"Pressure\": 26.201999999999998, \"Temperature\": 20.58, \"Salinity\": 35.1529, \"Density\": 1523.68, \"Fluorescence\": -0.0169, \"Turbidity\": 0.3637, \"Oxygen\": 35.1508}, {\"Depth\": 27, \"Pressure\": 27.21, \"Temperature\": 20.5561, \"Salinity\": 35.1547, \"Density\": 1523.63, \"Fluorescence\": -0.0091, \"Turbidity\": 0.3629, \"Oxygen\": 35.1523}, {\"Depth\": 28, \"Pressure\": 28.218000000000004, \"Temperature\": 20.5496, \"Salinity\": 35.1553, \"Density\": 1523.63, \"Fluorescence\": -0.0023, \"Turbidity\": 0.3629, \"Oxygen\": 35.1526}, {\"Depth\": 29, \"Pressure\": 29.226, \"Temperature\": 20.5433, \"Salinity\": 35.1548, \"Density\": 1523.63, \"Fluorescence\": -0.0017, \"Turbidity\": 0.36700000000000005, \"Oxygen\": 35.1535}, {\"Depth\": 30, \"Pressure\": 30.234, \"Temperature\": 20.4647, \"Salinity\": 35.1583, \"Density\": 1523.43, \"Fluorescence\": 0.0129, \"Turbidity\": 0.3646, \"Oxygen\": 35.1577}, {\"Depth\": 31, \"Pressure\": 31.241999999999997, \"Temperature\": 20.3632, \"Salinity\": 35.1713, \"Density\": 1523.19, \"Fluorescence\": 0.0604, \"Turbidity\": 0.3669, \"Oxygen\": 35.1682}, {\"Depth\": 32, \"Pressure\": 32.249, \"Temperature\": 20.3577, \"Salinity\": 35.1751, \"Density\": 1523.19, \"Fluorescence\": 0.1161, \"Turbidity\": 0.3681, \"Oxygen\": 35.1721}, {\"Depth\": 33, \"Pressure\": 33.257, \"Temperature\": 20.3123, \"Salinity\": 35.181, \"Density\": 1523.09, \"Fluorescence\": 0.1599, \"Turbidity\": 0.3739, \"Oxygen\": 35.1792}, {\"Depth\": 34, \"Pressure\": 34.265, \"Temperature\": 20.2343, \"Salinity\": 35.1838, \"Density\": 1522.9, \"Fluorescence\": 0.1138, \"Turbidity\": 0.3717, \"Oxygen\": 35.1821}, {\"Depth\": 35, \"Pressure\": 35.273, \"Temperature\": 20.1721, \"Salinity\": 35.1891, \"Density\": 1522.75, \"Fluorescence\": 0.1367, \"Turbidity\": 0.3658, \"Oxygen\": 35.186}, {\"Depth\": 36, \"Pressure\": 36.281, \"Temperature\": 20.1306, \"Salinity\": 35.1895, \"Density\": 1522.65, \"Fluorescence\": 0.1537, \"Turbidity\": 0.3656, \"Oxygen\": 35.1864}, {\"Depth\": 37, \"Pressure\": 37.289, \"Temperature\": 20.0924, \"Salinity\": 35.1849, \"Density\": 1522.56, \"Fluorescence\": 0.1532, \"Turbidity\": 0.3718, \"Oxygen\": 35.1864}, {\"Depth\": 38, \"Pressure\": 38.297, \"Temperature\": 19.8872, \"Salinity\": 35.1988, \"Density\": 1522.02, \"Fluorescence\": 0.1532, \"Turbidity\": 0.3683, \"Oxygen\": 35.2004}, {\"Depth\": 39, \"Pressure\": 39.305, \"Temperature\": 19.7207, \"Salinity\": 35.2206, \"Density\": 1521.6, \"Fluorescence\": 0.1529, \"Turbidity\": 0.3678, \"Oxygen\": 35.2173}, {\"Depth\": 40, \"Pressure\": 40.313, \"Temperature\": 18.6712, \"Salinity\": 35.2274, \"Density\": 1518.65, \"Fluorescence\": 0.2316, \"Turbidity\": 0.3701, \"Oxygen\": 35.2536}, {\"Depth\": 41, \"Pressure\": 41.32, \"Temperature\": 17.7283, \"Salinity\": 35.259, \"Density\": 1515.98, \"Fluorescence\": 0.2491, \"Turbidity\": 0.3682, \"Oxygen\": 35.2571}, {\"Depth\": 42, \"Pressure\": 42.328, \"Temperature\": 17.6242, \"Salinity\": 35.2725, \"Density\": 1515.7, \"Fluorescence\": 0.2217, \"Turbidity\": 0.3678, \"Oxygen\": 35.2672}, {\"Depth\": 43, \"Pressure\": 43.336000000000006, \"Temperature\": 17.6337, \"Salinity\": 35.3313, \"Density\": 1515.81, \"Fluorescence\": 0.1934, \"Turbidity\": 0.3706, \"Oxygen\": 35.3233}, {\"Depth\": 44, \"Pressure\": 44.343999999999994, \"Temperature\": 17.6267, \"Salinity\": 35.3883, \"Density\": 1515.87, \"Fluorescence\": 0.2337, \"Turbidity\": 0.3808, \"Oxygen\": 35.3845}, {\"Depth\": 45, \"Pressure\": 45.352, \"Temperature\": 17.637, \"Salinity\": 35.4474, \"Density\": 1515.99, \"Fluorescence\": 0.2287, \"Turbidity\": 0.3748, \"Oxygen\": 35.4411}, {\"Depth\": 46, \"Pressure\": 46.36, \"Temperature\": 17.6137, \"Salinity\": 35.4818, \"Density\": 1515.97, \"Fluorescence\": 0.2369, \"Turbidity\": 0.3761, \"Oxygen\": 35.4752}, {\"Depth\": 47, \"Pressure\": 47.368, \"Temperature\": 17.5777, \"Salinity\": 35.5042, \"Density\": 1515.91, \"Fluorescence\": 0.2642, \"Turbidity\": 0.3773, \"Oxygen\": 35.5005}, {\"Depth\": 48, \"Pressure\": 48.376000000000005, \"Temperature\": 17.5702, \"Salinity\": 35.5111, \"Density\": 1515.91, \"Fluorescence\": 0.2706, \"Turbidity\": 0.3785, \"Oxygen\": 35.5067}, {\"Depth\": 49, \"Pressure\": 49.38399999999999, \"Temperature\": 17.5639, \"Salinity\": 35.5164, \"Density\": 1515.92, \"Fluorescence\": 0.261, \"Turbidity\": 0.3784, \"Oxygen\": 35.5123}, {\"Depth\": 50, \"Pressure\": 50.391999999999996, \"Temperature\": 17.5632, \"Salinity\": 35.5212, \"Density\": 1515.94, \"Fluorescence\": 0.3277, \"Turbidity\": 0.3876, \"Oxygen\": 35.5168}, {\"Depth\": 51, \"Pressure\": 51.4, \"Temperature\": 17.5556, \"Salinity\": 35.5294, \"Density\": 1515.94, \"Fluorescence\": 0.3093, \"Turbidity\": 0.3873, \"Oxygen\": 35.5268}, {\"Depth\": 52, \"Pressure\": 52.408, \"Temperature\": 17.4859, \"Salinity\": 35.5163, \"Density\": 1515.74, \"Fluorescence\": 0.3095, \"Turbidity\": 0.3919, \"Oxygen\": 35.5158}, {\"Depth\": 53, \"Pressure\": 53.416000000000004, \"Temperature\": 17.4611, \"Salinity\": 35.5207, \"Density\": 1515.69, \"Fluorescence\": 0.2503, \"Turbidity\": 0.3872, \"Oxygen\": 35.5176}, {\"Depth\": 54, \"Pressure\": 54.424, \"Temperature\": 17.433, \"Salinity\": 35.5122, \"Density\": 1515.61, \"Fluorescence\": 0.2657, \"Turbidity\": 0.3873, \"Oxygen\": 35.5108}, {\"Depth\": 55, \"Pressure\": 55.431999999999995, \"Temperature\": 17.3959, \"Salinity\": 35.5153, \"Density\": 1515.52, \"Fluorescence\": 0.2531, \"Turbidity\": 0.3734, \"Oxygen\": 35.5127}, {\"Depth\": 56, \"Pressure\": 56.44, \"Temperature\": 17.2093, \"Salinity\": 35.4798, \"Density\": 1514.94, \"Fluorescence\": 0.2627, \"Turbidity\": 0.3763, \"Oxygen\": 35.4947}, {\"Depth\": 57, \"Pressure\": 57.448, \"Temperature\": 16.8174, \"Salinity\": 35.47, \"Density\": 1513.77, \"Fluorescence\": 0.2474, \"Turbidity\": 0.3822, \"Oxygen\": 35.4805}, {\"Depth\": 58, \"Pressure\": 58.456, \"Temperature\": 16.5477, \"Salinity\": 35.485, \"Density\": 1512.99, \"Fluorescence\": 0.2254, \"Turbidity\": 0.3807, \"Oxygen\": 35.4864}, {\"Depth\": 59, \"Pressure\": 59.464, \"Temperature\": 16.0189, \"Salinity\": 35.5346, \"Density\": 1511.45, \"Fluorescence\": 0.1978, \"Turbidity\": 0.3776, \"Oxygen\": 35.5321}, {\"Depth\": 60, \"Pressure\": 60.472, \"Temperature\": 15.897, \"Salinity\": 35.5601, \"Density\": 1511.13, \"Fluorescence\": 0.2177, \"Turbidity\": 0.3777, \"Oxygen\": 35.555}, {\"Depth\": 61, \"Pressure\": 61.48, \"Temperature\": 15.860999999999999, \"Salinity\": 35.5678, \"Density\": 1511.04, \"Fluorescence\": 0.3029, \"Turbidity\": 0.3935, \"Oxygen\": 35.5638}, {\"Depth\": 62, \"Pressure\": 62.488, \"Temperature\": 15.8142, \"Salinity\": 35.5756, \"Density\": 1510.92, \"Fluorescence\": 0.1712, \"Turbidity\": 0.38799999999999996, \"Oxygen\": 35.5723}, {\"Depth\": 63, \"Pressure\": 63.496, \"Temperature\": 15.7686, \"Salinity\": 35.5849, \"Density\": 1510.81, \"Fluorescence\": 0.1124, \"Turbidity\": 0.3779, \"Oxygen\": 35.5814}, {\"Depth\": 64, \"Pressure\": 64.50399999999999, \"Temperature\": 15.7276, \"Salinity\": 35.594, \"Density\": 1510.71, \"Fluorescence\": 0.11599999999999999, \"Turbidity\": 0.3774, \"Oxygen\": 35.59}, {\"Depth\": 65, \"Pressure\": 65.512, \"Temperature\": 15.702, \"Salinity\": 35.5996, \"Density\": 1510.65, \"Fluorescence\": 0.153, \"Turbidity\": 0.3728, \"Oxygen\": 35.5957}, {\"Depth\": 66, \"Pressure\": 66.52, \"Temperature\": 15.6787, \"Salinity\": 35.6035, \"Density\": 1510.6, \"Fluorescence\": 0.2046, \"Turbidity\": 0.3914, \"Oxygen\": 35.5994}, {\"Depth\": 67, \"Pressure\": 67.528, \"Temperature\": 15.6625, \"Salinity\": 35.6067, \"Density\": 1510.57, \"Fluorescence\": 0.1445, \"Turbidity\": 0.4344, \"Oxygen\": 35.6027}, {\"Depth\": 68, \"Pressure\": 68.536, \"Temperature\": 15.6199, \"Salinity\": 35.6105, \"Density\": 1510.46, \"Fluorescence\": 0.0752, \"Turbidity\": 0.3775, \"Oxygen\": 35.6088}, {\"Depth\": 69, \"Pressure\": 69.544, \"Temperature\": 15.4958, \"Salinity\": 35.6451, \"Density\": 1510.13, \"Fluorescence\": 0.0751, \"Turbidity\": 0.3756, \"Oxygen\": 35.6422}, {\"Depth\": 70, \"Pressure\": 70.55199999999999, \"Temperature\": 15.3921, \"Salinity\": 35.6857, \"Density\": 1509.87, \"Fluorescence\": 0.1024, \"Turbidity\": 0.3725, \"Oxygen\": 35.6815}, {\"Depth\": 71, \"Pressure\": 71.56, \"Temperature\": 15.3589, \"Salinity\": 35.6937, \"Density\": 1509.79, \"Fluorescence\": 0.0795, \"Turbidity\": 0.3771, \"Oxygen\": 35.69}, {\"Depth\": 72, \"Pressure\": 72.568, \"Temperature\": 15.3312, \"Salinity\": 35.6972, \"Density\": 1509.73, \"Fluorescence\": -0.0011, \"Turbidity\": 0.3724, \"Oxygen\": 35.694}, {\"Depth\": 73, \"Pressure\": 73.57600000000001, \"Temperature\": 15.3066, \"Salinity\": 35.6997, \"Density\": 1509.67, \"Fluorescence\": 0.0102, \"Turbidity\": 0.3726, \"Oxygen\": 35.6964}, {\"Depth\": 74, \"Pressure\": 74.584, \"Temperature\": 15.194, \"Salinity\": 35.7218, \"Density\": 1509.36, \"Fluorescence\": 0.0575, \"Turbidity\": 0.3691, \"Oxygen\": 35.7188}, {\"Depth\": 75, \"Pressure\": 75.593, \"Temperature\": 15.0915, \"Salinity\": 35.7369, \"Density\": 1509.07, \"Fluorescence\": 0.0213, \"Turbidity\": 0.3945, \"Oxygen\": 35.7342}, {\"Depth\": 76, \"Pressure\": 76.601, \"Temperature\": 15.0401, \"Salinity\": 35.7447, \"Density\": 1508.94, \"Fluorescence\": -0.023, \"Turbidity\": 0.3719, \"Oxygen\": 35.7419}, {\"Depth\": 77, \"Pressure\": 77.609, \"Temperature\": 15.0027, \"Salinity\": 35.7519, \"Density\": 1508.85, \"Fluorescence\": -0.0404, \"Turbidity\": 0.3679, \"Oxygen\": 35.748000000000005}, {\"Depth\": 78, \"Pressure\": 78.617, \"Temperature\": 14.9958, \"Salinity\": 35.7536, \"Density\": 1508.84, \"Fluorescence\": -0.0353, \"Turbidity\": 0.3654, \"Oxygen\": 35.7494}, {\"Depth\": 79, \"Pressure\": 79.625, \"Temperature\": 14.9937, \"Salinity\": 35.7547, \"Density\": 1508.85, \"Fluorescence\": -0.0251, \"Turbidity\": 0.3699, \"Oxygen\": 35.7508}, {\"Depth\": 80, \"Pressure\": 80.633, \"Temperature\": 14.9752, \"Salinity\": 35.7573, \"Density\": 1508.81, \"Fluorescence\": -0.055, \"Turbidity\": 0.3676, \"Oxygen\": 35.7538}, {\"Depth\": 81, \"Pressure\": 81.641, \"Temperature\": 14.9417, \"Salinity\": 35.7626, \"Density\": 1508.73, \"Fluorescence\": -0.053, \"Turbidity\": 0.3714, \"Oxygen\": 35.7588}, {\"Depth\": 82, \"Pressure\": 82.649, \"Temperature\": 14.9268, \"Salinity\": 35.7634, \"Density\": 1508.7, \"Fluorescence\": -0.0719, \"Turbidity\": 0.3693, \"Oxygen\": 35.7596}, {\"Depth\": 83, \"Pressure\": 83.65700000000001, \"Temperature\": 14.9071, \"Salinity\": 35.7669, \"Density\": 1508.66, \"Fluorescence\": -0.044000000000000004, \"Turbidity\": 0.3756, \"Oxygen\": 35.763000000000005}, {\"Depth\": 84, \"Pressure\": 84.665, \"Temperature\": 14.843, \"Salinity\": 35.7729, \"Density\": 1508.48, \"Fluorescence\": -0.0584, \"Turbidity\": 0.3644, \"Oxygen\": 35.7707}, {\"Depth\": 85, \"Pressure\": 85.67399999999999, \"Temperature\": 14.7875, \"Salinity\": 35.7753, \"Density\": 1508.33, \"Fluorescence\": -0.0982, \"Turbidity\": 0.3641, \"Oxygen\": 35.7715}, {\"Depth\": 86, \"Pressure\": 86.682, \"Temperature\": 14.7573, \"Salinity\": 35.7756, \"Density\": 1508.25, \"Fluorescence\": -0.1204, \"Turbidity\": 0.358, \"Oxygen\": 35.7724}, {\"Depth\": 87, \"Pressure\": 87.69, \"Temperature\": 14.7369, \"Salinity\": 35.7777, \"Density\": 1508.2, \"Fluorescence\": -0.1284, \"Turbidity\": 0.358, \"Oxygen\": 35.774}, {\"Depth\": 88, \"Pressure\": 88.698, \"Temperature\": 14.7281, \"Salinity\": 35.7778, \"Density\": 1508.19, \"Fluorescence\": -0.1398, \"Turbidity\": 0.3609, \"Oxygen\": 35.7742}, {\"Depth\": 89, \"Pressure\": 89.706, \"Temperature\": 14.7132, \"Salinity\": 35.7781, \"Density\": 1508.16, \"Fluorescence\": -0.1281, \"Turbidity\": 0.3586, \"Oxygen\": 35.7744}, {\"Depth\": 90, \"Pressure\": 90.714, \"Temperature\": 14.7006, \"Salinity\": 35.7784, \"Density\": 1508.14, \"Fluorescence\": -0.1083, \"Turbidity\": 0.3658, \"Oxygen\": 35.7748}, {\"Depth\": 91, \"Pressure\": 91.723, \"Temperature\": 14.6856, \"Salinity\": 35.7766, \"Density\": 1508.1, \"Fluorescence\": -0.1282, \"Turbidity\": 0.3657, \"Oxygen\": 35.7742}, {\"Depth\": 92, \"Pressure\": 92.73100000000001, \"Temperature\": 14.6329, \"Salinity\": 35.782, \"Density\": 1507.96, \"Fluorescence\": -0.1642, \"Turbidity\": 0.3583, \"Oxygen\": 35.7794}, {\"Depth\": 93, \"Pressure\": 93.73899999999999, \"Temperature\": 14.6015, \"Salinity\": 35.786, \"Density\": 1507.88, \"Fluorescence\": -0.1638, \"Turbidity\": 0.3562, \"Oxygen\": 35.7827}, {\"Depth\": 94, \"Pressure\": 94.74700000000001, \"Temperature\": 14.588, \"Salinity\": 35.7932, \"Density\": 1507.86, \"Fluorescence\": -0.1621, \"Turbidity\": 0.3579, \"Oxygen\": 35.7905}, {\"Depth\": 95, \"Pressure\": 95.755, \"Temperature\": 14.5521, \"Salinity\": 35.7914, \"Density\": 1507.76, \"Fluorescence\": -0.2162, \"Turbidity\": 0.3519, \"Oxygen\": 35.7882}, {\"Depth\": 96, \"Pressure\": 96.76299999999999, \"Temperature\": 14.5058, \"Salinity\": 35.7856, \"Density\": 1507.63, \"Fluorescence\": -0.2301, \"Turbidity\": 0.3598, \"Oxygen\": 35.7832}, {\"Depth\": 97, \"Pressure\": 97.772, \"Temperature\": 14.4396, \"Salinity\": 35.7751, \"Density\": 1507.42, \"Fluorescence\": -0.2033, \"Turbidity\": 0.3549, \"Oxygen\": 35.7728}, {\"Depth\": 98, \"Pressure\": 98.78, \"Temperature\": 14.4103, \"Salinity\": 35.7731, \"Density\": 1507.34, \"Fluorescence\": -0.2085, \"Turbidity\": 0.3516, \"Oxygen\": 35.7693}, {\"Depth\": 99, \"Pressure\": 99.788, \"Temperature\": 14.3852, \"Salinity\": 35.7692, \"Density\": 1507.27, \"Fluorescence\": -0.2298, \"Turbidity\": 0.3549, \"Oxygen\": 35.7659}, {\"Depth\": 100, \"Pressure\": 100.796, \"Temperature\": 14.28, \"Salinity\": 35.7507, \"Density\": 1506.93, \"Fluorescence\": -0.2376, \"Turbidity\": 0.358, \"Oxygen\": 35.751}, {\"Depth\": 101, \"Pressure\": 101.804, \"Temperature\": 14.2222, \"Salinity\": 35.7578, \"Density\": 1506.77, \"Fluorescence\": -0.2375, \"Turbidity\": 0.3561, \"Oxygen\": 35.7548}, {\"Depth\": 102, \"Pressure\": 102.81299999999999, \"Temperature\": 14.1819, \"Salinity\": 35.7579, \"Density\": 1506.65, \"Fluorescence\": -0.2375, \"Turbidity\": 0.3457, \"Oxygen\": 35.7541}, {\"Depth\": 103, \"Pressure\": 103.821, \"Temperature\": 14.1642, \"Salinity\": 35.7522, \"Density\": 1506.61, \"Fluorescence\": -0.2568, \"Turbidity\": 0.3478, \"Oxygen\": 35.7509}, {\"Depth\": 104, \"Pressure\": 104.829, \"Temperature\": 14.1308, \"Salinity\": 35.7513, \"Density\": 1506.52, \"Fluorescence\": -0.2714, \"Turbidity\": 0.3518, \"Oxygen\": 35.7474}, {\"Depth\": 105, \"Pressure\": 105.837, \"Temperature\": 14.1241, \"Salinity\": 35.7495, \"Density\": 1506.51, \"Fluorescence\": -0.2671, \"Turbidity\": 0.3556, \"Oxygen\": 35.7467}, {\"Depth\": 106, \"Pressure\": 106.846, \"Temperature\": 14.1075, \"Salinity\": 35.7468, \"Density\": 1506.47, \"Fluorescence\": -0.2573, \"Turbidity\": 0.3513, \"Oxygen\": 35.7447}, {\"Depth\": 107, \"Pressure\": 107.854, \"Temperature\": 14.0429, \"Salinity\": 35.739000000000004, \"Density\": 1506.27, \"Fluorescence\": -0.2571, \"Turbidity\": 0.3501, \"Oxygen\": 35.7368}, {\"Depth\": 108, \"Pressure\": 108.86200000000001, \"Temperature\": 14.0328, \"Salinity\": 35.7382, \"Density\": 1506.25, \"Fluorescence\": -0.2571, \"Turbidity\": 0.35, \"Oxygen\": 35.736999999999995}, {\"Depth\": 109, \"Pressure\": 109.87, \"Temperature\": 13.9856, \"Salinity\": 35.7316, \"Density\": 1506.11, \"Fluorescence\": -0.2704, \"Turbidity\": 0.3516, \"Oxygen\": 35.7292}, {\"Depth\": 110, \"Pressure\": 110.87899999999999, \"Temperature\": 13.9668, \"Salinity\": 35.7294, \"Density\": 1506.06, \"Fluorescence\": -0.2767, \"Turbidity\": 0.3494, \"Oxygen\": 35.7271}, {\"Depth\": 111, \"Pressure\": 111.887, \"Temperature\": 13.901, \"Salinity\": 35.7188, \"Density\": 1505.85, \"Fluorescence\": -0.2766, \"Turbidity\": 0.3482, \"Oxygen\": 35.718}, {\"Depth\": 112, \"Pressure\": 112.895, \"Temperature\": 13.8591, \"Salinity\": 35.7223, \"Density\": 1505.74, \"Fluorescence\": -0.2919, \"Turbidity\": 0.3482, \"Oxygen\": 35.7187}, {\"Depth\": 113, \"Pressure\": 113.90299999999999, \"Temperature\": 13.8534, \"Salinity\": 35.7226, \"Density\": 1505.73, \"Fluorescence\": -0.2962, \"Turbidity\": 0.344, \"Oxygen\": 35.7189}, {\"Depth\": 114, \"Pressure\": 114.912, \"Temperature\": 13.8465, \"Salinity\": 35.7225, \"Density\": 1505.73, \"Fluorescence\": -0.2961, \"Turbidity\": 0.3433, \"Oxygen\": 35.719}, {\"Depth\": 115, \"Pressure\": 115.92, \"Temperature\": 13.8303, \"Salinity\": 35.7219, \"Density\": 1505.69, \"Fluorescence\": -0.2765, \"Turbidity\": 0.3433, \"Oxygen\": 35.719}, {\"Depth\": 116, \"Pressure\": 116.928, \"Temperature\": 13.8144, \"Salinity\": 35.7241, \"Density\": 1505.66, \"Fluorescence\": -0.2766, \"Turbidity\": 0.3433, \"Oxygen\": 35.7205}, {\"Depth\": 117, \"Pressure\": 117.936, \"Temperature\": 13.8014, \"Salinity\": 35.7207, \"Density\": 1505.63, \"Fluorescence\": -0.2918, \"Turbidity\": 0.34700000000000003, \"Oxygen\": 35.7178}, {\"Depth\": 118, \"Pressure\": 118.945, \"Temperature\": 13.7748, \"Salinity\": 35.7142, \"Density\": 1505.55, \"Fluorescence\": -0.2811, \"Turbidity\": 0.3477, \"Oxygen\": 35.7119}, {\"Depth\": 119, \"Pressure\": 119.95299999999999, \"Temperature\": 13.7366, \"Salinity\": 35.709, \"Density\": 1505.44, \"Fluorescence\": -0.2967, \"Turbidity\": 0.3432, \"Oxygen\": 35.7059}, {\"Depth\": 120, \"Pressure\": 120.961, \"Temperature\": 13.7269, \"Salinity\": 35.7087, \"Density\": 1505.42, \"Fluorescence\": -0.2961, \"Turbidity\": 0.3433, \"Oxygen\": 35.7049}, {\"Depth\": 121, \"Pressure\": 121.97, \"Temperature\": 13.7171, \"Salinity\": 35.7016, \"Density\": 1505.4, \"Fluorescence\": -0.2961, \"Turbidity\": 0.3433, \"Oxygen\": 35.7015}, {\"Depth\": 122, \"Pressure\": 122.978, \"Temperature\": 13.6579, \"Salinity\": 35.7003, \"Density\": 1505.22, \"Fluorescence\": -0.297, \"Turbidity\": 0.3433, \"Oxygen\": 35.6964}, {\"Depth\": 123, \"Pressure\": 123.986, \"Temperature\": 13.6545, \"Salinity\": 35.7008, \"Density\": 1505.23, \"Fluorescence\": -0.2961, \"Turbidity\": 0.3433, \"Oxygen\": 35.6971}, {\"Depth\": 124, \"Pressure\": 124.995, \"Temperature\": 13.6479, \"Salinity\": 35.7003, \"Density\": 1505.22, \"Fluorescence\": -0.2961, \"Turbidity\": 0.3476, \"Oxygen\": 35.6972}, {\"Depth\": 125, \"Pressure\": 126.00299999999999, \"Temperature\": 13.616, \"Salinity\": 35.6973, \"Density\": 1505.13, \"Fluorescence\": -0.2961, \"Turbidity\": 0.3439, \"Oxygen\": 35.6946}, {\"Depth\": 126, \"Pressure\": 127.01100000000001, \"Temperature\": 13.592, \"Salinity\": 35.6943, \"Density\": 1505.07, \"Fluorescence\": -0.2961, \"Turbidity\": 0.3476, \"Oxygen\": 35.6914}, {\"Depth\": 127, \"Pressure\": 128.02, \"Temperature\": 13.5542, \"Salinity\": 35.6875, \"Density\": 1504.95, \"Fluorescence\": -0.2961, \"Turbidity\": 0.3435, \"Oxygen\": 35.6863}, {\"Depth\": 128, \"Pressure\": 129.028, \"Temperature\": 13.507, \"Salinity\": 35.6836, \"Density\": 1504.81, \"Fluorescence\": -0.2961, \"Turbidity\": 0.3433, \"Oxygen\": 35.681}, {\"Depth\": 129, \"Pressure\": 130.036, \"Temperature\": 13.4847, \"Salinity\": 35.6807, \"Density\": 1504.75, \"Fluorescence\": -0.3083, \"Turbidity\": 0.3433, \"Oxygen\": 35.6778}, {\"Depth\": 130, \"Pressure\": 131.045, \"Temperature\": 13.4757, \"Salinity\": 35.6798, \"Density\": 1504.73, \"Fluorescence\": -0.3165, \"Turbidity\": 0.3461, \"Oxygen\": 35.6762}, {\"Depth\": 131, \"Pressure\": 132.053, \"Temperature\": 13.462, \"Salinity\": 35.6767, \"Density\": 1504.7, \"Fluorescence\": -0.304, \"Turbidity\": 0.345, \"Oxygen\": 35.6733}, {\"Depth\": 132, \"Pressure\": 133.061, \"Temperature\": 13.4476, \"Salinity\": 35.6744, \"Density\": 1504.67, \"Fluorescence\": -0.29600000000000004, \"Turbidity\": 0.3442, \"Oxygen\": 35.6713}, {\"Depth\": 133, \"Pressure\": 134.07, \"Temperature\": 13.4391, \"Salinity\": 35.6731, \"Density\": 1504.66, \"Fluorescence\": -0.2999, \"Turbidity\": 0.3473, \"Oxygen\": 35.6696}, {\"Depth\": 134, \"Pressure\": 135.078, \"Temperature\": 13.4267, \"Salinity\": 35.6686, \"Density\": 1504.63, \"Fluorescence\": -0.3159, \"Turbidity\": 0.3433, \"Oxygen\": 35.666}, {\"Depth\": 135, \"Pressure\": 136.086, \"Temperature\": 13.4123, \"Salinity\": 35.6673, \"Density\": 1504.6, \"Fluorescence\": -0.3169, \"Turbidity\": 0.3433, \"Oxygen\": 35.6641}, {\"Depth\": 136, \"Pressure\": 137.095, \"Temperature\": 13.4053, \"Salinity\": 35.6629, \"Density\": 1504.58, \"Fluorescence\": -0.2912, \"Turbidity\": 0.3433, \"Oxygen\": 35.661}, {\"Depth\": 137, \"Pressure\": 138.10299999999998, \"Temperature\": 13.3658, \"Salinity\": 35.656, \"Density\": 1504.46, \"Fluorescence\": -0.28600000000000003, \"Turbidity\": 0.3452, \"Oxygen\": 35.6539}, {\"Depth\": 138, \"Pressure\": 139.112, \"Temperature\": 13.3435, \"Salinity\": 35.6534, \"Density\": 1504.4, \"Fluorescence\": -0.2968, \"Turbidity\": 0.3484, \"Oxygen\": 35.6503}, {\"Depth\": 139, \"Pressure\": 140.12, \"Temperature\": 13.3251, \"Salinity\": 35.6472, \"Density\": 1504.35, \"Fluorescence\": -0.2824, \"Turbidity\": 0.3484, \"Oxygen\": 35.6462}, {\"Depth\": 140, \"Pressure\": 141.128, \"Temperature\": 13.2204, \"Salinity\": 35.6306, \"Density\": 1504.0, \"Fluorescence\": -0.2995, \"Turbidity\": 0.35700000000000004, \"Oxygen\": 35.6286}, {\"Depth\": 141, \"Pressure\": 142.137, \"Temperature\": 13.1913, \"Salinity\": 35.6319, \"Density\": 1503.93, \"Fluorescence\": -0.3087, \"Turbidity\": 0.3532, \"Oxygen\": 35.6279}, {\"Depth\": 142, \"Pressure\": 143.145, \"Temperature\": 13.1874, \"Salinity\": 35.6315, \"Density\": 1503.93, \"Fluorescence\": -0.2787, \"Turbidity\": 0.3531, \"Oxygen\": 35.6277}, {\"Depth\": 143, \"Pressure\": 144.154, \"Temperature\": 13.1846, \"Salinity\": 35.6311, \"Density\": 1503.94, \"Fluorescence\": -0.2777, \"Turbidity\": 0.3531, \"Oxygen\": 35.6273}, {\"Depth\": 144, \"Pressure\": 145.162, \"Temperature\": 13.1796, \"Salinity\": 35.6291, \"Density\": 1503.93, \"Fluorescence\": -0.2896, \"Turbidity\": 0.3594, \"Oxygen\": 35.6263}, {\"Depth\": 145, \"Pressure\": 146.171, \"Temperature\": 13.168, \"Salinity\": 35.6274, \"Density\": 1503.91, \"Fluorescence\": -0.2959, \"Turbidity\": 0.3583, \"Oxygen\": 35.6236}, {\"Depth\": 146, \"Pressure\": 147.179, \"Temperature\": 13.1613, \"Salinity\": 35.6253, \"Density\": 1503.9, \"Fluorescence\": -0.2961, \"Turbidity\": 0.3533, \"Oxygen\": 35.6218}, {\"Depth\": 147, \"Pressure\": 148.187, \"Temperature\": 13.1536, \"Salinity\": 35.6259, \"Density\": 1503.89, \"Fluorescence\": -0.3102, \"Turbidity\": 0.3531, \"Oxygen\": 35.622}, {\"Depth\": 148, \"Pressure\": 149.196, \"Temperature\": 13.1496, \"Salinity\": 35.6283, \"Density\": 1503.9, \"Fluorescence\": -0.3029, \"Turbidity\": 0.3563, \"Oxygen\": 35.6248}, {\"Depth\": 149, \"Pressure\": 150.204, \"Temperature\": 13.1494, \"Salinity\": 35.6317, \"Density\": 1503.92, \"Fluorescence\": -0.2962, \"Turbidity\": 0.3543, \"Oxygen\": 35.6279}, {\"Depth\": 150, \"Pressure\": 151.213, \"Temperature\": 13.1367, \"Salinity\": 35.6284, \"Density\": 1503.89, \"Fluorescence\": -0.2961, \"Turbidity\": 0.3568, \"Oxygen\": 35.6262}, {\"Depth\": 151, \"Pressure\": 152.221, \"Temperature\": 13.1181, \"Salinity\": 35.6294, \"Density\": 1503.85, \"Fluorescence\": -0.3138, \"Turbidity\": 0.3543, \"Oxygen\": 35.6254}, {\"Depth\": 152, \"Pressure\": 153.23, \"Temperature\": 13.1202, \"Salinity\": 35.6326, \"Density\": 1503.87, \"Fluorescence\": -0.3164, \"Turbidity\": 0.3531, \"Oxygen\": 35.6281}, {\"Depth\": 153, \"Pressure\": 154.238, \"Temperature\": 13.1075, \"Salinity\": 35.6281, \"Density\": 1503.84, \"Fluorescence\": -0.3189, \"Turbidity\": 0.3531, \"Oxygen\": 35.6258}, {\"Depth\": 154, \"Pressure\": 155.247, \"Temperature\": 13.0986, \"Salinity\": 35.6344, \"Density\": 1503.84, \"Fluorescence\": -0.3176, \"Turbidity\": 0.3493, \"Oxygen\": 35.6323}, {\"Depth\": 155, \"Pressure\": 156.255, \"Temperature\": 13.068, \"Salinity\": 35.6344, \"Density\": 1503.75, \"Fluorescence\": -0.3193, \"Turbidity\": 0.3426, \"Oxygen\": 35.6314}, {\"Depth\": 156, \"Pressure\": 157.264, \"Temperature\": 13.05, \"Salinity\": 35.6321, \"Density\": 1503.71, \"Fluorescence\": -0.318, \"Turbidity\": 0.3411, \"Oxygen\": 35.6292}, {\"Depth\": 157, \"Pressure\": 158.27200000000002, \"Temperature\": 13.0314, \"Salinity\": 35.6292, \"Density\": 1503.66, \"Fluorescence\": -0.318, \"Turbidity\": 0.3432, \"Oxygen\": 35.6263}, {\"Depth\": 158, \"Pressure\": 159.281, \"Temperature\": 13.0081, \"Salinity\": 35.6254, \"Density\": 1503.59, \"Fluorescence\": -0.29600000000000004, \"Turbidity\": 0.3433, \"Oxygen\": 35.6224}, {\"Depth\": 159, \"Pressure\": 160.289, \"Temperature\": 12.9854, \"Salinity\": 35.6196, \"Density\": 1503.53, \"Fluorescence\": -0.3184, \"Turbidity\": 0.3433, \"Oxygen\": 35.6183}, {\"Depth\": 160, \"Pressure\": 161.298, \"Temperature\": 12.9687, \"Salinity\": 35.6228, \"Density\": 1503.49, \"Fluorescence\": -0.3024, \"Turbidity\": 0.3433, \"Oxygen\": 35.619}, {\"Depth\": 161, \"Pressure\": 162.306, \"Temperature\": 12.9513, \"Salinity\": 35.6235, \"Density\": 1503.45, \"Fluorescence\": -0.3091, \"Turbidity\": 0.3433, \"Oxygen\": 35.6202}, {\"Depth\": 162, \"Pressure\": 163.315, \"Temperature\": 12.9419, \"Salinity\": 35.626, \"Density\": 1503.44, \"Fluorescence\": -0.3235, \"Turbidity\": 0.3402, \"Oxygen\": 35.6224}, {\"Depth\": 163, \"Pressure\": 164.32299999999998, \"Temperature\": 12.925999999999998, \"Salinity\": 35.6233, \"Density\": 1503.4, \"Fluorescence\": -0.3182, \"Turbidity\": 0.3385, \"Oxygen\": 35.6203}, {\"Depth\": 164, \"Pressure\": 165.332, \"Temperature\": 12.9182, \"Salinity\": 35.6238, \"Density\": 1503.39, \"Fluorescence\": -0.3183, \"Turbidity\": 0.3408, \"Oxygen\": 35.6202}, {\"Depth\": 165, \"Pressure\": 166.34, \"Temperature\": 12.9134, \"Salinity\": 35.6233, \"Density\": 1503.39, \"Fluorescence\": -0.308, \"Turbidity\": 0.3408, \"Oxygen\": 35.6197}, {\"Depth\": 166, \"Pressure\": 167.34900000000002, \"Temperature\": 12.9079, \"Salinity\": 35.6225, \"Density\": 1503.39, \"Fluorescence\": -0.3104, \"Turbidity\": 0.3417, \"Oxygen\": 35.619}, {\"Depth\": 167, \"Pressure\": 168.357, \"Temperature\": 12.8967, \"Salinity\": 35.6196, \"Density\": 1503.37, \"Fluorescence\": -0.3194, \"Turbidity\": 0.3433, \"Oxygen\": 35.6171}, {\"Depth\": 168, \"Pressure\": 169.36599999999999, \"Temperature\": 12.8675, \"Salinity\": 35.6158, \"Density\": 1503.28, \"Fluorescence\": -0.3198, \"Turbidity\": 0.3433, \"Oxygen\": 35.6131}, {\"Depth\": 169, \"Pressure\": 170.37400000000002, \"Temperature\": 12.8522, \"Salinity\": 35.615, \"Density\": 1503.25, \"Fluorescence\": -0.3221, \"Turbidity\": 0.3433, \"Oxygen\": 35.6121}, {\"Depth\": 170, \"Pressure\": 171.38299999999998, \"Temperature\": 12.8285, \"Salinity\": 35.6092, \"Density\": 1503.18, \"Fluorescence\": -0.3204, \"Turbidity\": 0.3418, \"Oxygen\": 35.6079}, {\"Depth\": 171, \"Pressure\": 172.391, \"Temperature\": 12.7895, \"Salinity\": 35.6066, \"Density\": 1503.06, \"Fluorescence\": -0.312, \"Turbidity\": 0.3402, \"Oxygen\": 35.6041}, {\"Depth\": 172, \"Pressure\": 173.4, \"Temperature\": 12.7532, \"Salinity\": 35.6021, \"Density\": 1502.95, \"Fluorescence\": -0.2965, \"Turbidity\": 0.3433, \"Oxygen\": 35.5994}, {\"Depth\": 173, \"Pressure\": 174.408, \"Temperature\": 12.7317, \"Salinity\": 35.6046, \"Density\": 1502.9, \"Fluorescence\": -0.3267, \"Turbidity\": 0.3433, \"Oxygen\": 35.6008}, {\"Depth\": 174, \"Pressure\": 175.417, \"Temperature\": 12.7259, \"Salinity\": 35.6073, \"Density\": 1502.9, \"Fluorescence\": -0.3237, \"Turbidity\": 0.3433, \"Oxygen\": 35.6033}, {\"Depth\": 175, \"Pressure\": 176.426, \"Temperature\": 12.7247, \"Salinity\": 35.6078, \"Density\": 1502.91, \"Fluorescence\": -0.3042, \"Turbidity\": 0.3465, \"Oxygen\": 35.6043}, {\"Depth\": 176, \"Pressure\": 177.43400000000003, \"Temperature\": 12.7203, \"Salinity\": 35.6079, \"Density\": 1502.91, \"Fluorescence\": -0.3054, \"Turbidity\": 0.3462, \"Oxygen\": 35.6044}, {\"Depth\": 177, \"Pressure\": 178.44299999999998, \"Temperature\": 12.7106, \"Salinity\": 35.6063, \"Density\": 1502.9, \"Fluorescence\": -0.3226, \"Turbidity\": 0.3418, \"Oxygen\": 35.6032}, {\"Depth\": 178, \"Pressure\": 179.451, \"Temperature\": 12.6987, \"Salinity\": 35.6065, \"Density\": 1502.87, \"Fluorescence\": -0.3237, \"Turbidity\": 0.3365, \"Oxygen\": 35.6032}, {\"Depth\": 179, \"Pressure\": 180.46, \"Temperature\": 12.6773, \"Salinity\": 35.6033, \"Density\": 1502.82, \"Fluorescence\": -0.325, \"Turbidity\": 0.3359, \"Oxygen\": 35.6009}, {\"Depth\": 180, \"Pressure\": 181.46900000000002, \"Temperature\": 12.6487, \"Salinity\": 35.5996, \"Density\": 1502.73, \"Fluorescence\": -0.3126, \"Turbidity\": 0.3403, \"Oxygen\": 35.5972}, {\"Depth\": 181, \"Pressure\": 182.477, \"Temperature\": 12.6193, \"Salinity\": 35.5963, \"Density\": 1502.65, \"Fluorescence\": -0.2964, \"Turbidity\": 0.3402, \"Oxygen\": 35.5936}, {\"Depth\": 182, \"Pressure\": 183.486, \"Temperature\": 12.5638, \"Salinity\": 35.5841, \"Density\": 1502.46, \"Fluorescence\": -0.3197, \"Turbidity\": 0.3384, \"Oxygen\": 35.5843}, {\"Depth\": 183, \"Pressure\": 184.49400000000003, \"Temperature\": 12.4902, \"Salinity\": 35.5784, \"Density\": 1502.22, \"Fluorescence\": -0.335, \"Turbidity\": 0.3385, \"Oxygen\": 35.5764}, {\"Depth\": 184, \"Pressure\": 185.503, \"Temperature\": 12.4699, \"Salinity\": 35.5782, \"Density\": 1502.17, \"Fluorescence\": -0.3233, \"Turbidity\": 0.3385, \"Oxygen\": 35.5751}, {\"Depth\": 185, \"Pressure\": 186.512, \"Temperature\": 12.4576, \"Salinity\": 35.5769, \"Density\": 1502.15, \"Fluorescence\": -0.3247, \"Turbidity\": 0.3371, \"Oxygen\": 35.5735}, {\"Depth\": 186, \"Pressure\": 187.52, \"Temperature\": 12.4427, \"Salinity\": 35.5743, \"Density\": 1502.11, \"Fluorescence\": -0.3236, \"Turbidity\": 0.3338, \"Oxygen\": 35.5711}, {\"Depth\": 187, \"Pressure\": 188.52900000000002, \"Temperature\": 12.4301, \"Salinity\": 35.5734, \"Density\": 1502.08, \"Fluorescence\": -0.3225, \"Turbidity\": 0.3381, \"Oxygen\": 35.5699}, {\"Depth\": 188, \"Pressure\": 189.53799999999998, \"Temperature\": 12.417, \"Salinity\": 35.5717, \"Density\": 1502.05, \"Fluorescence\": -0.3248, \"Turbidity\": 0.3385, \"Oxygen\": 35.5683}, {\"Depth\": 189, \"Pressure\": 190.546, \"Temperature\": 12.3986, \"Salinity\": 35.5689, \"Density\": 1502.0, \"Fluorescence\": -0.3222, \"Turbidity\": 0.3385, \"Oxygen\": 35.5659}, {\"Depth\": 190, \"Pressure\": 191.555, \"Temperature\": 12.3806, \"Salinity\": 35.5678, \"Density\": 1501.96, \"Fluorescence\": -0.3255, \"Turbidity\": 0.3351, \"Oxygen\": 35.5643}, {\"Depth\": 191, \"Pressure\": 192.563, \"Temperature\": 12.3727, \"Salinity\": 35.5667, \"Density\": 1501.95, \"Fluorescence\": -0.311, \"Turbidity\": 0.3336, \"Oxygen\": 35.5633}, {\"Depth\": 192, \"Pressure\": 193.572, \"Temperature\": 12.3637, \"Salinity\": 35.565, \"Density\": 1501.93, \"Fluorescence\": -0.3108, \"Turbidity\": 0.3358, \"Oxygen\": 35.5618}, {\"Depth\": 193, \"Pressure\": 194.581, \"Temperature\": 12.3472, \"Salinity\": 35.5617, \"Density\": 1501.89, \"Fluorescence\": -0.313, \"Turbidity\": 0.3369, \"Oxygen\": 35.5593}, {\"Depth\": 194, \"Pressure\": 195.58900000000003, \"Temperature\": 12.3281, \"Salinity\": 35.5582, \"Density\": 1501.84, \"Fluorescence\": -0.2963, \"Turbidity\": 0.3352, \"Oxygen\": 35.5565}, {\"Depth\": 195, \"Pressure\": 196.59799999999998, \"Temperature\": 12.2664, \"Salinity\": 35.5506, \"Density\": 1501.64, \"Fluorescence\": -0.3083, \"Turbidity\": 0.3402, \"Oxygen\": 35.5482}, {\"Depth\": 196, \"Pressure\": 197.607, \"Temperature\": 12.2454, \"Salinity\": 35.551, \"Density\": 1501.58, \"Fluorescence\": -0.3251, \"Turbidity\": 0.3393, \"Oxygen\": 35.5473}, {\"Depth\": 197, \"Pressure\": 198.615, \"Temperature\": 12.2434, \"Salinity\": 35.5508, \"Density\": 1501.59, \"Fluorescence\": -0.327, \"Turbidity\": 0.3346, \"Oxygen\": 35.5471}, {\"Depth\": 198, \"Pressure\": 199.62400000000002, \"Temperature\": 12.2321, \"Salinity\": 35.5467, \"Density\": 1501.56, \"Fluorescence\": -0.3222, \"Turbidity\": 0.3384, \"Oxygen\": 35.5446}, {\"Depth\": 199, \"Pressure\": 200.63299999999998, \"Temperature\": 12.1999, \"Salinity\": 35.5436, \"Density\": 1501.47, \"Fluorescence\": -0.3274, \"Turbidity\": 0.3385, \"Oxygen\": 35.5409}, {\"Depth\": 200, \"Pressure\": 201.642, \"Temperature\": 12.1649, \"Salinity\": 35.5404, \"Density\": 1501.36, \"Fluorescence\": -0.3296, \"Turbidity\": 0.3385, \"Oxygen\": 35.5371}, {\"Depth\": 201, \"Pressure\": 202.65, \"Temperature\": 12.1467, \"Salinity\": 35.5353, \"Density\": 1501.31, \"Fluorescence\": -0.3327, \"Turbidity\": 0.3423, \"Oxygen\": 35.5338}, {\"Depth\": 202, \"Pressure\": 203.65900000000002, \"Temperature\": 12.0575, \"Salinity\": 35.5191, \"Density\": 1501.01, \"Fluorescence\": -0.3284, \"Turbidity\": 0.3317, \"Oxygen\": 35.5201}, {\"Depth\": 203, \"Pressure\": 204.668, \"Temperature\": 11.9949, \"Salinity\": 35.5179, \"Density\": 1500.81, \"Fluorescence\": -0.3269, \"Turbidity\": 0.3411, \"Oxygen\": 35.5153}, {\"Depth\": 204, \"Pressure\": 205.676, \"Temperature\": 11.9698, \"Salinity\": 35.5123, \"Density\": 1500.73, \"Fluorescence\": -0.3248, \"Turbidity\": 0.3352, \"Oxygen\": 35.5112}, {\"Depth\": 205, \"Pressure\": 206.685, \"Temperature\": 11.9137, \"Salinity\": 35.4989, \"Density\": 1500.54, \"Fluorescence\": -0.324, \"Turbidity\": 0.3286, \"Oxygen\": 35.5013}, {\"Depth\": 206, \"Pressure\": 207.69400000000002, \"Temperature\": 11.8492, \"Salinity\": 35.4956, \"Density\": 1500.33, \"Fluorescence\": -0.2987, \"Turbidity\": 0.3332, \"Oxygen\": 35.4945}, {\"Depth\": 207, \"Pressure\": 208.703, \"Temperature\": 11.8152, \"Salinity\": 35.4933, \"Density\": 1500.23, \"Fluorescence\": -0.2963, \"Turbidity\": 0.336, \"Oxygen\": 35.4909}, {\"Depth\": 208, \"Pressure\": 209.71099999999998, \"Temperature\": 11.7729, \"Salinity\": 35.4882, \"Density\": 1500.1, \"Fluorescence\": -0.3082, \"Turbidity\": 0.3402, \"Oxygen\": 35.4852}, {\"Depth\": 209, \"Pressure\": 210.72, \"Temperature\": 11.7308, \"Salinity\": 35.482, \"Density\": 1499.96, \"Fluorescence\": -0.2956, \"Turbidity\": 0.3384, \"Oxygen\": 35.4793}, {\"Depth\": 210, \"Pressure\": 211.729, \"Temperature\": 11.6986, \"Salinity\": 35.4792, \"Density\": 1499.86, \"Fluorescence\": -0.3198, \"Turbidity\": 0.3385, \"Oxygen\": 35.476}, {\"Depth\": 211, \"Pressure\": 212.738, \"Temperature\": 11.6688, \"Salinity\": 35.4698, \"Density\": 1499.77, \"Fluorescence\": -0.3062, \"Turbidity\": 0.3385, \"Oxygen\": 35.4695}, {\"Depth\": 212, \"Pressure\": 213.74599999999998, \"Temperature\": 11.6125, \"Salinity\": 35.4625, \"Density\": 1499.58, \"Fluorescence\": -0.3103, \"Turbidity\": 0.3365, \"Oxygen\": 35.4622}, {\"Depth\": 213, \"Pressure\": 214.755, \"Temperature\": 11.5447, \"Salinity\": 35.4559, \"Density\": 1499.36, \"Fluorescence\": -0.326, \"Turbidity\": 0.3336, \"Oxygen\": 35.4547}, {\"Depth\": 214, \"Pressure\": 215.764, \"Temperature\": 11.5062, \"Salinity\": 35.4529, \"Density\": 1499.24, \"Fluorescence\": -0.3274, \"Turbidity\": 0.3336, \"Oxygen\": 35.4511}, {\"Depth\": 215, \"Pressure\": 216.773, \"Temperature\": 11.453, \"Salinity\": 35.446999999999996, \"Density\": 1499.06, \"Fluorescence\": -0.2987, \"Turbidity\": 0.3336, \"Oxygen\": 35.445}, {\"Depth\": 216, \"Pressure\": 217.78099999999998, \"Temperature\": 11.422, \"Salinity\": 35.4453, \"Density\": 1498.97, \"Fluorescence\": -0.3008, \"Turbidity\": 0.3336, \"Oxygen\": 35.4421}, {\"Depth\": 217, \"Pressure\": 218.79, \"Temperature\": 11.3955, \"Salinity\": 35.4422, \"Density\": 1498.89, \"Fluorescence\": -0.3305, \"Turbidity\": 0.3371, \"Oxygen\": 35.4391}, {\"Depth\": 218, \"Pressure\": 219.799, \"Temperature\": 11.364, \"Salinity\": 35.4384, \"Density\": 1498.79, \"Fluorescence\": -0.3274, \"Turbidity\": 0.3371, \"Oxygen\": 35.4353}, {\"Depth\": 219, \"Pressure\": 220.808, \"Temperature\": 11.3268, \"Salinity\": 35.43, \"Density\": 1498.67, \"Fluorescence\": -0.3241, \"Turbidity\": 0.3335, \"Oxygen\": 35.4289}, {\"Depth\": 220, \"Pressure\": 221.817, \"Temperature\": 11.286, \"Salinity\": 35.4287, \"Density\": 1498.54, \"Fluorescence\": -0.3339, \"Turbidity\": 0.3336, \"Oxygen\": 35.4259}, {\"Depth\": 221, \"Pressure\": 222.825, \"Temperature\": 11.2512, \"Salinity\": 35.4176, \"Density\": 1498.43, \"Fluorescence\": -0.3311, \"Turbidity\": 0.3349, \"Oxygen\": 35.4182}, {\"Depth\": 222, \"Pressure\": 223.834, \"Temperature\": 11.2122, \"Salinity\": 35.4187, \"Density\": 1498.31, \"Fluorescence\": -0.3236, \"Turbidity\": 0.3384, \"Oxygen\": 35.4161}, {\"Depth\": 223, \"Pressure\": 224.843, \"Temperature\": 11.1699, \"Salinity\": 35.4093, \"Density\": 1498.17, \"Fluorescence\": -0.3062, \"Turbidity\": 0.335, \"Oxygen\": 35.4085}, {\"Depth\": 224, \"Pressure\": 225.852, \"Temperature\": 11.1208, \"Salinity\": 35.4063, \"Density\": 1498.01, \"Fluorescence\": -0.3003, \"Turbidity\": 0.3369, \"Oxygen\": 35.4036}, {\"Depth\": 225, \"Pressure\": 226.861, \"Temperature\": 11.0742, \"Salinity\": 35.4023, \"Density\": 1497.86, \"Fluorescence\": -0.3314, \"Turbidity\": 0.3387, \"Oxygen\": 35.3991}, {\"Depth\": 226, \"Pressure\": 227.86900000000003, \"Temperature\": 11.0214, \"Salinity\": 35.3844, \"Density\": 1497.67, \"Fluorescence\": -0.3308, \"Turbidity\": 0.3424, \"Oxygen\": 35.388000000000005}, {\"Depth\": 227, \"Pressure\": 228.878, \"Temperature\": 10.9335, \"Salinity\": 35.3817, \"Density\": 1497.38, \"Fluorescence\": -0.3291, \"Turbidity\": 0.3412, \"Oxygen\": 35.3802}, {\"Depth\": 228, \"Pressure\": 229.887, \"Temperature\": 10.8857, \"Salinity\": 35.3768, \"Density\": 1497.22, \"Fluorescence\": -0.3287, \"Turbidity\": 0.3385, \"Oxygen\": 35.3747}, {\"Depth\": 229, \"Pressure\": 230.896, \"Temperature\": 10.8578, \"Salinity\": 35.3748, \"Density\": 1497.14, \"Fluorescence\": -0.3287, \"Turbidity\": 0.3374, \"Oxygen\": 35.3712}, {\"Depth\": 230, \"Pressure\": 231.905, \"Temperature\": 10.8359, \"Salinity\": 35.3728, \"Density\": 1497.07, \"Fluorescence\": -0.3338, \"Turbidity\": 0.3361, \"Oxygen\": 35.3695}, {\"Depth\": 231, \"Pressure\": 232.91400000000002, \"Temperature\": 10.7943, \"Salinity\": 35.3632, \"Density\": 1496.93, \"Fluorescence\": -0.33, \"Turbidity\": 0.3426, \"Oxygen\": 35.3623}, {\"Depth\": 232, \"Pressure\": 233.922, \"Temperature\": 10.765, \"Salinity\": 35.3658, \"Density\": 1496.85, \"Fluorescence\": -0.3245, \"Turbidity\": 0.3337, \"Oxygen\": 35.3619}, {\"Depth\": 233, \"Pressure\": 234.93099999999998, \"Temperature\": 10.758, \"Salinity\": 35.3648, \"Density\": 1496.84, \"Fluorescence\": -0.3309, \"Turbidity\": 0.3379, \"Oxygen\": 35.3611}, {\"Depth\": 234, \"Pressure\": 235.94, \"Temperature\": 10.754000000000001, \"Salinity\": 35.3648, \"Density\": 1496.84, \"Fluorescence\": -0.3268, \"Turbidity\": 0.3358, \"Oxygen\": 35.3611}, {\"Depth\": 235, \"Pressure\": 236.949, \"Temperature\": 10.7235, \"Salinity\": 35.3535, \"Density\": 1496.74, \"Fluorescence\": -0.3306, \"Turbidity\": 0.3387, \"Oxygen\": 35.3552}, {\"Depth\": 236, \"Pressure\": 237.958, \"Temperature\": 10.6218, \"Salinity\": 35.3448, \"Density\": 1496.38, \"Fluorescence\": -0.33, \"Turbidity\": 0.342, \"Oxygen\": 35.3429}, {\"Depth\": 237, \"Pressure\": 238.967, \"Temperature\": 10.5939, \"Salinity\": 35.3401, \"Density\": 1496.3, \"Fluorescence\": -0.33, \"Turbidity\": 0.3427, \"Oxygen\": 35.3398}, {\"Depth\": 238, \"Pressure\": 239.976, \"Temperature\": 10.5376, \"Salinity\": 35.3338, \"Density\": 1496.11, \"Fluorescence\": -0.3291, \"Turbidity\": 0.3386, \"Oxygen\": 35.3331}, {\"Depth\": 239, \"Pressure\": 240.985, \"Temperature\": 10.5109, \"Salinity\": 35.3356, \"Density\": 1496.03, \"Fluorescence\": -0.3281, \"Turbidity\": 0.3385, \"Oxygen\": 35.3319}, {\"Depth\": 240, \"Pressure\": 241.993, \"Temperature\": 10.5005, \"Salinity\": 35.3346, \"Density\": 1496.01, \"Fluorescence\": -0.3312, \"Turbidity\": 0.3355, \"Oxygen\": 35.330999999999996}, {\"Depth\": 241, \"Pressure\": 243.002, \"Temperature\": 10.4843, \"Salinity\": 35.3328, \"Density\": 1495.97, \"Fluorescence\": -0.3325, \"Turbidity\": 0.3421, \"Oxygen\": 35.3292}, {\"Depth\": 242, \"Pressure\": 244.011, \"Temperature\": 10.4726, \"Salinity\": 35.330999999999996, \"Density\": 1495.94, \"Fluorescence\": -0.32799999999999996, \"Turbidity\": 0.3433, \"Oxygen\": 35.3278}, {\"Depth\": 243, \"Pressure\": 245.02, \"Temperature\": 10.4627, \"Salinity\": 35.33, \"Density\": 1495.92, \"Fluorescence\": -0.3302, \"Turbidity\": 0.3433, \"Oxygen\": 35.3268}, {\"Depth\": 244, \"Pressure\": 246.02900000000002, \"Temperature\": 10.4482, \"Salinity\": 35.3276, \"Density\": 1495.88, \"Fluorescence\": -0.3291, \"Turbidity\": 0.3389, \"Oxygen\": 35.3247}, {\"Depth\": 245, \"Pressure\": 247.03799999999998, \"Temperature\": 10.4141, \"Salinity\": 35.324, \"Density\": 1495.77, \"Fluorescence\": -0.3317, \"Turbidity\": 0.3385, \"Oxygen\": 35.321}, {\"Depth\": 246, \"Pressure\": 248.047, \"Temperature\": 10.3859, \"Salinity\": 35.3202, \"Density\": 1495.69, \"Fluorescence\": -0.3344, \"Turbidity\": 0.3385, \"Oxygen\": 35.3179}, {\"Depth\": 247, \"Pressure\": 249.05599999999998, \"Temperature\": 10.3594, \"Salinity\": 35.317, \"Density\": 1495.6, \"Fluorescence\": -0.3297, \"Turbidity\": 0.3385, \"Oxygen\": 35.3144}, {\"Depth\": 248, \"Pressure\": 250.065, \"Temperature\": 10.3409, \"Salinity\": 35.314, \"Density\": 1495.55, \"Fluorescence\": -0.331, \"Turbidity\": 0.3385, \"Oxygen\": 35.3122}, {\"Depth\": 249, \"Pressure\": 251.074, \"Temperature\": 10.294, \"Salinity\": 35.3028, \"Density\": 1495.39, \"Fluorescence\": -0.3292, \"Turbidity\": 0.3341, \"Oxygen\": 35.3038}, {\"Depth\": 250, \"Pressure\": 252.083, \"Temperature\": 10.2539, \"Salinity\": 35.3048, \"Density\": 1495.26, \"Fluorescence\": -0.3311, \"Turbidity\": 0.3364, \"Oxygen\": 35.3019}, {\"Depth\": 251, \"Pressure\": 253.092, \"Temperature\": 10.2427, \"Salinity\": 35.3044, \"Density\": 1495.24, \"Fluorescence\": -0.33, \"Turbidity\": 0.3368, \"Oxygen\": 35.301}, {\"Depth\": 252, \"Pressure\": 254.101, \"Temperature\": 10.2233, \"Salinity\": 35.3017, \"Density\": 1495.18, \"Fluorescence\": -0.3073, \"Turbidity\": 0.3336, \"Oxygen\": 35.2983}, {\"Depth\": 253, \"Pressure\": 255.11, \"Temperature\": 10.2043, \"Salinity\": 35.2972, \"Density\": 1495.13, \"Fluorescence\": -0.3121, \"Turbidity\": 0.3352, \"Oxygen\": 35.2955}, {\"Depth\": 254, \"Pressure\": 256.118, \"Temperature\": 10.1868, \"Salinity\": 35.2978, \"Density\": 1495.08, \"Fluorescence\": -0.3354, \"Turbidity\": 0.3385, \"Oxygen\": 35.2942}, {\"Depth\": 255, \"Pressure\": 257.127, \"Temperature\": 10.1745, \"Salinity\": 35.2949, \"Density\": 1495.05, \"Fluorescence\": -0.3307, \"Turbidity\": 0.3385, \"Oxygen\": 35.292}, {\"Depth\": 256, \"Pressure\": 258.13599999999997, \"Temperature\": 10.1498, \"Salinity\": 35.2914, \"Density\": 1494.98, \"Fluorescence\": -0.3326, \"Turbidity\": 0.3392, \"Oxygen\": 35.2887}, {\"Depth\": 257, \"Pressure\": 259.145, \"Temperature\": 10.1232, \"Salinity\": 35.2883, \"Density\": 1494.89, \"Fluorescence\": -0.3327, \"Turbidity\": 0.3415, \"Oxygen\": 35.2856}, {\"Depth\": 258, \"Pressure\": 260.154, \"Temperature\": 10.0761, \"Salinity\": 35.2816, \"Density\": 1494.73, \"Fluorescence\": -0.3345, \"Turbidity\": 0.3384, \"Oxygen\": 35.2799}, {\"Depth\": 259, \"Pressure\": 261.163, \"Temperature\": 10.0322, \"Salinity\": 35.2738, \"Density\": 1494.58, \"Fluorescence\": -0.3286, \"Turbidity\": 0.3363, \"Oxygen\": 35.2742}, {\"Depth\": 260, \"Pressure\": 262.172, \"Temperature\": 9.9569, \"Salinity\": 35.2682, \"Density\": 1494.32, \"Fluorescence\": -0.332, \"Turbidity\": 0.3354, \"Oxygen\": 35.2672}, {\"Depth\": 261, \"Pressure\": 263.181, \"Temperature\": 9.8912, \"Salinity\": 35.2651, \"Density\": 1494.1, \"Fluorescence\": -0.3328, \"Turbidity\": 0.3385, \"Oxygen\": 35.2625}, {\"Depth\": 262, \"Pressure\": 264.19, \"Temperature\": 9.8587, \"Salinity\": 35.2616, \"Density\": 1493.99, \"Fluorescence\": -0.331, \"Turbidity\": 0.3368, \"Oxygen\": 35.2601}, {\"Depth\": 263, \"Pressure\": 265.199, \"Temperature\": 9.8147, \"Salinity\": 35.2622, \"Density\": 1493.85, \"Fluorescence\": -0.3343, \"Turbidity\": 0.3347, \"Oxygen\": 35.2589}, {\"Depth\": 264, \"Pressure\": 266.20799999999997, \"Temperature\": 9.7864, \"Salinity\": 35.2593, \"Density\": 1493.76, \"Fluorescence\": -0.3336, \"Turbidity\": 0.3384, \"Oxygen\": 35.2565}, {\"Depth\": 265, \"Pressure\": 267.217, \"Temperature\": 9.761000000000001, \"Salinity\": 35.2579, \"Density\": 1493.69, \"Fluorescence\": -0.3313, \"Turbidity\": 0.3396, \"Oxygen\": 35.2549}, {\"Depth\": 266, \"Pressure\": 268.226, \"Temperature\": 9.7344, \"Salinity\": 35.2557, \"Density\": 1493.61, \"Fluorescence\": -0.3257, \"Turbidity\": 0.3424, \"Oxygen\": 35.2525}, {\"Depth\": 267, \"Pressure\": 269.235, \"Temperature\": 9.7054, \"Salinity\": 35.2481, \"Density\": 1493.51, \"Fluorescence\": -0.2986, \"Turbidity\": 0.3383, \"Oxygen\": 35.2476}, {\"Depth\": 268, \"Pressure\": 270.244, \"Temperature\": 9.6593, \"Salinity\": 35.2485, \"Density\": 1493.36, \"Fluorescence\": -0.3355, \"Turbidity\": 0.3385, \"Oxygen\": 35.245}, {\"Depth\": 269, \"Pressure\": 271.254, \"Temperature\": 9.6434, \"Salinity\": 35.2479, \"Density\": 1493.32, \"Fluorescence\": -0.3344, \"Turbidity\": 0.3428, \"Oxygen\": 35.2444}, {\"Depth\": 270, \"Pressure\": 272.263, \"Temperature\": 9.6383, \"Salinity\": 35.2486, \"Density\": 1493.32, \"Fluorescence\": -0.3333, \"Turbidity\": 0.3384, \"Oxygen\": 35.2445}, {\"Depth\": 271, \"Pressure\": 273.272, \"Temperature\": 9.6369, \"Salinity\": 35.2489, \"Density\": 1493.33, \"Fluorescence\": -0.3345, \"Turbidity\": 0.335, \"Oxygen\": 35.2468}, {\"Depth\": 272, \"Pressure\": 274.281, \"Temperature\": 9.6365, \"Salinity\": 35.2489, \"Density\": 1493.34, \"Fluorescence\": -0.3352, \"Turbidity\": 0.3384, \"Oxygen\": 35.2464}, {\"Depth\": 273, \"Pressure\": 275.29, \"Temperature\": 9.574, \"Salinity\": 35.234, \"Density\": 1493.12, \"Fluorescence\": -0.3344, \"Turbidity\": 0.3385, \"Oxygen\": 35.2379}, {\"Depth\": 274, \"Pressure\": 276.29900000000004, \"Temperature\": 9.4596, \"Salinity\": 35.2338, \"Density\": 1492.72, \"Fluorescence\": -0.3352, \"Turbidity\": 0.3385, \"Oxygen\": 35.232}, {\"Depth\": 275, \"Pressure\": 277.308, \"Temperature\": 9.4174, \"Salinity\": 35.2362, \"Density\": 1492.58, \"Fluorescence\": -0.3332, \"Turbidity\": 0.3385, \"Oxygen\": 35.2312}, {\"Depth\": 276, \"Pressure\": 278.317, \"Temperature\": 9.4136, \"Salinity\": 35.2367, \"Density\": 1492.59, \"Fluorescence\": -0.3352, \"Turbidity\": 0.3385, \"Oxygen\": 35.2316}, {\"Depth\": 277, \"Pressure\": 279.32599999999996, \"Temperature\": 9.4088, \"Salinity\": 35.2358, \"Density\": 1492.58, \"Fluorescence\": -0.3329, \"Turbidity\": 0.3422, \"Oxygen\": 35.2313}, {\"Depth\": 278, \"Pressure\": 280.335, \"Temperature\": 9.3902, \"Salinity\": 35.2336, \"Density\": 1492.53, \"Fluorescence\": -0.3346, \"Turbidity\": 0.3424, \"Oxygen\": 35.2305}, {\"Depth\": 279, \"Pressure\": 281.344, \"Temperature\": 9.3441, \"Salinity\": 35.2328, \"Density\": 1492.38, \"Fluorescence\": -0.3339, \"Turbidity\": 0.3377, \"Oxygen\": 35.2285}, {\"Depth\": 280, \"Pressure\": 282.353, \"Temperature\": 9.3441, \"Salinity\": 35.2317, \"Density\": 1492.39, \"Fluorescence\": -0.3352, \"Turbidity\": 0.34299999999999997, \"Oxygen\": 35.2282}, {\"Depth\": 281, \"Pressure\": 283.362, \"Temperature\": 9.3248, \"Salinity\": 35.2282, \"Density\": 1492.33, \"Fluorescence\": -0.3326, \"Turbidity\": 0.3462, \"Oxygen\": 35.2259}, {\"Depth\": 282, \"Pressure\": 284.371, \"Temperature\": 9.2995, \"Salinity\": 35.2275, \"Density\": 1492.26, \"Fluorescence\": -0.3352, \"Turbidity\": 0.3474, \"Oxygen\": 35.2247}, {\"Depth\": 283, \"Pressure\": 285.381, \"Temperature\": 9.2902, \"Salinity\": 35.2287, \"Density\": 1492.24, \"Fluorescence\": -0.3352, \"Turbidity\": 0.3433, \"Oxygen\": 35.2248}, {\"Depth\": 284, \"Pressure\": 286.39, \"Temperature\": 9.2844, \"Salinity\": 35.2275, \"Density\": 1492.24, \"Fluorescence\": -0.3352, \"Turbidity\": 0.3388, \"Oxygen\": 35.2245}, {\"Depth\": 285, \"Pressure\": 287.399, \"Temperature\": 9.246, \"Salinity\": 35.221, \"Density\": 1492.1, \"Fluorescence\": -0.3352, \"Turbidity\": 0.3431, \"Oxygen\": 35.22}, {\"Depth\": 286, \"Pressure\": 288.408, \"Temperature\": 9.2064, \"Salinity\": 35.2209, \"Density\": 1491.98, \"Fluorescence\": -0.3352, \"Turbidity\": 0.3392, \"Oxygen\": 35.2179}, {\"Depth\": 287, \"Pressure\": 289.41700000000003, \"Temperature\": 9.1953, \"Salinity\": 35.2213, \"Density\": 1491.95, \"Fluorescence\": -0.3352, \"Turbidity\": 0.342, \"Oxygen\": 35.218}, {\"Depth\": 288, \"Pressure\": 290.426, \"Temperature\": 9.1907, \"Salinity\": 35.2219, \"Density\": 1491.95, \"Fluorescence\": -0.3226, \"Turbidity\": 0.3479, \"Oxygen\": 35.2177}, {\"Depth\": 289, \"Pressure\": 291.435, \"Temperature\": 9.1907, \"Salinity\": 35.2218, \"Density\": 1491.97, \"Fluorescence\": -0.3217, \"Turbidity\": 0.3481, \"Oxygen\": 35.218}, {\"Depth\": 290, \"Pressure\": 292.444, \"Temperature\": 9.184, \"Salinity\": 35.2208, \"Density\": 1491.96, \"Fluorescence\": -0.3344, \"Turbidity\": 0.3407, \"Oxygen\": 35.2173}, {\"Depth\": 291, \"Pressure\": 293.454, \"Temperature\": 9.1712, \"Salinity\": 35.2189, \"Density\": 1491.93, \"Fluorescence\": -0.3352, \"Turbidity\": 0.3408, \"Oxygen\": 35.2164}, {\"Depth\": 292, \"Pressure\": 294.46299999999997, \"Temperature\": 9.16, \"Salinity\": 35.2193, \"Density\": 1491.9, \"Fluorescence\": -0.3352, \"Turbidity\": 0.3434, \"Oxygen\": 35.2159}, {\"Depth\": 293, \"Pressure\": 295.472, \"Temperature\": 9.1549, \"Salinity\": 35.2196, \"Density\": 1491.9, \"Fluorescence\": -0.3352, \"Turbidity\": 0.3478, \"Oxygen\": 35.2156}, {\"Depth\": 294, \"Pressure\": 296.481, \"Temperature\": 9.1443, \"Salinity\": 35.2172, \"Density\": 1491.88, \"Fluorescence\": -0.3106, \"Turbidity\": 0.3508, \"Oxygen\": 35.2153}, {\"Depth\": 295, \"Pressure\": 297.49, \"Temperature\": 9.136000000000001, \"Salinity\": 35.2184, \"Density\": 1491.86, \"Fluorescence\": -0.3178, \"Turbidity\": 0.3479, \"Oxygen\": 35.2144}, {\"Depth\": 296, \"Pressure\": 298.499, \"Temperature\": 9.1359, \"Salinity\": 35.2186, \"Density\": 1491.88, \"Fluorescence\": -0.3354, \"Turbidity\": 0.3433, \"Oxygen\": 35.2148}, {\"Depth\": 297, \"Pressure\": 299.509, \"Temperature\": 9.1271, \"Salinity\": 35.2153, \"Density\": 1491.86, \"Fluorescence\": -0.3352, \"Turbidity\": 0.3433, \"Oxygen\": 35.2131}, {\"Depth\": 298, \"Pressure\": 300.518, \"Temperature\": 9.0854, \"Salinity\": 35.2137, \"Density\": 1491.72, \"Fluorescence\": -0.3352, \"Turbidity\": 0.3433, \"Oxygen\": 35.2107}, {\"Depth\": 299, \"Pressure\": 301.527, \"Temperature\": 9.073, \"Salinity\": 35.2128, \"Density\": 1491.69, \"Fluorescence\": -0.3352, \"Turbidity\": 0.3433, \"Oxygen\": 35.2098}, {\"Depth\": 300, \"Pressure\": 302.536, \"Temperature\": 9.0622, \"Salinity\": 35.2113, \"Density\": 1491.67, \"Fluorescence\": -0.3352, \"Turbidity\": 0.3433, \"Oxygen\": 35.2083}, {\"Depth\": 301, \"Pressure\": 303.545, \"Temperature\": 9.0427, \"Salinity\": 35.2096, \"Density\": 1491.61, \"Fluorescence\": -0.3352, \"Turbidity\": 0.3433, \"Oxygen\": 35.2066}, {\"Depth\": 302, \"Pressure\": 304.55400000000003, \"Temperature\": 9.026, \"Salinity\": 35.2087, \"Density\": 1491.56, \"Fluorescence\": -0.3352, \"Turbidity\": 0.3422, \"Oxygen\": 35.2054}, {\"Depth\": 303, \"Pressure\": 305.564, \"Temperature\": 9.0165, \"Salinity\": 35.2079, \"Density\": 1491.55, \"Fluorescence\": -0.3352, \"Turbidity\": 0.3385, \"Oxygen\": 35.2045}, {\"Depth\": 304, \"Pressure\": 306.573, \"Temperature\": 8.9803, \"Salinity\": 35.1994, \"Density\": 1491.42, \"Fluorescence\": -0.3352, \"Turbidity\": 0.3465, \"Oxygen\": 35.1994}, {\"Depth\": 305, \"Pressure\": 307.582, \"Temperature\": 8.9118, \"Salinity\": 35.1932, \"Density\": 1491.18, \"Fluorescence\": -0.3352, \"Turbidity\": 0.3421, \"Oxygen\": 35.1938}, {\"Depth\": 306, \"Pressure\": 308.591, \"Temperature\": 8.8474, \"Salinity\": 35.1927, \"Density\": 1490.95, \"Fluorescence\": -0.3352, \"Turbidity\": 0.3416, \"Oxygen\": 35.1905}, {\"Depth\": 307, \"Pressure\": 309.6, \"Temperature\": 8.823, \"Salinity\": 35.193000000000005, \"Density\": 1490.88, \"Fluorescence\": -0.3352, \"Turbidity\": 0.3427, \"Oxygen\": 35.189}, {\"Depth\": 308, \"Pressure\": 310.61, \"Temperature\": 8.8131, \"Salinity\": 35.1909, \"Density\": 1490.86, \"Fluorescence\": -0.3352, \"Turbidity\": 0.3445, \"Oxygen\": 35.1876}, {\"Depth\": 309, \"Pressure\": 311.619, \"Temperature\": 8.7984, \"Salinity\": 35.1896, \"Density\": 1490.82, \"Fluorescence\": -0.3352, \"Turbidity\": 0.3465, \"Oxygen\": 35.1865}, {\"Depth\": 310, \"Pressure\": 312.628, \"Temperature\": 8.785, \"Salinity\": 35.1874, \"Density\": 1490.78, \"Fluorescence\": -0.3337, \"Turbidity\": 0.3472, \"Oxygen\": 35.1855}, {\"Depth\": 311, \"Pressure\": 313.637, \"Temperature\": 8.7381, \"Salinity\": 35.1678, \"Density\": 1490.6, \"Fluorescence\": -0.2956, \"Turbidity\": 0.3383, \"Oxygen\": 35.1766}, {\"Depth\": 312, \"Pressure\": 314.647, \"Temperature\": 8.6098, \"Salinity\": 35.1701, \"Density\": 1490.14, \"Fluorescence\": -0.3126, \"Turbidity\": 0.3426, \"Oxygen\": 35.1686}, {\"Depth\": 313, \"Pressure\": 315.656, \"Temperature\": 8.5766, \"Salinity\": 35.1697, \"Density\": 1490.04, \"Fluorescence\": -0.3332, \"Turbidity\": 0.3468, \"Oxygen\": 35.167}, {\"Depth\": 314, \"Pressure\": 316.665, \"Temperature\": 8.5067, \"Salinity\": 35.164, \"Density\": 1489.79, \"Fluorescence\": -0.3351, \"Turbidity\": 0.3408, \"Oxygen\": 35.1615}, {\"Depth\": 315, \"Pressure\": 317.67400000000004, \"Temperature\": 8.4191, \"Salinity\": 35.1606, \"Density\": 1489.47, \"Fluorescence\": -0.3352, \"Turbidity\": 0.3383, \"Oxygen\": 35.1571}, {\"Depth\": 316, \"Pressure\": 318.684, \"Temperature\": 8.3953, \"Salinity\": 35.154, \"Density\": 1489.39, \"Fluorescence\": -0.3352, \"Turbidity\": 0.3385, \"Oxygen\": 35.1541}, {\"Depth\": 317, \"Pressure\": 319.693, \"Temperature\": 8.3366, \"Salinity\": 35.1522, \"Density\": 1489.19, \"Fluorescence\": -0.3352, \"Turbidity\": 0.3417, \"Oxygen\": 35.1506}, {\"Depth\": 318, \"Pressure\": 320.702, \"Temperature\": 8.2934, \"Salinity\": 35.1455, \"Density\": 1489.03, \"Fluorescence\": -0.3352, \"Turbidity\": 0.348, \"Oxygen\": 35.1475}, {\"Depth\": 319, \"Pressure\": 321.712, \"Temperature\": 8.1684, \"Salinity\": 35.1342, \"Density\": 1488.57, \"Fluorescence\": -0.3352, \"Turbidity\": 0.3438, \"Oxygen\": 35.1377}, {\"Depth\": 320, \"Pressure\": 322.721, \"Temperature\": 8.0822, \"Salinity\": 35.1415, \"Density\": 1488.27, \"Fluorescence\": -0.3352, \"Turbidity\": 0.3434, \"Oxygen\": 35.1384}, {\"Depth\": 321, \"Pressure\": 323.73, \"Temperature\": 8.068999999999999, \"Salinity\": 35.1431, \"Density\": 1488.24, \"Fluorescence\": -0.3352, \"Turbidity\": 0.3433, \"Oxygen\": 35.1386}, {\"Depth\": 322, \"Pressure\": 324.73900000000003, \"Temperature\": 8.0698, \"Salinity\": 35.1433, \"Density\": 1488.26, \"Fluorescence\": -0.3352, \"Turbidity\": 0.3433, \"Oxygen\": 35.139}, {\"Depth\": 323, \"Pressure\": 325.749, \"Temperature\": 8.0694, \"Salinity\": 35.1439, \"Density\": 1488.27, \"Fluorescence\": -0.3352, \"Turbidity\": 0.3433, \"Oxygen\": 35.1397}, {\"Depth\": 324, \"Pressure\": 326.758, \"Temperature\": 8.068999999999999, \"Salinity\": 35.1442, \"Density\": 1488.29, \"Fluorescence\": -0.3352, \"Turbidity\": 0.3412, \"Oxygen\": 35.1402}, {\"Depth\": 325, \"Pressure\": 327.767, \"Temperature\": 8.0641, \"Salinity\": 35.1428, \"Density\": 1488.29, \"Fluorescence\": -0.3352, \"Turbidity\": 0.3383, \"Oxygen\": 35.1392}, {\"Depth\": 326, \"Pressure\": 328.777, \"Temperature\": 8.0556, \"Salinity\": 35.144, \"Density\": 1488.27, \"Fluorescence\": -0.3352, \"Turbidity\": 0.3436, \"Oxygen\": 35.1402}, {\"Depth\": 327, \"Pressure\": 329.786, \"Temperature\": 8.0517, \"Salinity\": 35.1438, \"Density\": 1488.27, \"Fluorescence\": -0.3352, \"Turbidity\": 0.3433, \"Oxygen\": 35.1402}, {\"Depth\": 328, \"Pressure\": 330.795, \"Temperature\": 8.043, \"Salinity\": 35.1421, \"Density\": 1488.25, \"Fluorescence\": -0.3352, \"Turbidity\": 0.3445, \"Oxygen\": 35.1388}, {\"Depth\": 329, \"Pressure\": 331.805, \"Temperature\": 8.0232, \"Salinity\": 35.1421, \"Density\": 1488.2, \"Fluorescence\": -0.3352, \"Turbidity\": 0.3469, \"Oxygen\": 35.139}, {\"Depth\": 330, \"Pressure\": 332.814, \"Temperature\": 7.9928, \"Salinity\": 35.1404, \"Density\": 1488.1, \"Fluorescence\": -0.3244, \"Turbidity\": 0.3401, \"Oxygen\": 35.1371}, {\"Depth\": 331, \"Pressure\": 333.82300000000004, \"Temperature\": 7.9678, \"Salinity\": 35.1402, \"Density\": 1488.02, \"Fluorescence\": -0.3238, \"Turbidity\": 0.342, \"Oxygen\": 35.1362}, {\"Depth\": 332, \"Pressure\": 334.833, \"Temperature\": 7.962999999999999, \"Salinity\": 35.1394, \"Density\": 1488.02, \"Fluorescence\": -0.335, \"Turbidity\": 0.3408, \"Oxygen\": 35.1361}, {\"Depth\": 333, \"Pressure\": 335.842, \"Temperature\": 7.9457, \"Salinity\": 35.1369, \"Density\": 1487.96, \"Fluorescence\": -0.3352, \"Turbidity\": 0.3385, \"Oxygen\": 35.1346}, {\"Depth\": 334, \"Pressure\": 336.851, \"Temperature\": 7.9374, \"Salinity\": 35.1395, \"Density\": 1487.95, \"Fluorescence\": -0.3352, \"Turbidity\": 0.3421, \"Oxygen\": 35.1356}, {\"Depth\": 335, \"Pressure\": 337.861, \"Temperature\": 7.9342, \"Salinity\": 35.139, \"Density\": 1487.96, \"Fluorescence\": -0.3352, \"Turbidity\": 0.3434, \"Oxygen\": 35.135}, {\"Depth\": 336, \"Pressure\": 338.87, \"Temperature\": 7.9233, \"Salinity\": 35.1365, \"Density\": 1487.93, \"Fluorescence\": -0.3352, \"Turbidity\": 0.3433, \"Oxygen\": 35.1339}, {\"Depth\": 337, \"Pressure\": 339.879, \"Temperature\": 7.9065, \"Salinity\": 35.1377, \"Density\": 1487.88, \"Fluorescence\": -0.3199, \"Turbidity\": 0.3413, \"Oxygen\": 35.1341}, {\"Depth\": 338, \"Pressure\": 340.889, \"Temperature\": 7.9013, \"Salinity\": 35.1375, \"Density\": 1487.88, \"Fluorescence\": -0.3371, \"Turbidity\": 0.3436, \"Oxygen\": 35.134}, {\"Depth\": 339, \"Pressure\": 341.898, \"Temperature\": 7.8842, \"Salinity\": 35.1334, \"Density\": 1487.83, \"Fluorescence\": -0.3352, \"Turbidity\": 0.3467, \"Oxygen\": 35.1319}, {\"Depth\": 340, \"Pressure\": 342.908, \"Temperature\": 7.8498, \"Salinity\": 35.1332, \"Density\": 1487.71, \"Fluorescence\": -0.3352, \"Turbidity\": 0.3462, \"Oxygen\": 35.1304}, {\"Depth\": 341, \"Pressure\": 343.917, \"Temperature\": 7.841, \"Salinity\": 35.1344, \"Density\": 1487.7, \"Fluorescence\": -0.3352, \"Turbidity\": 0.3433, \"Oxygen\": 35.1312}, {\"Depth\": 342, \"Pressure\": 344.926, \"Temperature\": 7.8188, \"Salinity\": 35.1295, \"Density\": 1487.62, \"Fluorescence\": -0.3352, \"Turbidity\": 0.3399, \"Oxygen\": 35.128}, {\"Depth\": 343, \"Pressure\": 345.936, \"Temperature\": 7.7985, \"Salinity\": 35.1315, \"Density\": 1487.57, \"Fluorescence\": -0.3352, \"Turbidity\": 0.3385, \"Oxygen\": 35.1281}, {\"Depth\": 344, \"Pressure\": 346.945, \"Temperature\": 7.7859, \"Salinity\": 35.1301, \"Density\": 1487.53, \"Fluorescence\": -0.3352, \"Turbidity\": 0.3385, \"Oxygen\": 35.1273}, {\"Depth\": 345, \"Pressure\": 347.955, \"Temperature\": 7.7668, \"Salinity\": 35.1302, \"Density\": 1487.48, \"Fluorescence\": -0.3182, \"Turbidity\": 0.3453, \"Oxygen\": 35.1267}, {\"Depth\": 346, \"Pressure\": 348.964, \"Temperature\": 7.7209, \"Salinity\": 35.1238, \"Density\": 1487.31, \"Fluorescence\": -0.3355, \"Turbidity\": 0.3464, \"Oxygen\": 35.1228}, {\"Depth\": 347, \"Pressure\": 349.973, \"Temperature\": 7.6663, \"Salinity\": 35.1248, \"Density\": 1487.12, \"Fluorescence\": -0.3352, \"Turbidity\": 0.3434, \"Oxygen\": 35.1218}, {\"Depth\": 348, \"Pressure\": 350.983, \"Temperature\": 7.6437, \"Salinity\": 35.123000000000005, \"Density\": 1487.05, \"Fluorescence\": -0.3352, \"Turbidity\": 0.3436, \"Oxygen\": 35.1204}, {\"Depth\": 349, \"Pressure\": 351.99199999999996, \"Temperature\": 7.6217, \"Salinity\": 35.1218, \"Density\": 1486.98, \"Fluorescence\": -0.3352, \"Turbidity\": 0.3482, \"Oxygen\": 35.1193}, {\"Depth\": 350, \"Pressure\": 353.00199999999995, \"Temperature\": 7.6101, \"Salinity\": 35.1239, \"Density\": 1486.96, \"Fluorescence\": -0.3352, \"Turbidity\": 0.3479, \"Oxygen\": 35.1197}, {\"Depth\": 351, \"Pressure\": 354.01099999999997, \"Temperature\": 7.6076, \"Salinity\": 35.1233, \"Density\": 1486.96, \"Fluorescence\": -0.3352, \"Turbidity\": 0.3482, \"Oxygen\": 35.1197}, {\"Depth\": 352, \"Pressure\": 355.02099999999996, \"Temperature\": 7.6011, \"Salinity\": 35.1224, \"Density\": 1486.95, \"Fluorescence\": -0.3352, \"Turbidity\": 0.3482, \"Oxygen\": 35.119}, {\"Depth\": 353, \"Pressure\": 356.03, \"Temperature\": 7.596, \"Salinity\": 35.123000000000005, \"Density\": 1486.95, \"Fluorescence\": -0.3352, \"Turbidity\": 0.3546, \"Oxygen\": 35.1192}, {\"Depth\": 354, \"Pressure\": 357.039, \"Temperature\": 7.5943, \"Salinity\": 35.123000000000005, \"Density\": 1486.96, \"Fluorescence\": -0.3352, \"Turbidity\": 0.3563, \"Oxygen\": 35.1194}, {\"Depth\": 355, \"Pressure\": 358.04900000000004, \"Temperature\": 7.5968, \"Salinity\": 35.1237, \"Density\": 1486.99, \"Fluorescence\": -0.3352, \"Turbidity\": 0.3495, \"Oxygen\": 35.1199}, {\"Depth\": 356, \"Pressure\": 359.05800000000005, \"Temperature\": 7.5945, \"Salinity\": 35.1222, \"Density\": 1486.99, \"Fluorescence\": -0.3352, \"Turbidity\": 0.3532, \"Oxygen\": 35.1208}, {\"Depth\": 357, \"Pressure\": 360.06800000000004, \"Temperature\": 7.5796, \"Salinity\": 35.1208, \"Density\": 1486.95, \"Fluorescence\": -0.3352, \"Turbidity\": 0.3528, \"Oxygen\": 35.1196}, {\"Depth\": 358, \"Pressure\": 361.077, \"Temperature\": 7.5642, \"Salinity\": 35.1206, \"Density\": 1486.91, \"Fluorescence\": -0.3352, \"Turbidity\": 0.3433, \"Oxygen\": 35.1179}, {\"Depth\": 359, \"Pressure\": 362.087, \"Temperature\": 7.5561, \"Salinity\": 35.12, \"Density\": 1486.9, \"Fluorescence\": -0.3352, \"Turbidity\": 0.3451, \"Oxygen\": 35.1168}, {\"Depth\": 360, \"Pressure\": 363.096, \"Temperature\": 7.5309, \"Salinity\": 35.1182, \"Density\": 1486.81, \"Fluorescence\": -0.3352, \"Turbidity\": 0.3482, \"Oxygen\": 35.116}, {\"Depth\": 361, \"Pressure\": 364.106, \"Temperature\": 7.5216, \"Salinity\": 35.1198, \"Density\": 1486.8, \"Fluorescence\": -0.3352, \"Turbidity\": 0.3436, \"Oxygen\": 35.1165}, {\"Depth\": 362, \"Pressure\": 365.115, \"Temperature\": 7.5168, \"Salinity\": 35.1187, \"Density\": 1486.79, \"Fluorescence\": -0.3352, \"Turbidity\": 0.3437, \"Oxygen\": 35.1152}, {\"Depth\": 363, \"Pressure\": 366.125, \"Temperature\": 7.4986, \"Salinity\": 35.1183, \"Density\": 1486.74, \"Fluorescence\": -0.3352, \"Turbidity\": 0.3452, \"Oxygen\": 35.1146}, {\"Depth\": 364, \"Pressure\": 367.134, \"Temperature\": 7.486000000000001, \"Salinity\": 35.1155, \"Density\": 1486.71, \"Fluorescence\": -0.3352, \"Turbidity\": 0.3491, \"Oxygen\": 35.1135}, {\"Depth\": 365, \"Pressure\": 368.144, \"Temperature\": 7.4426, \"Salinity\": 35.1119, \"Density\": 1486.55, \"Fluorescence\": -0.3352, \"Turbidity\": 0.35200000000000004, \"Oxygen\": 35.1103}, {\"Depth\": 366, \"Pressure\": 369.153, \"Temperature\": 7.4318, \"Salinity\": 35.1142, \"Density\": 1486.53, \"Fluorescence\": -0.3352, \"Turbidity\": 0.3482, \"Oxygen\": 35.1116}, {\"Depth\": 367, \"Pressure\": 370.163, \"Temperature\": 7.4203, \"Salinity\": 35.1154, \"Density\": 1486.5, \"Fluorescence\": -0.3352, \"Turbidity\": 0.3482, \"Oxygen\": 35.1115}, {\"Depth\": 368, \"Pressure\": 371.17199999999997, \"Temperature\": 7.4227, \"Salinity\": 35.1159, \"Density\": 1486.53, \"Fluorescence\": -0.3352, \"Turbidity\": 0.3482, \"Oxygen\": 35.1116}, {\"Depth\": 369, \"Pressure\": 372.18199999999996, \"Temperature\": 7.4237, \"Salinity\": 35.1153, \"Density\": 1486.55, \"Fluorescence\": -0.3352, \"Turbidity\": 0.3526, \"Oxygen\": 35.1115}, {\"Depth\": 370, \"Pressure\": 373.191, \"Temperature\": 7.4155, \"Salinity\": 35.1123, \"Density\": 1486.53, \"Fluorescence\": -0.3352, \"Turbidity\": 0.3466, \"Oxygen\": 35.1105}, {\"Depth\": 371, \"Pressure\": 374.20099999999996, \"Temperature\": 7.3629, \"Salinity\": 35.111, \"Density\": 1486.34, \"Fluorescence\": -0.3352, \"Turbidity\": 0.3454, \"Oxygen\": 35.1079}, {\"Depth\": 372, \"Pressure\": 375.21, \"Temperature\": 7.3135, \"Salinity\": 35.1076, \"Density\": 1486.17, \"Fluorescence\": -0.3352, \"Turbidity\": 0.3445, \"Oxygen\": 35.1052}, {\"Depth\": 373, \"Pressure\": 376.22, \"Temperature\": 7.295, \"Salinity\": 35.1077, \"Density\": 1486.11, \"Fluorescence\": -0.3292, \"Turbidity\": 0.3481, \"Oxygen\": 35.1047}, {\"Depth\": 374, \"Pressure\": 377.23, \"Temperature\": 7.2858, \"Salinity\": 35.1084, \"Density\": 1486.1, \"Fluorescence\": -0.295, \"Turbidity\": 0.3479, \"Oxygen\": 35.1049}, {\"Depth\": 375, \"Pressure\": 378.23900000000003, \"Temperature\": 7.2765, \"Salinity\": 35.1068, \"Density\": 1486.07, \"Fluorescence\": -0.3274, \"Turbidity\": 0.3482, \"Oxygen\": 35.104}, {\"Depth\": 376, \"Pressure\": 379.249, \"Temperature\": 7.2644, \"Salinity\": 35.106, \"Density\": 1486.04, \"Fluorescence\": -0.3353, \"Turbidity\": 0.34600000000000003, \"Oxygen\": 35.1034}, {\"Depth\": 377, \"Pressure\": 380.25800000000004, \"Temperature\": 7.2437, \"Salinity\": 35.1061, \"Density\": 1485.98, \"Fluorescence\": -0.3352, \"Turbidity\": 0.3421, \"Oxygen\": 35.1029}, {\"Depth\": 378, \"Pressure\": 381.26800000000003, \"Temperature\": 7.2378, \"Salinity\": 35.1059, \"Density\": 1485.97, \"Fluorescence\": -0.3352, \"Turbidity\": 0.3394, \"Oxygen\": 35.1027}, {\"Depth\": 379, \"Pressure\": 382.277, \"Temperature\": 7.2301, \"Salinity\": 35.1058, \"Density\": 1485.96, \"Fluorescence\": -0.3352, \"Turbidity\": 0.3442, \"Oxygen\": 35.1024}, {\"Depth\": 380, \"Pressure\": 383.287, \"Temperature\": 7.2154, \"Salinity\": 35.1052, \"Density\": 1485.92, \"Fluorescence\": -0.3352, \"Turbidity\": 0.3481, \"Oxygen\": 35.1025}, {\"Depth\": 381, \"Pressure\": 384.29699999999997, \"Temperature\": 7.2089, \"Salinity\": 35.1058, \"Density\": 1485.91, \"Fluorescence\": -0.3352, \"Turbidity\": 0.345, \"Oxygen\": 35.1026}, {\"Depth\": 382, \"Pressure\": 385.306, \"Temperature\": 7.2089, \"Salinity\": 35.1058, \"Density\": 1485.93, \"Fluorescence\": -0.3352, \"Turbidity\": 0.3483, \"Oxygen\": 35.1026}, {\"Depth\": 383, \"Pressure\": 386.316, \"Temperature\": 7.2081, \"Salinity\": 35.1058, \"Density\": 1485.94, \"Fluorescence\": -0.3352, \"Turbidity\": 0.3482, \"Oxygen\": 35.1016}, {\"Depth\": 384, \"Pressure\": 387.325, \"Temperature\": 7.2058, \"Salinity\": 35.1059, \"Density\": 1485.95, \"Fluorescence\": -0.3352, \"Turbidity\": 0.3482, \"Oxygen\": 35.1016}, {\"Depth\": 385, \"Pressure\": 388.335, \"Temperature\": 7.2046, \"Salinity\": 35.1056, \"Density\": 1485.96, \"Fluorescence\": -0.3507, \"Turbidity\": 0.3482, \"Oxygen\": 35.1015}, {\"Depth\": 386, \"Pressure\": 389.345, \"Temperature\": 7.2012, \"Salinity\": 35.105, \"Density\": 1485.97, \"Fluorescence\": -0.3701, \"Turbidity\": 0.3472, \"Oxygen\": 35.1014}, {\"Depth\": 387, \"Pressure\": 390.35400000000004, \"Temperature\": 7.1938, \"Salinity\": 35.1052, \"Density\": 1485.95, \"Fluorescence\": -0.3364, \"Turbidity\": 0.3435, \"Oxygen\": 35.1015}, {\"Depth\": 388, \"Pressure\": 391.36400000000003, \"Temperature\": 7.1938, \"Salinity\": 35.1055, \"Density\": 1485.97, \"Fluorescence\": -0.3352, \"Turbidity\": 0.3395, \"Oxygen\": 35.1016}, {\"Depth\": 389, \"Pressure\": 392.37300000000005, \"Temperature\": 7.1944, \"Salinity\": 35.1055, \"Density\": 1485.99, \"Fluorescence\": -0.3352, \"Turbidity\": 0.3451, \"Oxygen\": 35.1024}, {\"Depth\": 390, \"Pressure\": 393.38300000000004, \"Temperature\": 7.1924, \"Salinity\": 35.1048, \"Density\": 1486.0, \"Fluorescence\": -0.3352, \"Turbidity\": 0.3483, \"Oxygen\": 35.1018}, {\"Depth\": 391, \"Pressure\": 394.39300000000003, \"Temperature\": 7.1838, \"Salinity\": 35.1049, \"Density\": 1485.98, \"Fluorescence\": -0.3352, \"Turbidity\": 0.3482, \"Oxygen\": 35.1007}, {\"Depth\": 392, \"Pressure\": 395.402, \"Temperature\": 7.181, \"Salinity\": 35.1046, \"Density\": 1485.99, \"Fluorescence\": -0.3352, \"Turbidity\": 0.3479, \"Oxygen\": 35.1012}, {\"Depth\": 393, \"Pressure\": 396.412, \"Temperature\": 7.1759, \"Salinity\": 35.104, \"Density\": 1485.98, \"Fluorescence\": -0.3352, \"Turbidity\": 0.3502, \"Oxygen\": 35.1009}, {\"Depth\": 394, \"Pressure\": 397.42199999999997, \"Temperature\": 7.1709, \"Salinity\": 35.1042, \"Density\": 1485.98, \"Fluorescence\": -0.3352, \"Turbidity\": 0.35200000000000004, \"Oxygen\": 35.1003}, {\"Depth\": 395, \"Pressure\": 398.431, \"Temperature\": 7.1672, \"Salinity\": 35.1042, \"Density\": 1485.98, \"Fluorescence\": -0.3352, \"Turbidity\": 0.3486, \"Oxygen\": 35.1002}, {\"Depth\": 396, \"Pressure\": 399.441, \"Temperature\": 7.1547, \"Salinity\": 35.1011, \"Density\": 1485.95, \"Fluorescence\": -0.3352, \"Turbidity\": 0.3534, \"Oxygen\": 35.0992}, {\"Depth\": 397, \"Pressure\": 400.45099999999996, \"Temperature\": 7.1136, \"Salinity\": 35.101, \"Density\": 1485.81, \"Fluorescence\": -0.3352, \"Turbidity\": 0.3517, \"Oxygen\": 35.0979}, {\"Depth\": 398, \"Pressure\": 401.46, \"Temperature\": 7.065, \"Salinity\": 35.0971, \"Density\": 1485.63, \"Fluorescence\": -0.3352, \"Turbidity\": 0.3516, \"Oxygen\": 35.0952}, {\"Depth\": 399, \"Pressure\": 402.47, \"Temperature\": 7.0238, \"Salinity\": 35.0969, \"Density\": 1485.49, \"Fluorescence\": -0.3352, \"Turbidity\": 0.3577, \"Oxygen\": 35.0942}, {\"Depth\": 400, \"Pressure\": 403.48, \"Temperature\": 7.0011, \"Salinity\": 35.0933, \"Density\": 1485.41, \"Fluorescence\": -0.3352, \"Turbidity\": 0.3728, \"Oxygen\": 35.0922}, {\"Depth\": 401, \"Pressure\": 404.48900000000003, \"Temperature\": 6.9637, \"Salinity\": 35.0919, \"Density\": 1485.28, \"Fluorescence\": -0.3352, \"Turbidity\": 0.3773, \"Oxygen\": 35.0904}, {\"Depth\": 402, \"Pressure\": 405.499, \"Temperature\": 6.9495, \"Salinity\": 35.0945, \"Density\": 1485.25, \"Fluorescence\": -0.3352, \"Turbidity\": 0.3823, \"Oxygen\": 35.0912}, {\"Depth\": 403, \"Pressure\": 406.509, \"Temperature\": 6.9386, \"Salinity\": 35.0937, \"Density\": 1485.22, \"Fluorescence\": -0.3352, \"Turbidity\": 0.3907, \"Oxygen\": 35.0904}, {\"Depth\": 404, \"Pressure\": 407.51800000000003, \"Temperature\": 6.9281, \"Salinity\": 35.0938, \"Density\": 1485.2, \"Fluorescence\": -0.3352, \"Turbidity\": 0.3934, \"Oxygen\": 35.0902}, {\"Depth\": 405, \"Pressure\": 408.528, \"Temperature\": 6.9178, \"Salinity\": 35.0933, \"Density\": 1485.17, \"Fluorescence\": -0.3352, \"Turbidity\": 0.4021, \"Oxygen\": 35.0899}, {\"Depth\": 406, \"Pressure\": 409.538, \"Temperature\": 6.9135, \"Salinity\": 35.0938, \"Density\": 1485.17, \"Fluorescence\": -0.3352, \"Turbidity\": 0.4019, \"Oxygen\": 35.0901}, {\"Depth\": 407, \"Pressure\": 410.54699999999997, \"Temperature\": 6.9105, \"Salinity\": 35.0937, \"Density\": 1485.18, \"Fluorescence\": -0.3352, \"Turbidity\": 0.4086, \"Oxygen\": 35.0901}, {\"Depth\": 408, \"Pressure\": 411.55699999999996, \"Temperature\": 6.9017, \"Salinity\": 35.0926, \"Density\": 1485.16, \"Fluorescence\": -0.3352, \"Turbidity\": 0.3986, \"Oxygen\": 35.0895}, {\"Depth\": 409, \"Pressure\": 412.56699999999995, \"Temperature\": 6.8947, \"Salinity\": 35.0932, \"Density\": 1485.15, \"Fluorescence\": -0.3352, \"Turbidity\": 0.4083, \"Oxygen\": 35.0895}, {\"Depth\": 410, \"Pressure\": 413.577, \"Temperature\": 6.8925, \"Salinity\": 35.0932, \"Density\": 1485.16, \"Fluorescence\": -0.3352, \"Turbidity\": 0.4095, \"Oxygen\": 35.0897}, {\"Depth\": 411, \"Pressure\": 414.586, \"Temperature\": 6.8891, \"Salinity\": 35.0927, \"Density\": 1485.16, \"Fluorescence\": -0.3352, \"Turbidity\": 0.4073, \"Oxygen\": 35.0893}, {\"Depth\": 412, \"Pressure\": 415.596, \"Temperature\": 6.8839999999999995, \"Salinity\": 35.0929, \"Density\": 1485.16, \"Fluorescence\": -0.3352, \"Turbidity\": 0.4117, \"Oxygen\": 35.0893}, {\"Depth\": 413, \"Pressure\": 416.606, \"Temperature\": 6.8801, \"Salinity\": 35.0925, \"Density\": 1485.16, \"Fluorescence\": -0.3352, \"Turbidity\": 0.4076, \"Oxygen\": 35.0891}, {\"Depth\": 414, \"Pressure\": 417.616, \"Temperature\": 6.8708, \"Salinity\": 35.092, \"Density\": 1485.14, \"Fluorescence\": -0.3352, \"Turbidity\": 0.4102, \"Oxygen\": 35.0887}, {\"Depth\": 415, \"Pressure\": 418.625, \"Temperature\": 6.8603, \"Salinity\": 35.0918, \"Density\": 1485.11, \"Fluorescence\": -0.3352, \"Turbidity\": 0.4147, \"Oxygen\": 35.0883}, {\"Depth\": 416, \"Pressure\": 419.635, \"Temperature\": 6.8535, \"Salinity\": 35.0916, \"Density\": 1485.1, \"Fluorescence\": -0.3305, \"Turbidity\": 0.4166, \"Oxygen\": 35.0881}, {\"Depth\": 417, \"Pressure\": 420.645, \"Temperature\": 6.8458, \"Salinity\": 35.0897, \"Density\": 1485.09, \"Fluorescence\": -0.2959, \"Turbidity\": 0.4166, \"Oxygen\": 35.0873}, {\"Depth\": 418, \"Pressure\": 421.655, \"Temperature\": 6.8243, \"Salinity\": 35.0881, \"Density\": 1485.02, \"Fluorescence\": -0.3285, \"Turbidity\": 0.4166, \"Oxygen\": 35.0857}, {\"Depth\": 419, \"Pressure\": 422.664, \"Temperature\": 6.8076, \"Salinity\": 35.0892, \"Density\": 1484.97, \"Fluorescence\": -0.3352, \"Turbidity\": 0.41600000000000004, \"Oxygen\": 35.0858}, {\"Depth\": 420, \"Pressure\": 423.67400000000004, \"Temperature\": 6.8001, \"Salinity\": 35.0885, \"Density\": 1484.96, \"Fluorescence\": -0.3352, \"Turbidity\": 0.4167, \"Oxygen\": 35.0856}, {\"Depth\": 421, \"Pressure\": 424.684, \"Temperature\": 6.7917, \"Salinity\": 35.0881, \"Density\": 1484.94, \"Fluorescence\": -0.3352, \"Turbidity\": 0.4208, \"Oxygen\": 35.0849}, {\"Depth\": 422, \"Pressure\": 425.694, \"Temperature\": 6.7817, \"Salinity\": 35.0879, \"Density\": 1484.92, \"Fluorescence\": -0.3352, \"Turbidity\": 0.4213, \"Oxygen\": 35.0847}, {\"Depth\": 423, \"Pressure\": 426.704, \"Temperature\": 6.7671, \"Salinity\": 35.0871, \"Density\": 1484.88, \"Fluorescence\": -0.3352, \"Turbidity\": 0.4215, \"Oxygen\": 35.0839}, {\"Depth\": 424, \"Pressure\": 427.713, \"Temperature\": 6.7577, \"Salinity\": 35.0876, \"Density\": 1484.86, \"Fluorescence\": -0.3352, \"Turbidity\": 0.4186, \"Oxygen\": 35.0839}, {\"Depth\": 425, \"Pressure\": 428.723, \"Temperature\": 6.7559, \"Salinity\": 35.0867, \"Density\": 1484.87, \"Fluorescence\": -0.3352, \"Turbidity\": 0.4226, \"Oxygen\": 35.0838}, {\"Depth\": 426, \"Pressure\": 429.733, \"Temperature\": 6.7278, \"Salinity\": 35.0813, \"Density\": 1484.77, \"Fluorescence\": -0.3352, \"Turbidity\": 0.4307, \"Oxygen\": 35.0804}, {\"Depth\": 427, \"Pressure\": 430.74300000000005, \"Temperature\": 6.7, \"Salinity\": 35.0845, \"Density\": 1484.68, \"Fluorescence\": -0.3352, \"Turbidity\": 0.4264, \"Oxygen\": 35.0813}, {\"Depth\": 428, \"Pressure\": 431.75300000000004, \"Temperature\": 6.6908, \"Salinity\": 35.0839, \"Density\": 1484.66, \"Fluorescence\": -0.3352, \"Turbidity\": 0.4214, \"Oxygen\": 35.0807}, {\"Depth\": 429, \"Pressure\": 432.76199999999994, \"Temperature\": 6.686, \"Salinity\": 35.084, \"Density\": 1484.66, \"Fluorescence\": -0.3352, \"Turbidity\": 0.42200000000000004, \"Oxygen\": 35.0807}, {\"Depth\": 430, \"Pressure\": 433.772, \"Temperature\": 6.6753, \"Salinity\": 35.082, \"Density\": 1484.63, \"Fluorescence\": -0.3152, \"Turbidity\": 0.4213, \"Oxygen\": 35.0794}, {\"Depth\": 431, \"Pressure\": 434.782, \"Temperature\": 6.652, \"Salinity\": 35.0821, \"Density\": 1484.56, \"Fluorescence\": -0.2968, \"Turbidity\": 0.4218, \"Oxygen\": 35.0788}, {\"Depth\": 432, \"Pressure\": 435.792, \"Temperature\": 6.6242, \"Salinity\": 35.0797, \"Density\": 1484.46, \"Fluorescence\": -0.3308, \"Turbidity\": 0.4217, \"Oxygen\": 35.0772}, {\"Depth\": 433, \"Pressure\": 436.80199999999996, \"Temperature\": 6.5653, \"Salinity\": 35.0734, \"Density\": 1484.24, \"Fluorescence\": -0.3354, \"Turbidity\": 0.4213, \"Oxygen\": 35.0743}, {\"Depth\": 434, \"Pressure\": 437.81199999999995, \"Temperature\": 6.4368, \"Salinity\": 35.0637, \"Density\": 1483.74, \"Fluorescence\": -0.3352, \"Turbidity\": 0.4165, \"Oxygen\": 35.0652}, {\"Depth\": 435, \"Pressure\": 438.82099999999997, \"Temperature\": 6.3855, \"Salinity\": 35.0641, \"Density\": 1483.56, \"Fluorescence\": -0.3352, \"Turbidity\": 0.4212, \"Oxygen\": 35.0646}, {\"Depth\": 436, \"Pressure\": 439.83099999999996, \"Temperature\": 6.3603, \"Salinity\": 35.0679, \"Density\": 1483.48, \"Fluorescence\": -0.3352, \"Turbidity\": 0.4238, \"Oxygen\": 35.0647}, {\"Depth\": 437, \"Pressure\": 440.841, \"Temperature\": 6.3279, \"Salinity\": 35.0616, \"Density\": 1483.36, \"Fluorescence\": -0.3352, \"Turbidity\": 0.4352, \"Oxygen\": 35.0602}, {\"Depth\": 438, \"Pressure\": 441.851, \"Temperature\": 6.2861, \"Salinity\": 35.0652, \"Density\": 1483.22, \"Fluorescence\": -0.3352, \"Turbidity\": 0.4395, \"Oxygen\": 35.0619}, {\"Depth\": 439, \"Pressure\": 442.861, \"Temperature\": 6.3053, \"Salinity\": 35.0681, \"Density\": 1483.31, \"Fluorescence\": -0.3352, \"Turbidity\": 0.4524, \"Oxygen\": 35.0625}, {\"Depth\": 440, \"Pressure\": 443.871, \"Temperature\": 6.2946, \"Salinity\": 35.0625, \"Density\": 1483.28, \"Fluorescence\": -0.3237, \"Turbidity\": 0.46299999999999997, \"Oxygen\": 35.0629}, {\"Depth\": 441, \"Pressure\": 444.881, \"Temperature\": 6.271, \"Salinity\": 35.0662, \"Density\": 1483.21, \"Fluorescence\": -0.3004, \"Turbidity\": 0.456, \"Oxygen\": 35.0621}, {\"Depth\": 442, \"Pressure\": 445.89099999999996, \"Temperature\": 6.2695, \"Salinity\": 35.0666, \"Density\": 1483.22, \"Fluorescence\": -0.3349, \"Turbidity\": 0.4566, \"Oxygen\": 35.0631}, {\"Depth\": 443, \"Pressure\": 446.9, \"Temperature\": 6.2598, \"Salinity\": 35.0667, \"Density\": 1483.2, \"Fluorescence\": -0.3321, \"Turbidity\": 0.4833, \"Oxygen\": 35.0628}, {\"Depth\": 442, \"Pressure\": 445.89099999999996, \"Temperature\": 6.2568, \"Salinity\": 35.0661, \"Density\": 1483.17, \"Fluorescence\": -0.3349, \"Turbidity\": 0.4912, \"Oxygen\": 35.0626}, {\"Depth\": 441, \"Pressure\": 444.881, \"Temperature\": 6.2574, \"Salinity\": 35.0658, \"Density\": 1483.15, \"Fluorescence\": -0.3342, \"Turbidity\": 0.5017, \"Oxygen\": 35.0624}, {\"Depth\": 440, \"Pressure\": 443.871, \"Temperature\": 6.2574, \"Salinity\": 35.0658, \"Density\": 1483.14, \"Fluorescence\": -0.3353, \"Turbidity\": 0.488, \"Oxygen\": 35.063}, {\"Depth\": 439, \"Pressure\": 442.861, \"Temperature\": 6.2529, \"Salinity\": 35.0655, \"Density\": 1483.1, \"Fluorescence\": -0.3588, \"Turbidity\": 0.4872, \"Oxygen\": 35.0617}, {\"Depth\": 438, \"Pressure\": 441.851, \"Temperature\": 6.2555, \"Salinity\": 35.066, \"Density\": 1483.1, \"Fluorescence\": -0.3401, \"Turbidity\": 0.4871, \"Oxygen\": 35.0618}, {\"Depth\": 437, \"Pressure\": 440.841, \"Temperature\": 6.2641, \"Salinity\": 35.0662, \"Density\": 1483.11, \"Fluorescence\": -0.3339, \"Turbidity\": 0.4972, \"Oxygen\": 35.0618}, {\"Depth\": 436, \"Pressure\": 439.83099999999996, \"Temperature\": 6.2669, \"Salinity\": 35.0668, \"Density\": 1483.11, \"Fluorescence\": -0.3352, \"Turbidity\": 0.4918, \"Oxygen\": 35.063}, {\"Depth\": 435, \"Pressure\": 438.82099999999997, \"Temperature\": 6.2762, \"Salinity\": 35.066, \"Density\": 1483.13, \"Fluorescence\": -0.3352, \"Turbidity\": 0.48200000000000004, \"Oxygen\": 35.0639}, {\"Depth\": 434, \"Pressure\": 437.81199999999995, \"Temperature\": 6.2921, \"Salinity\": 35.0661, \"Density\": 1483.17, \"Fluorescence\": -0.3352, \"Turbidity\": 0.4746, \"Oxygen\": 35.0601}, {\"Depth\": 433, \"Pressure\": 436.80199999999996, \"Temperature\": 6.3262, \"Salinity\": 35.0755, \"Density\": 1483.3, \"Fluorescence\": -0.3352, \"Turbidity\": 0.4744, \"Oxygen\": 35.0625}, {\"Depth\": 432, \"Pressure\": 435.792, \"Temperature\": 6.3808, \"Salinity\": 35.0647, \"Density\": 1483.49, \"Fluorescence\": -0.3352, \"Turbidity\": 0.47200000000000003, \"Oxygen\": 35.0698}, {\"Depth\": 431, \"Pressure\": 434.782, \"Temperature\": 6.4899, \"Salinity\": 35.0809, \"Density\": 1483.92, \"Fluorescence\": -0.3328, \"Turbidity\": 0.4504, \"Oxygen\": 35.0763}, {\"Depth\": 430, \"Pressure\": 433.772, \"Temperature\": 6.5943, \"Salinity\": 35.077, \"Density\": 1484.31, \"Fluorescence\": -0.3352, \"Turbidity\": 0.4381, \"Oxygen\": 35.0701}, {\"Depth\": 429, \"Pressure\": 432.76199999999994, \"Temperature\": 6.619, \"Salinity\": 35.0813, \"Density\": 1484.39, \"Fluorescence\": -0.3352, \"Turbidity\": 0.4344, \"Oxygen\": 35.0762}, {\"Depth\": 428, \"Pressure\": 431.75300000000004, \"Temperature\": 6.6384, \"Salinity\": 35.0841, \"Density\": 1484.45, \"Fluorescence\": -0.3352, \"Turbidity\": 0.4322, \"Oxygen\": 35.0792}, {\"Depth\": 427, \"Pressure\": 430.74300000000005, \"Temperature\": 6.6641, \"Salinity\": 35.0798, \"Density\": 1484.53, \"Fluorescence\": -0.3352, \"Turbidity\": 0.4278, \"Oxygen\": 35.0799}, {\"Depth\": 426, \"Pressure\": 429.733, \"Temperature\": 6.6516, \"Salinity\": 35.0866, \"Density\": 1484.48, \"Fluorescence\": -0.3737, \"Turbidity\": 0.4324, \"Oxygen\": 35.0824}, {\"Depth\": 425, \"Pressure\": 428.723, \"Temperature\": 6.6952, \"Salinity\": 35.0865, \"Density\": 1484.63, \"Fluorescence\": -0.3339, \"Turbidity\": 0.433, \"Oxygen\": 35.0831}, {\"Depth\": 424, \"Pressure\": 427.713, \"Temperature\": 6.7002, \"Salinity\": 35.0852, \"Density\": 1484.63, \"Fluorescence\": -0.3344, \"Turbidity\": 0.4359, \"Oxygen\": 35.0814}, {\"Depth\": 423, \"Pressure\": 426.704, \"Temperature\": 6.7263, \"Salinity\": 35.0868, \"Density\": 1484.72, \"Fluorescence\": -0.3343, \"Turbidity\": 0.4314, \"Oxygen\": 35.0806}, {\"Depth\": 422, \"Pressure\": 425.694, \"Temperature\": 6.7519, \"Salinity\": 35.0866, \"Density\": 1484.8, \"Fluorescence\": -0.3328, \"Turbidity\": 0.4218, \"Oxygen\": 35.0834}, {\"Depth\": 421, \"Pressure\": 424.684, \"Temperature\": 6.7613, \"Salinity\": 35.0876, \"Density\": 1484.82, \"Fluorescence\": -0.3351, \"Turbidity\": 0.4253, \"Oxygen\": 35.0839}, {\"Depth\": 420, \"Pressure\": 423.67400000000004, \"Temperature\": 6.7727, \"Salinity\": 35.0882, \"Density\": 1484.85, \"Fluorescence\": -0.3352, \"Turbidity\": 0.429, \"Oxygen\": 35.0851}, {\"Depth\": 419, \"Pressure\": 422.664, \"Temperature\": 6.7784, \"Salinity\": 35.0888, \"Density\": 1484.86, \"Fluorescence\": -0.3352, \"Turbidity\": 0.4318, \"Oxygen\": 35.0834}, {\"Depth\": 418, \"Pressure\": 421.655, \"Temperature\": 6.7874, \"Salinity\": 35.0887, \"Density\": 1484.88, \"Fluorescence\": -0.3352, \"Turbidity\": 0.4274, \"Oxygen\": 35.0858}, {\"Depth\": 417, \"Pressure\": 420.645, \"Temperature\": 6.7897, \"Salinity\": 35.0878, \"Density\": 1484.87, \"Fluorescence\": -0.3352, \"Turbidity\": 0.4351, \"Oxygen\": 35.0849}, {\"Depth\": 416, \"Pressure\": 419.635, \"Temperature\": 6.7959, \"Salinity\": 35.0882, \"Density\": 1484.87, \"Fluorescence\": -0.3352, \"Turbidity\": 0.4223, \"Oxygen\": 35.0849}, {\"Depth\": 415, \"Pressure\": 418.625, \"Temperature\": 6.8291, \"Salinity\": 35.0889, \"Density\": 1484.99, \"Fluorescence\": -0.3342, \"Turbidity\": 0.4258, \"Oxygen\": 35.084}, {\"Depth\": 414, \"Pressure\": 417.616, \"Temperature\": 6.8375, \"Salinity\": 35.0892, \"Density\": 1485.0, \"Fluorescence\": -0.3351, \"Turbidity\": 0.4241, \"Oxygen\": 35.086}, {\"Depth\": 413, \"Pressure\": 416.606, \"Temperature\": 6.8423, \"Salinity\": 35.0898, \"Density\": 1485.01, \"Fluorescence\": -0.3352, \"Turbidity\": 0.4207, \"Oxygen\": 35.0855}, {\"Depth\": 412, \"Pressure\": 415.596, \"Temperature\": 6.8499, \"Salinity\": 35.0903, \"Density\": 1485.02, \"Fluorescence\": -0.3352, \"Turbidity\": 0.4273, \"Oxygen\": 35.0863}, {\"Depth\": 411, \"Pressure\": 414.586, \"Temperature\": 6.8508, \"Salinity\": 35.0894, \"Density\": 1485.01, \"Fluorescence\": -0.3352, \"Turbidity\": 0.42200000000000004, \"Oxygen\": 35.0876}, {\"Depth\": 410, \"Pressure\": 413.577, \"Temperature\": 6.8566, \"Salinity\": 35.0917, \"Density\": 1485.01, \"Fluorescence\": -0.3352, \"Turbidity\": 0.4165, \"Oxygen\": 35.0866}, {\"Depth\": 409, \"Pressure\": 412.56699999999995, \"Temperature\": 6.8739, \"Salinity\": 35.0908, \"Density\": 1485.06, \"Fluorescence\": -0.3352, \"Turbidity\": 0.4144, \"Oxygen\": 35.0866}, {\"Depth\": 408, \"Pressure\": 411.55699999999996, \"Temperature\": 6.8758, \"Salinity\": 35.0913, \"Density\": 1485.06, \"Fluorescence\": -0.3352, \"Turbidity\": 0.4106, \"Oxygen\": 35.086999999999996}, {\"Depth\": 407, \"Pressure\": 410.54699999999997, \"Temperature\": 6.8794, \"Salinity\": 35.0905, \"Density\": 1485.05, \"Fluorescence\": -0.3352, \"Turbidity\": 0.4146, \"Oxygen\": 35.0886}, {\"Depth\": 406, \"Pressure\": 409.538, \"Temperature\": 6.8853, \"Salinity\": 35.0918, \"Density\": 1485.06, \"Fluorescence\": -0.3352, \"Turbidity\": 0.4254, \"Oxygen\": 35.0881}, {\"Depth\": 405, \"Pressure\": 408.528, \"Temperature\": 6.8908, \"Salinity\": 35.0921, \"Density\": 1485.07, \"Fluorescence\": -0.3343, \"Turbidity\": 0.423, \"Oxygen\": 35.0881}, {\"Depth\": 404, \"Pressure\": 407.51800000000003, \"Temperature\": 6.9068, \"Salinity\": 35.0914, \"Density\": 1485.11, \"Fluorescence\": -0.3342, \"Turbidity\": 0.4112, \"Oxygen\": 35.0886}, {\"Depth\": 403, \"Pressure\": 406.509, \"Temperature\": 6.9221, \"Salinity\": 35.0921, \"Density\": 1485.15, \"Fluorescence\": -0.3352, \"Turbidity\": 0.4076, \"Oxygen\": 35.0895}, {\"Depth\": 402, \"Pressure\": 405.499, \"Temperature\": 6.9303, \"Salinity\": 35.0925, \"Density\": 1485.17, \"Fluorescence\": -0.3346, \"Turbidity\": 0.4112, \"Oxygen\": 35.0904}, {\"Depth\": 401, \"Pressure\": 404.48900000000003, \"Temperature\": 6.9306, \"Salinity\": 35.0938, \"Density\": 1485.16, \"Fluorescence\": -0.3348, \"Turbidity\": 0.4109, \"Oxygen\": 35.0899}, {\"Depth\": 400, \"Pressure\": 403.48, \"Temperature\": 6.937, \"Salinity\": 35.0924, \"Density\": 1485.16, \"Fluorescence\": -0.3352, \"Turbidity\": 0.4074, \"Oxygen\": 35.0894}, {\"Depth\": 399, \"Pressure\": 402.47, \"Temperature\": 6.9670000000000005, \"Salinity\": 35.1002, \"Density\": 1485.27, \"Fluorescence\": -0.3352, \"Turbidity\": 0.4007, \"Oxygen\": 35.0905}, {\"Depth\": 398, \"Pressure\": 401.46, \"Temperature\": 7.0304, \"Salinity\": 35.0969, \"Density\": 1485.5, \"Fluorescence\": -0.3366, \"Turbidity\": 0.4059, \"Oxygen\": 35.0926}, {\"Depth\": 397, \"Pressure\": 400.45099999999996, \"Temperature\": 7.0535, \"Salinity\": 35.1014, \"Density\": 1485.57, \"Fluorescence\": -0.3352, \"Turbidity\": 0.4038, \"Oxygen\": 35.0959}, {\"Depth\": 396, \"Pressure\": 399.441, \"Temperature\": 7.1, \"Salinity\": 35.1003, \"Density\": 1485.74, \"Fluorescence\": -0.3352, \"Turbidity\": 0.3878, \"Oxygen\": 35.0961}, {\"Depth\": 395, \"Pressure\": 398.431, \"Temperature\": 7.1028, \"Salinity\": 35.0975, \"Density\": 1485.73, \"Fluorescence\": -0.3352, \"Turbidity\": 0.3795, \"Oxygen\": 35.0988}, {\"Depth\": 394, \"Pressure\": 397.42199999999997, \"Temperature\": 7.1201, \"Salinity\": 35.1025, \"Density\": 1485.78, \"Fluorescence\": -0.3352, \"Turbidity\": 0.3748, \"Oxygen\": 35.0982}, {\"Depth\": 393, \"Pressure\": 396.412, \"Temperature\": 7.1489, \"Salinity\": 35.103, \"Density\": 1485.88, \"Fluorescence\": -0.3506, \"Turbidity\": 0.3648, \"Oxygen\": 35.0991}, {\"Depth\": 392, \"Pressure\": 395.402, \"Temperature\": 7.15, \"Salinity\": 35.1014, \"Density\": 1485.86, \"Fluorescence\": -0.3348, \"Turbidity\": 0.3585, \"Oxygen\": 35.0986}, {\"Depth\": 391, \"Pressure\": 394.39300000000003, \"Temperature\": 7.156000000000001, \"Salinity\": 35.1028, \"Density\": 1485.87, \"Fluorescence\": -0.3352, \"Turbidity\": 0.3618, \"Oxygen\": 35.0979}, {\"Depth\": 390, \"Pressure\": 393.38300000000004, \"Temperature\": 7.1899, \"Salinity\": 35.1031, \"Density\": 1485.99, \"Fluorescence\": -0.3352, \"Turbidity\": 0.3578, \"Oxygen\": 35.099000000000004}, {\"Depth\": 389, \"Pressure\": 392.37300000000005, \"Temperature\": 7.1908, \"Salinity\": 35.1029, \"Density\": 1485.97, \"Fluorescence\": -0.3585, \"Turbidity\": 0.358, \"Oxygen\": 35.0999}, {\"Depth\": 388, \"Pressure\": 391.36400000000003, \"Temperature\": 7.1959, \"Salinity\": 35.1034, \"Density\": 1485.98, \"Fluorescence\": -0.3709, \"Turbidity\": 0.358, \"Oxygen\": 35.1006}, {\"Depth\": 387, \"Pressure\": 390.35400000000004, \"Temperature\": 7.1955, \"Salinity\": 35.1028, \"Density\": 1485.96, \"Fluorescence\": -0.3358, \"Turbidity\": 0.358, \"Oxygen\": 35.1}, {\"Depth\": 386, \"Pressure\": 389.345, \"Temperature\": 7.1924, \"Salinity\": 35.1042, \"Density\": 1485.93, \"Fluorescence\": -0.3352, \"Turbidity\": 0.3489, \"Oxygen\": 35.1008}, {\"Depth\": 385, \"Pressure\": 388.335, \"Temperature\": 7.2003, \"Salinity\": 35.1039, \"Density\": 1485.94, \"Fluorescence\": -0.3663, \"Turbidity\": 0.3515, \"Oxygen\": 35.1005}, {\"Depth\": 384, \"Pressure\": 387.325, \"Temperature\": 7.2029, \"Salinity\": 35.1037, \"Density\": 1485.94, \"Fluorescence\": -0.3367, \"Turbidity\": 0.3547, \"Oxygen\": 35.1005}, {\"Depth\": 383, \"Pressure\": 386.316, \"Temperature\": 7.204, \"Salinity\": 35.1034, \"Density\": 1485.92, \"Fluorescence\": -0.3352, \"Turbidity\": 0.3536, \"Oxygen\": 35.1003}, {\"Depth\": 382, \"Pressure\": 385.306, \"Temperature\": 7.2037, \"Salinity\": 35.1027, \"Density\": 1485.91, \"Fluorescence\": -0.3352, \"Turbidity\": 0.3526, \"Oxygen\": 35.0999}, {\"Depth\": 381, \"Pressure\": 384.29699999999997, \"Temperature\": 7.2115, \"Salinity\": 35.104, \"Density\": 1485.92, \"Fluorescence\": -0.3339, \"Turbidity\": 0.3522, \"Oxygen\": 35.1001}, {\"Depth\": 380, \"Pressure\": 383.287, \"Temperature\": 7.2233, \"Salinity\": 35.1046, \"Density\": 1485.95, \"Fluorescence\": -0.3353, \"Turbidity\": 0.3484, \"Oxygen\": 35.1006}, {\"Depth\": 379, \"Pressure\": 382.277, \"Temperature\": 7.2311, \"Salinity\": 35.1054, \"Density\": 1485.96, \"Fluorescence\": -0.3352, \"Turbidity\": 0.3482, \"Oxygen\": 35.1008}, {\"Depth\": 378, \"Pressure\": 381.26800000000003, \"Temperature\": 7.2456, \"Salinity\": 35.1062, \"Density\": 1486.0, \"Fluorescence\": -0.3352, \"Turbidity\": 0.3527, \"Oxygen\": 35.1013}, {\"Depth\": 377, \"Pressure\": 380.25800000000004, \"Temperature\": 7.2542, \"Salinity\": 35.1041, \"Density\": 1486.02, \"Fluorescence\": -0.33399999999999996, \"Turbidity\": 0.3528, \"Oxygen\": 35.1011}, {\"Depth\": 376, \"Pressure\": 379.249, \"Temperature\": 7.2532, \"Salinity\": 35.1072, \"Density\": 1486.0, \"Fluorescence\": -0.3528, \"Turbidity\": 0.3527, \"Oxygen\": 35.1022}, {\"Depth\": 375, \"Pressure\": 378.23900000000003, \"Temperature\": 7.2703, \"Salinity\": 35.1063, \"Density\": 1486.05, \"Fluorescence\": -0.3389, \"Turbidity\": 0.3529, \"Oxygen\": 35.103}, {\"Depth\": 374, \"Pressure\": 377.23, \"Temperature\": 7.2678, \"Salinity\": 35.1061, \"Density\": 1486.02, \"Fluorescence\": -0.3447, \"Turbidity\": 0.3525, \"Oxygen\": 35.1028}, {\"Depth\": 373, \"Pressure\": 376.22, \"Temperature\": 7.2817, \"Salinity\": 35.1103, \"Density\": 1486.07, \"Fluorescence\": -0.3675, \"Turbidity\": 0.3521, \"Oxygen\": 35.1033}, {\"Depth\": 372, \"Pressure\": 375.21, \"Temperature\": 7.3612, \"Salinity\": 35.1145, \"Density\": 1486.36, \"Fluorescence\": -0.3348, \"Turbidity\": 0.3479, \"Oxygen\": 35.1056}, {\"Depth\": 371, \"Pressure\": 374.20099999999996, \"Temperature\": 7.3913, \"Salinity\": 35.1111, \"Density\": 1486.45, \"Fluorescence\": -0.3352, \"Turbidity\": 0.3472, \"Oxygen\": 35.1082}, {\"Depth\": 370, \"Pressure\": 373.191, \"Temperature\": 7.3996, \"Salinity\": 35.1118, \"Density\": 1486.47, \"Fluorescence\": -0.3352, \"Turbidity\": 0.3478, \"Oxygen\": 35.1093}, {\"Depth\": 369, \"Pressure\": 372.18199999999996, \"Temperature\": 7.4022, \"Salinity\": 35.1126, \"Density\": 1486.46, \"Fluorescence\": -0.3352, \"Turbidity\": 0.3541, \"Oxygen\": 35.1094}, {\"Depth\": 368, \"Pressure\": 371.17199999999997, \"Temperature\": 7.3975, \"Salinity\": 35.1125, \"Density\": 1486.43, \"Fluorescence\": -0.3352, \"Turbidity\": 0.358, \"Oxygen\": 35.1092}, {\"Depth\": 367, \"Pressure\": 370.163, \"Temperature\": 7.4046, \"Salinity\": 35.1137, \"Density\": 1486.44, \"Fluorescence\": -0.3342, \"Turbidity\": 0.3544, \"Oxygen\": 35.1098}, {\"Depth\": 366, \"Pressure\": 369.153, \"Temperature\": 7.4129, \"Salinity\": 35.1125, \"Density\": 1486.46, \"Fluorescence\": -0.3388, \"Turbidity\": 0.3575, \"Oxygen\": 35.1097}, {\"Depth\": 365, \"Pressure\": 368.144, \"Temperature\": 7.412000000000001, \"Salinity\": 35.1128, \"Density\": 1486.44, \"Fluorescence\": -0.3352, \"Turbidity\": 0.3526, \"Oxygen\": 35.1094}, {\"Depth\": 364, \"Pressure\": 367.134, \"Temperature\": 7.417000000000001, \"Salinity\": 35.1152, \"Density\": 1486.44, \"Fluorescence\": -0.3352, \"Turbidity\": 0.3528, \"Oxygen\": 35.11}, {\"Depth\": 363, \"Pressure\": 366.125, \"Temperature\": 7.452000000000001, \"Salinity\": 35.1154, \"Density\": 1486.56, \"Fluorescence\": -0.3352, \"Turbidity\": 0.3527, \"Oxygen\": 35.1104}, {\"Depth\": 362, \"Pressure\": 365.115, \"Temperature\": 7.4577, \"Salinity\": 35.1153, \"Density\": 1486.56, \"Fluorescence\": -0.3352, \"Turbidity\": 0.3518, \"Oxygen\": 35.1111}, {\"Depth\": 361, \"Pressure\": 364.106, \"Temperature\": 7.4635, \"Salinity\": 35.1136, \"Density\": 1486.57, \"Fluorescence\": -0.3352, \"Turbidity\": 0.3528, \"Oxygen\": 35.1101}, {\"Depth\": 360, \"Pressure\": 363.096, \"Temperature\": 7.4742, \"Salinity\": 35.1147, \"Density\": 1486.59, \"Fluorescence\": -0.3352, \"Turbidity\": 0.349, \"Oxygen\": 35.1127}, {\"Depth\": 359, \"Pressure\": 362.087, \"Temperature\": 7.4775, \"Salinity\": 35.116, \"Density\": 1486.59, \"Fluorescence\": -0.3352, \"Turbidity\": 0.3561, \"Oxygen\": 35.1123}, {\"Depth\": 358, \"Pressure\": 361.077, \"Temperature\": 7.4886, \"Salinity\": 35.1166, \"Density\": 1486.62, \"Fluorescence\": -0.3676, \"Turbidity\": 0.3582, \"Oxygen\": 35.1132}, {\"Depth\": 357, \"Pressure\": 360.06800000000004, \"Temperature\": 7.4893, \"Salinity\": 35.1162, \"Density\": 1486.6, \"Fluorescence\": -0.3358, \"Turbidity\": 0.35700000000000004, \"Oxygen\": 35.1125}, {\"Depth\": 356, \"Pressure\": 359.05800000000005, \"Temperature\": 7.5092, \"Salinity\": 35.1203, \"Density\": 1486.67, \"Fluorescence\": -0.3351, \"Turbidity\": 0.3465, \"Oxygen\": 35.1128}, {\"Depth\": 355, \"Pressure\": 358.04900000000004, \"Temperature\": 7.5563, \"Salinity\": 35.1206, \"Density\": 1486.83, \"Fluorescence\": -0.3352, \"Turbidity\": 0.3508, \"Oxygen\": 35.1156}, {\"Depth\": 354, \"Pressure\": 357.039, \"Temperature\": 7.5751, \"Salinity\": 35.1196, \"Density\": 1486.88, \"Fluorescence\": -0.3366, \"Turbidity\": 0.3531, \"Oxygen\": 35.1172}, {\"Depth\": 353, \"Pressure\": 356.03, \"Temperature\": 7.5856, \"Salinity\": 35.1208, \"Density\": 1486.91, \"Fluorescence\": -0.3352, \"Turbidity\": 0.3577, \"Oxygen\": 35.1169}, {\"Depth\": 352, \"Pressure\": 355.02099999999996, \"Temperature\": 7.5812, \"Salinity\": 35.1195, \"Density\": 1486.87, \"Fluorescence\": -0.3579, \"Turbidity\": 0.358, \"Oxygen\": 35.1178}, {\"Depth\": 351, \"Pressure\": 354.01099999999997, \"Temperature\": 7.5836, \"Salinity\": 35.1216, \"Density\": 1486.87, \"Fluorescence\": -0.35, \"Turbidity\": 0.358, \"Oxygen\": 35.1178}, {\"Depth\": 350, \"Pressure\": 353.00199999999995, \"Temperature\": 7.591, \"Salinity\": 35.1212, \"Density\": 1486.88, \"Fluorescence\": -0.3438, \"Turbidity\": 0.3579, \"Oxygen\": 35.1181}, {\"Depth\": 349, \"Pressure\": 351.99199999999996, \"Temperature\": 7.5918, \"Salinity\": 35.1209, \"Density\": 1486.87, \"Fluorescence\": -0.3556, \"Turbidity\": 0.3552, \"Oxygen\": 35.1178}, {\"Depth\": 348, \"Pressure\": 350.983, \"Temperature\": 7.6021, \"Salinity\": 35.1226, \"Density\": 1486.89, \"Fluorescence\": -0.336, \"Turbidity\": 0.3524, \"Oxygen\": 35.1172}, {\"Depth\": 347, \"Pressure\": 349.973, \"Temperature\": 7.6372, \"Salinity\": 35.1224, \"Density\": 1487.01, \"Fluorescence\": -0.3352, \"Turbidity\": 0.3526, \"Oxygen\": 35.1179}, {\"Depth\": 346, \"Pressure\": 348.964, \"Temperature\": 7.6551, \"Salinity\": 35.123000000000005, \"Density\": 1487.06, \"Fluorescence\": -0.3352, \"Turbidity\": 0.3526, \"Oxygen\": 35.1203}, {\"Depth\": 345, \"Pressure\": 347.955, \"Temperature\": 7.6654, \"Salinity\": 35.1237, \"Density\": 1487.08, \"Fluorescence\": -0.3377, \"Turbidity\": 0.3575, \"Oxygen\": 35.1203}, {\"Depth\": 344, \"Pressure\": 346.945, \"Temperature\": 7.6975, \"Salinity\": 35.123000000000005, \"Density\": 1487.19, \"Fluorescence\": -0.3689, \"Turbidity\": 0.3512, \"Oxygen\": 35.1198}, {\"Depth\": 343, \"Pressure\": 345.936, \"Temperature\": 7.6811, \"Salinity\": 35.1222, \"Density\": 1487.11, \"Fluorescence\": -0.3345, \"Turbidity\": 0.3477, \"Oxygen\": 35.1209}, {\"Depth\": 342, \"Pressure\": 344.926, \"Temperature\": 7.6891, \"Salinity\": 35.126999999999995, \"Density\": 1487.13, \"Fluorescence\": -0.3352, \"Turbidity\": 0.3535, \"Oxygen\": 35.1184}, {\"Depth\": 341, \"Pressure\": 343.917, \"Temperature\": 7.7443, \"Salinity\": 35.1323, \"Density\": 1487.33, \"Fluorescence\": -0.3364, \"Turbidity\": 0.3558, \"Oxygen\": 35.125}, {\"Depth\": 340, \"Pressure\": 342.908, \"Temperature\": 7.7772, \"Salinity\": 35.1268, \"Density\": 1487.43, \"Fluorescence\": -0.3351, \"Turbidity\": 0.3528, \"Oxygen\": 35.1226}, {\"Depth\": 339, \"Pressure\": 341.898, \"Temperature\": 7.7679, \"Salinity\": 35.1296, \"Density\": 1487.38, \"Fluorescence\": -0.3352, \"Turbidity\": 0.3529, \"Oxygen\": 35.1255}, {\"Depth\": 338, \"Pressure\": 340.889, \"Temperature\": 7.8216, \"Salinity\": 35.1307, \"Density\": 1487.57, \"Fluorescence\": -0.3352, \"Turbidity\": 0.3503, \"Oxygen\": 35.126}, {\"Depth\": 337, \"Pressure\": 339.879, \"Temperature\": 7.8415, \"Salinity\": 35.1356, \"Density\": 1487.63, \"Fluorescence\": -0.3352, \"Turbidity\": 0.3496, \"Oxygen\": 35.1279}, {\"Depth\": 336, \"Pressure\": 338.87, \"Temperature\": 7.8714, \"Salinity\": 35.1326, \"Density\": 1487.73, \"Fluorescence\": -0.3352, \"Turbidity\": 0.358, \"Oxygen\": 35.1296}, {\"Depth\": 335, \"Pressure\": 337.861, \"Temperature\": 7.8753, \"Salinity\": 35.1353, \"Density\": 1487.73, \"Fluorescence\": -0.3352, \"Turbidity\": 0.358, \"Oxygen\": 35.1303}, {\"Depth\": 334, \"Pressure\": 336.851, \"Temperature\": 7.8828, \"Salinity\": 35.1355, \"Density\": 1487.74, \"Fluorescence\": -0.3352, \"Turbidity\": 0.3531, \"Oxygen\": 35.1306}, {\"Depth\": 333, \"Pressure\": 335.842, \"Temperature\": 7.8969, \"Salinity\": 35.1352, \"Density\": 1487.78, \"Fluorescence\": -0.3345, \"Turbidity\": 0.3527, \"Oxygen\": 35.1309}, {\"Depth\": 332, \"Pressure\": 334.833, \"Temperature\": 7.9022, \"Salinity\": 35.1358, \"Density\": 1487.78, \"Fluorescence\": -0.3352, \"Turbidity\": 0.3516, \"Oxygen\": 35.1325}, {\"Depth\": 331, \"Pressure\": 333.82300000000004, \"Temperature\": 7.9088, \"Salinity\": 35.1343, \"Density\": 1487.79, \"Fluorescence\": -0.3646, \"Turbidity\": 0.3501, \"Oxygen\": 35.1322}, {\"Depth\": 330, \"Pressure\": 332.814, \"Temperature\": 7.9237, \"Salinity\": 35.1391, \"Density\": 1487.83, \"Fluorescence\": -0.373, \"Turbidity\": 0.3502, \"Oxygen\": 35.1336}, {\"Depth\": 329, \"Pressure\": 331.805, \"Temperature\": 7.9852, \"Salinity\": 35.141999999999996, \"Density\": 1488.05, \"Fluorescence\": -0.3707, \"Turbidity\": 0.3524, \"Oxygen\": 35.1351}, {\"Depth\": 328, \"Pressure\": 330.795, \"Temperature\": 7.9988, \"Salinity\": 35.1395, \"Density\": 1488.08, \"Fluorescence\": -0.3369, \"Turbidity\": 0.3523, \"Oxygen\": 35.135}, {\"Depth\": 327, \"Pressure\": 329.786, \"Temperature\": 8.0052, \"Salinity\": 35.1399, \"Density\": 1488.09, \"Fluorescence\": -0.3352, \"Turbidity\": 0.3521, \"Oxygen\": 35.1369}, {\"Depth\": 326, \"Pressure\": 328.777, \"Temperature\": 8.0106, \"Salinity\": 35.1397, \"Density\": 1488.1, \"Fluorescence\": -0.3352, \"Turbidity\": 0.3525, \"Oxygen\": 35.1343}, {\"Depth\": 325, \"Pressure\": 327.767, \"Temperature\": 8.0144, \"Salinity\": 35.1395, \"Density\": 1488.09, \"Fluorescence\": -0.3352, \"Turbidity\": 0.3522, \"Oxygen\": 35.1369}, {\"Depth\": 324, \"Pressure\": 326.758, \"Temperature\": 8.0224, \"Salinity\": 35.1417, \"Density\": 1488.11, \"Fluorescence\": -0.3352, \"Turbidity\": 0.3552, \"Oxygen\": 35.1375}, {\"Depth\": 323, \"Pressure\": 325.749, \"Temperature\": 8.0301, \"Salinity\": 35.1406, \"Density\": 1488.12, \"Fluorescence\": -0.3358, \"Turbidity\": 0.35200000000000004, \"Oxygen\": 35.1375}, {\"Depth\": 322, \"Pressure\": 324.73900000000003, \"Temperature\": 8.0328, \"Salinity\": 35.1399, \"Density\": 1488.11, \"Fluorescence\": -0.3352, \"Turbidity\": 0.3522, \"Oxygen\": 35.1365}, {\"Depth\": 321, \"Pressure\": 323.73, \"Temperature\": 8.0515, \"Salinity\": 35.1435, \"Density\": 1488.17, \"Fluorescence\": -0.3352, \"Turbidity\": 0.3561, \"Oxygen\": 35.1384}, {\"Depth\": 320, \"Pressure\": 322.721, \"Temperature\": 8.1037, \"Salinity\": 35.1464, \"Density\": 1488.36, \"Fluorescence\": -0.3503, \"Turbidity\": 0.3531, \"Oxygen\": 35.1403}, {\"Depth\": 319, \"Pressure\": 321.712, \"Temperature\": 8.1844, \"Salinity\": 35.1479, \"Density\": 1488.64, \"Fluorescence\": -0.3742, \"Turbidity\": 0.3482, \"Oxygen\": 35.1441}, {\"Depth\": 318, \"Pressure\": 320.702, \"Temperature\": 8.2175, \"Salinity\": 35.1518, \"Density\": 1488.76, \"Fluorescence\": -0.3383, \"Turbidity\": 0.3572, \"Oxygen\": 35.1403}, {\"Depth\": 317, \"Pressure\": 319.693, \"Temperature\": 8.3013, \"Salinity\": 35.1612, \"Density\": 1489.07, \"Fluorescence\": -0.335, \"Turbidity\": 0.3539, \"Oxygen\": 35.1525}, {\"Depth\": 316, \"Pressure\": 318.684, \"Temperature\": 8.2745, \"Salinity\": 35.1525, \"Density\": 1488.94, \"Fluorescence\": -0.3395, \"Turbidity\": 0.3478, \"Oxygen\": 35.1527}, {\"Depth\": 315, \"Pressure\": 317.67400000000004, \"Temperature\": 8.3531, \"Salinity\": 35.1602, \"Density\": 1489.23, \"Fluorescence\": -0.3479, \"Turbidity\": 0.3539, \"Oxygen\": 35.1555}, {\"Depth\": 314, \"Pressure\": 316.665, \"Temperature\": 8.3717, \"Salinity\": 35.1633, \"Density\": 1489.28, \"Fluorescence\": -0.3342, \"Turbidity\": 0.3521, \"Oxygen\": 35.1555}, {\"Depth\": 313, \"Pressure\": 315.656, \"Temperature\": 8.4224, \"Salinity\": 35.1674, \"Density\": 1489.46, \"Fluorescence\": -0.3364, \"Turbidity\": 0.3528, \"Oxygen\": 35.159}, {\"Depth\": 312, \"Pressure\": 314.647, \"Temperature\": 8.567, \"Salinity\": 35.1791, \"Density\": 1490.0, \"Fluorescence\": -0.3572, \"Turbidity\": 0.3493, \"Oxygen\": 35.1683}, {\"Depth\": 311, \"Pressure\": 313.637, \"Temperature\": 8.6659, \"Salinity\": 35.1759, \"Density\": 1490.34, \"Fluorescence\": -0.3744, \"Turbidity\": 0.3476, \"Oxygen\": 35.1723}, {\"Depth\": 310, \"Pressure\": 312.628, \"Temperature\": 8.6383, \"Salinity\": 35.1766, \"Density\": 1490.23, \"Fluorescence\": -0.3394, \"Turbidity\": 0.3468, \"Oxygen\": 35.1754}, {\"Depth\": 309, \"Pressure\": 311.619, \"Temperature\": 8.7012, \"Salinity\": 35.1947, \"Density\": 1490.46, \"Fluorescence\": -0.3562, \"Turbidity\": 0.3527, \"Oxygen\": 35.1845}, {\"Depth\": 308, \"Pressure\": 310.61, \"Temperature\": 8.7462, \"Salinity\": 35.188, \"Density\": 1490.61, \"Fluorescence\": -0.3744, \"Turbidity\": 0.358, \"Oxygen\": 35.1854}, {\"Depth\": 307, \"Pressure\": 309.6, \"Temperature\": 8.7778, \"Salinity\": 35.1934, \"Density\": 1490.71, \"Fluorescence\": -0.3477, \"Turbidity\": 0.3577, \"Oxygen\": 35.1905}, {\"Depth\": 306, \"Pressure\": 308.591, \"Temperature\": 8.8285, \"Salinity\": 35.1947, \"Density\": 1490.89, \"Fluorescence\": -0.335, \"Turbidity\": 0.3545, \"Oxygen\": 35.1899}, {\"Depth\": 305, \"Pressure\": 307.582, \"Temperature\": 8.8096, \"Salinity\": 35.1911, \"Density\": 1490.8, \"Fluorescence\": -0.3362, \"Turbidity\": 0.354, \"Oxygen\": 35.1867}, {\"Depth\": 304, \"Pressure\": 306.573, \"Temperature\": 8.8863, \"Salinity\": 35.2004, \"Density\": 1491.07, \"Fluorescence\": -0.3484, \"Turbidity\": 0.3537, \"Oxygen\": 35.1946}, {\"Depth\": 303, \"Pressure\": 305.564, \"Temperature\": 8.9547, \"Salinity\": 35.2011, \"Density\": 1491.31, \"Fluorescence\": -0.3728, \"Turbidity\": 0.3581, \"Oxygen\": 35.198}, {\"Depth\": 302, \"Pressure\": 304.55400000000003, \"Temperature\": 8.9716, \"Salinity\": 35.2035, \"Density\": 1491.36, \"Fluorescence\": -0.3387, \"Turbidity\": 0.3531, \"Oxygen\": 35.1995}, {\"Depth\": 301, \"Pressure\": 303.545, \"Temperature\": 8.9815, \"Salinity\": 35.2058, \"Density\": 1491.38, \"Fluorescence\": -0.3361, \"Turbidity\": 0.3488, \"Oxygen\": 35.2004}, {\"Depth\": 300, \"Pressure\": 302.536, \"Temperature\": 8.9925, \"Salinity\": 35.208, \"Density\": 1491.41, \"Fluorescence\": -0.3347, \"Turbidity\": 0.3502, \"Oxygen\": 35.202}, {\"Depth\": 299, \"Pressure\": 301.527, \"Temperature\": 9.0385, \"Salinity\": 35.2079, \"Density\": 1491.56, \"Fluorescence\": -0.3193, \"Turbidity\": 0.3523, \"Oxygen\": 35.2045}, {\"Depth\": 298, \"Pressure\": 300.518, \"Temperature\": 9.022, \"Salinity\": 35.2081, \"Density\": 1491.48, \"Fluorescence\": -0.3227, \"Turbidity\": 0.3561, \"Oxygen\": 35.2024}, {\"Depth\": 297, \"Pressure\": 299.509, \"Temperature\": 9.0486, \"Salinity\": 35.2112, \"Density\": 1491.57, \"Fluorescence\": -0.35700000000000004, \"Turbidity\": 0.3547, \"Oxygen\": 35.2055}, {\"Depth\": 296, \"Pressure\": 298.499, \"Temperature\": 9.0963, \"Salinity\": 35.2146, \"Density\": 1491.73, \"Fluorescence\": -0.3696, \"Turbidity\": 0.3522, \"Oxygen\": 35.2097}, {\"Depth\": 295, \"Pressure\": 297.49, \"Temperature\": 9.1107, \"Salinity\": 35.2134, \"Density\": 1491.77, \"Fluorescence\": -0.33399999999999996, \"Turbidity\": 0.3471, \"Oxygen\": 35.2112}, {\"Depth\": 294, \"Pressure\": 296.481, \"Temperature\": 9.1124, \"Salinity\": 35.2132, \"Density\": 1491.75, \"Fluorescence\": -0.3629, \"Turbidity\": 0.3509, \"Oxygen\": 35.2102}, {\"Depth\": 293, \"Pressure\": 295.472, \"Temperature\": 9.1174, \"Salinity\": 35.216, \"Density\": 1491.76, \"Fluorescence\": -0.3477, \"Turbidity\": 0.3522, \"Oxygen\": 35.2119}, {\"Depth\": 292, \"Pressure\": 294.46299999999997, \"Temperature\": 9.1416, \"Salinity\": 35.2165, \"Density\": 1491.83, \"Fluorescence\": -0.3692, \"Turbidity\": 0.3464, \"Oxygen\": 35.2114}, {\"Depth\": 291, \"Pressure\": 293.454, \"Temperature\": 9.1355, \"Salinity\": 35.2149, \"Density\": 1491.79, \"Fluorescence\": -0.3366, \"Turbidity\": 0.3573, \"Oxygen\": 35.213}, {\"Depth\": 290, \"Pressure\": 292.444, \"Temperature\": 9.1544, \"Salinity\": 35.2194, \"Density\": 1491.85, \"Fluorescence\": -0.3352, \"Turbidity\": 0.3522, \"Oxygen\": 35.2136}, {\"Depth\": 289, \"Pressure\": 291.435, \"Temperature\": 9.2142, \"Salinity\": 35.2195, \"Density\": 1492.05, \"Fluorescence\": -0.3412, \"Turbidity\": 0.3528, \"Oxygen\": 35.2145}, {\"Depth\": 288, \"Pressure\": 290.426, \"Temperature\": 9.2171, \"Salinity\": 35.2127, \"Density\": 1492.04, \"Fluorescence\": -0.36200000000000004, \"Turbidity\": 0.3604, \"Oxygen\": 35.215}, {\"Depth\": 287, \"Pressure\": 289.41700000000003, \"Temperature\": 9.2346, \"Salinity\": 35.2206, \"Density\": 1492.1, \"Fluorescence\": -0.3338, \"Turbidity\": 0.3619, \"Oxygen\": 35.222}, {\"Depth\": 286, \"Pressure\": 288.408, \"Temperature\": 9.2658, \"Salinity\": 35.2283, \"Density\": 1492.2, \"Fluorescence\": -0.3352, \"Turbidity\": 0.3507, \"Oxygen\": 35.2207}, {\"Depth\": 285, \"Pressure\": 287.399, \"Temperature\": 9.298, \"Salinity\": 35.2265, \"Density\": 1492.3, \"Fluorescence\": -0.3352, \"Turbidity\": 0.3466, \"Oxygen\": 35.2224}, {\"Depth\": 284, \"Pressure\": 286.39, \"Temperature\": 9.3089, \"Salinity\": 35.2281, \"Density\": 1492.33, \"Fluorescence\": -0.3362, \"Turbidity\": 0.3569, \"Oxygen\": 35.2248}, {\"Depth\": 283, \"Pressure\": 285.381, \"Temperature\": 9.3157, \"Salinity\": 35.2282, \"Density\": 1492.33, \"Fluorescence\": -0.3352, \"Turbidity\": 0.3531, \"Oxygen\": 35.2248}, {\"Depth\": 282, \"Pressure\": 284.371, \"Temperature\": 9.3234, \"Salinity\": 35.2286, \"Density\": 1492.35, \"Fluorescence\": -0.3352, \"Turbidity\": 0.3519, \"Oxygen\": 35.2266}, {\"Depth\": 281, \"Pressure\": 283.362, \"Temperature\": 9.3355, \"Salinity\": 35.2314, \"Density\": 1492.38, \"Fluorescence\": -0.3359, \"Turbidity\": 0.3524, \"Oxygen\": 35.2256}, {\"Depth\": 280, \"Pressure\": 282.353, \"Temperature\": 9.3452, \"Salinity\": 35.2287, \"Density\": 1492.39, \"Fluorescence\": -0.3352, \"Turbidity\": 0.3523, \"Oxygen\": 35.2266}, {\"Depth\": 279, \"Pressure\": 281.344, \"Temperature\": 9.3531, \"Salinity\": 35.2289, \"Density\": 1492.41, \"Fluorescence\": -0.3352, \"Turbidity\": 0.3533, \"Oxygen\": 35.2304}, {\"Depth\": 278, \"Pressure\": 280.335, \"Temperature\": 9.3865, \"Salinity\": 35.2348, \"Density\": 1492.52, \"Fluorescence\": -0.3352, \"Turbidity\": 0.358, \"Oxygen\": 35.2291}, {\"Depth\": 277, \"Pressure\": 279.32599999999996, \"Temperature\": 9.3981, \"Salinity\": 35.2343, \"Density\": 1492.54, \"Fluorescence\": -0.3478, \"Turbidity\": 0.3544, \"Oxygen\": 35.2301}, {\"Depth\": 276, \"Pressure\": 278.317, \"Temperature\": 9.4126, \"Salinity\": 35.2347, \"Density\": 1492.58, \"Fluorescence\": -0.3669, \"Turbidity\": 0.3486, \"Oxygen\": 35.2324}, {\"Depth\": 275, \"Pressure\": 277.308, \"Temperature\": 9.4401, \"Salinity\": 35.2375, \"Density\": 1492.67, \"Fluorescence\": -0.3363, \"Turbidity\": 0.3517, \"Oxygen\": 35.2316}, {\"Depth\": 274, \"Pressure\": 276.29900000000004, \"Temperature\": 9.4877, \"Salinity\": 35.2372, \"Density\": 1492.82, \"Fluorescence\": -0.3352, \"Turbidity\": 0.3568, \"Oxygen\": 35.2344}, {\"Depth\": 273, \"Pressure\": 275.29, \"Temperature\": 9.5164, \"Salinity\": 35.2385, \"Density\": 1492.91, \"Fluorescence\": -0.3615, \"Turbidity\": 0.3541, \"Oxygen\": 35.2308}, {\"Depth\": 272, \"Pressure\": 274.281, \"Temperature\": 9.5025, \"Salinity\": 35.2397, \"Density\": 1492.85, \"Fluorescence\": -0.3465, \"Turbidity\": 0.3519, \"Oxygen\": 35.2367}, {\"Depth\": 271, \"Pressure\": 273.272, \"Temperature\": 9.5261, \"Salinity\": 35.2444, \"Density\": 1492.92, \"Fluorescence\": -0.335, \"Turbidity\": 0.3475, \"Oxygen\": 35.2397}, {\"Depth\": 270, \"Pressure\": 272.263, \"Temperature\": 9.5807, \"Salinity\": 35.2404, \"Density\": 1493.1, \"Fluorescence\": -0.3332, \"Turbidity\": 0.348, \"Oxygen\": 35.2365}, {\"Depth\": 269, \"Pressure\": 271.254, \"Temperature\": 9.6462, \"Salinity\": 35.2504, \"Density\": 1493.33, \"Fluorescence\": -0.3352, \"Turbidity\": 0.3514, \"Oxygen\": 35.2506}, {\"Depth\": 268, \"Pressure\": 270.244, \"Temperature\": 9.7021, \"Salinity\": 35.2551, \"Density\": 1493.52, \"Fluorescence\": -0.3352, \"Turbidity\": 0.3485, \"Oxygen\": 35.2505}, {\"Depth\": 267, \"Pressure\": 269.235, \"Temperature\": 9.7334, \"Salinity\": 35.2527, \"Density\": 1493.62, \"Fluorescence\": -0.3369, \"Turbidity\": 0.3507, \"Oxygen\": 35.251999999999995}, {\"Depth\": 266, \"Pressure\": 268.226, \"Temperature\": 9.7561, \"Salinity\": 35.2644, \"Density\": 1493.69, \"Fluorescence\": -0.3758, \"Turbidity\": 0.3496, \"Oxygen\": 35.2557}, {\"Depth\": 265, \"Pressure\": 267.217, \"Temperature\": 9.8126, \"Salinity\": 35.2579, \"Density\": 1493.87, \"Fluorescence\": -0.3642, \"Turbidity\": 0.35600000000000004, \"Oxygen\": 35.2548}, {\"Depth\": 264, \"Pressure\": 266.20799999999997, \"Temperature\": 9.8501, \"Salinity\": 35.2703, \"Density\": 1494.01, \"Fluorescence\": -0.3346, \"Turbidity\": 0.3466, \"Oxygen\": 35.2583}, {\"Depth\": 263, \"Pressure\": 265.199, \"Temperature\": 9.9447, \"Salinity\": 35.2672, \"Density\": 1494.33, \"Fluorescence\": -0.3352, \"Turbidity\": 0.3519, \"Oxygen\": 35.2659}, {\"Depth\": 262, \"Pressure\": 264.19, \"Temperature\": 10.0005, \"Salinity\": 35.2813, \"Density\": 1494.53, \"Fluorescence\": -0.3345, \"Turbidity\": 0.3522, \"Oxygen\": 35.2663}, {\"Depth\": 261, \"Pressure\": 263.181, \"Temperature\": 10.0471, \"Salinity\": 35.2756, \"Density\": 1494.67, \"Fluorescence\": -0.3352, \"Turbidity\": 0.3514, \"Oxygen\": 35.2628}, {\"Depth\": 260, \"Pressure\": 262.172, \"Temperature\": 10.037, \"Salinity\": 35.2767, \"Density\": 1494.62, \"Fluorescence\": -0.3352, \"Turbidity\": 0.3451, \"Oxygen\": 35.2774}, {\"Depth\": 259, \"Pressure\": 261.163, \"Temperature\": 10.0881, \"Salinity\": 35.2881, \"Density\": 1494.8, \"Fluorescence\": -0.3352, \"Turbidity\": 0.3432, \"Oxygen\": 35.2787}, {\"Depth\": 258, \"Pressure\": 260.154, \"Temperature\": 10.1538, \"Salinity\": 35.2972, \"Density\": 1495.03, \"Fluorescence\": -0.3352, \"Turbidity\": 0.3478, \"Oxygen\": 35.2899}, {\"Depth\": 257, \"Pressure\": 259.145, \"Temperature\": 10.1929, \"Salinity\": 35.2973, \"Density\": 1495.15, \"Fluorescence\": -0.3352, \"Turbidity\": 0.3472, \"Oxygen\": 35.2962}, {\"Depth\": 256, \"Pressure\": 258.13599999999997, \"Temperature\": 10.1965, \"Salinity\": 35.2984, \"Density\": 1495.15, \"Fluorescence\": -0.3359, \"Turbidity\": 0.3476, \"Oxygen\": 35.295}, {\"Depth\": 255, \"Pressure\": 257.127, \"Temperature\": 10.2259, \"Salinity\": 35.3014, \"Density\": 1495.24, \"Fluorescence\": -0.3358, \"Turbidity\": 0.3477, \"Oxygen\": 35.2985}, {\"Depth\": 254, \"Pressure\": 256.118, \"Temperature\": 10.225, \"Salinity\": 35.3007, \"Density\": 1495.22, \"Fluorescence\": -0.3352, \"Turbidity\": 0.3526, \"Oxygen\": 35.2977}, {\"Depth\": 253, \"Pressure\": 255.11, \"Temperature\": 10.2343, \"Salinity\": 35.3091, \"Density\": 1495.25, \"Fluorescence\": -0.3352, \"Turbidity\": 0.3526, \"Oxygen\": 35.2992}, {\"Depth\": 252, \"Pressure\": 254.101, \"Temperature\": 10.3133, \"Salinity\": 35.3105, \"Density\": 1495.52, \"Fluorescence\": -0.3352, \"Turbidity\": 0.3475, \"Oxygen\": 35.3084}, {\"Depth\": 251, \"Pressure\": 253.092, \"Temperature\": 10.3535, \"Salinity\": 35.3163, \"Density\": 1495.65, \"Fluorescence\": -0.3352, \"Turbidity\": 0.35200000000000004, \"Oxygen\": 35.3118}, {\"Depth\": 250, \"Pressure\": 252.083, \"Temperature\": 10.3683, \"Salinity\": 35.319, \"Density\": 1495.69, \"Fluorescence\": -0.3352, \"Turbidity\": 0.3485, \"Oxygen\": 35.3112}, {\"Depth\": 249, \"Pressure\": 251.074, \"Temperature\": 10.3647, \"Salinity\": 35.3093, \"Density\": 1495.65, \"Fluorescence\": -0.3352, \"Turbidity\": 0.3476, \"Oxygen\": 35.3123}, {\"Depth\": 248, \"Pressure\": 250.065, \"Temperature\": 10.3966, \"Salinity\": 35.3236, \"Density\": 1495.76, \"Fluorescence\": -0.3713, \"Turbidity\": 0.3517, \"Oxygen\": 35.3143}, {\"Depth\": 247, \"Pressure\": 249.05599999999998, \"Temperature\": 10.4239, \"Salinity\": 35.323, \"Density\": 1495.84, \"Fluorescence\": -0.3456, \"Turbidity\": 0.3488, \"Oxygen\": 35.3214}, {\"Depth\": 246, \"Pressure\": 248.047, \"Temperature\": 10.4454, \"Salinity\": 35.3265, \"Density\": 1495.9, \"Fluorescence\": -0.3597, \"Turbidity\": 0.3474, \"Oxygen\": 35.3228}, {\"Depth\": 245, \"Pressure\": 247.03799999999998, \"Temperature\": 10.4452, \"Salinity\": 35.3258, \"Density\": 1495.89, \"Fluorescence\": -0.3492, \"Turbidity\": 0.3472, \"Oxygen\": 35.3252}, {\"Depth\": 244, \"Pressure\": 246.02900000000002, \"Temperature\": 10.4531, \"Salinity\": 35.3284, \"Density\": 1495.9, \"Fluorescence\": -0.3352, \"Turbidity\": 0.3501, \"Oxygen\": 35.3251}, {\"Depth\": 243, \"Pressure\": 245.02, \"Temperature\": 10.4624, \"Salinity\": 35.3301, \"Density\": 1495.92, \"Fluorescence\": -0.3352, \"Turbidity\": 0.3483, \"Oxygen\": 35.3255}, {\"Depth\": 242, \"Pressure\": 244.011, \"Temperature\": 10.5117, \"Salinity\": 35.336, \"Density\": 1496.08, \"Fluorescence\": -0.3352, \"Turbidity\": 0.3576, \"Oxygen\": 35.3296}, {\"Depth\": 241, \"Pressure\": 243.002, \"Temperature\": 10.5687, \"Salinity\": 35.3429, \"Density\": 1496.28, \"Fluorescence\": -0.3352, \"Turbidity\": 0.3483, \"Oxygen\": 35.3361}, {\"Depth\": 240, \"Pressure\": 241.993, \"Temperature\": 10.6059, \"Salinity\": 35.3467, \"Density\": 1496.4, \"Fluorescence\": -0.3352, \"Turbidity\": 0.3479, \"Oxygen\": 35.3406}, {\"Depth\": 239, \"Pressure\": 240.985, \"Temperature\": 10.6374, \"Salinity\": 35.3484, \"Density\": 1496.49, \"Fluorescence\": -0.3352, \"Turbidity\": 0.3469, \"Oxygen\": 35.3464}, {\"Depth\": 238, \"Pressure\": 239.976, \"Temperature\": 10.668, \"Salinity\": 35.3496, \"Density\": 1496.59, \"Fluorescence\": -0.3361, \"Turbidity\": 0.3477, \"Oxygen\": 35.3417}, {\"Depth\": 237, \"Pressure\": 238.967, \"Temperature\": 10.6615, \"Salinity\": 35.3526, \"Density\": 1496.55, \"Fluorescence\": -0.3358, \"Turbidity\": 0.3494, \"Oxygen\": 35.352}, {\"Depth\": 236, \"Pressure\": 237.958, \"Temperature\": 10.703, \"Salinity\": 35.3583, \"Density\": 1496.69, \"Fluorescence\": -0.3374, \"Turbidity\": 0.3492, \"Oxygen\": 35.3564}, {\"Depth\": 235, \"Pressure\": 236.949, \"Temperature\": 10.7286, \"Salinity\": 35.3623, \"Density\": 1496.77, \"Fluorescence\": -0.3738, \"Turbidity\": 0.358, \"Oxygen\": 35.356}, {\"Depth\": 234, \"Pressure\": 235.94, \"Temperature\": 10.7533, \"Salinity\": 35.3624, \"Density\": 1496.84, \"Fluorescence\": -0.3646, \"Turbidity\": 0.3564, \"Oxygen\": 35.3587}, {\"Depth\": 233, \"Pressure\": 234.93099999999998, \"Temperature\": 10.7935, \"Salinity\": 35.3697, \"Density\": 1496.97, \"Fluorescence\": -0.3376, \"Turbidity\": 0.3513, \"Oxygen\": 35.3603}, {\"Depth\": 232, \"Pressure\": 233.922, \"Temperature\": 10.8267, \"Salinity\": 35.3702, \"Density\": 1497.07, \"Fluorescence\": -0.3759, \"Turbidity\": 0.3465, \"Oxygen\": 35.3655}, {\"Depth\": 231, \"Pressure\": 232.91400000000002, \"Temperature\": 10.8394, \"Salinity\": 35.3735, \"Density\": 1497.1, \"Fluorescence\": -0.371, \"Turbidity\": 0.3458, \"Oxygen\": 35.3706}, {\"Depth\": 230, \"Pressure\": 231.905, \"Temperature\": 10.8581, \"Salinity\": 35.376999999999995, \"Density\": 1497.16, \"Fluorescence\": -0.3573, \"Turbidity\": 0.3479, \"Oxygen\": 35.3742}, {\"Depth\": 229, \"Pressure\": 230.896, \"Temperature\": 10.8695, \"Salinity\": 35.3766, \"Density\": 1497.18, \"Fluorescence\": -0.3353, \"Turbidity\": 0.3525, \"Oxygen\": 35.3741}, {\"Depth\": 228, \"Pressure\": 229.887, \"Temperature\": 10.8544, \"Salinity\": 35.3788, \"Density\": 1497.11, \"Fluorescence\": -0.3352, \"Turbidity\": 0.3521, \"Oxygen\": 35.3732}, {\"Depth\": 227, \"Pressure\": 228.878, \"Temperature\": 10.8934, \"Salinity\": 35.3812, \"Density\": 1497.23, \"Fluorescence\": -0.3352, \"Turbidity\": 0.3479, \"Oxygen\": 35.3781}, {\"Depth\": 226, \"Pressure\": 227.86900000000003, \"Temperature\": 10.925999999999998, \"Salinity\": 35.3843, \"Density\": 1497.34, \"Fluorescence\": -0.3632, \"Turbidity\": 0.3473, \"Oxygen\": 35.3792}, {\"Depth\": 225, \"Pressure\": 226.861, \"Temperature\": 10.9702, \"Salinity\": 35.3949, \"Density\": 1497.49, \"Fluorescence\": -0.3362, \"Turbidity\": 0.3477, \"Oxygen\": 35.3778}, {\"Depth\": 224, \"Pressure\": 225.852, \"Temperature\": 11.0913, \"Salinity\": 35.4026, \"Density\": 1497.9, \"Fluorescence\": -0.3351, \"Turbidity\": 0.3469, \"Oxygen\": 35.3905}, {\"Depth\": 223, \"Pressure\": 224.843, \"Temperature\": 11.125, \"Salinity\": 35.4105, \"Density\": 1498.01, \"Fluorescence\": -0.3342, \"Turbidity\": 0.3471, \"Oxygen\": 35.4039}, {\"Depth\": 222, \"Pressure\": 223.834, \"Temperature\": 11.1645, \"Salinity\": 35.4153, \"Density\": 1498.14, \"Fluorescence\": -0.3659, \"Turbidity\": 0.3462, \"Oxygen\": 35.4021}, {\"Depth\": 221, \"Pressure\": 222.825, \"Temperature\": 11.1914, \"Salinity\": 35.4146, \"Density\": 1498.22, \"Fluorescence\": -0.3454, \"Turbidity\": 0.3476, \"Oxygen\": 35.4164}, {\"Depth\": 220, \"Pressure\": 221.817, \"Temperature\": 11.2326, \"Salinity\": 35.4256, \"Density\": 1498.36, \"Fluorescence\": -0.3348, \"Turbidity\": 0.3495, \"Oxygen\": 35.4169}, {\"Depth\": 219, \"Pressure\": 220.808, \"Temperature\": 11.2573, \"Salinity\": 35.4257, \"Density\": 1498.43, \"Fluorescence\": -0.3363, \"Turbidity\": 0.3503, \"Oxygen\": 35.4232}, {\"Depth\": 218, \"Pressure\": 219.799, \"Temperature\": 11.2974, \"Salinity\": 35.4306, \"Density\": 1498.55, \"Fluorescence\": -0.3483, \"Turbidity\": 0.3474, \"Oxygen\": 35.4235}, {\"Depth\": 217, \"Pressure\": 218.79, \"Temperature\": 11.35, \"Salinity\": 35.4354, \"Density\": 1498.73, \"Fluorescence\": -0.3505, \"Turbidity\": 0.3498, \"Oxygen\": 35.4239}, {\"Depth\": 216, \"Pressure\": 217.78099999999998, \"Temperature\": 11.3132, \"Salinity\": 35.4333, \"Density\": 1498.58, \"Fluorescence\": -0.3665, \"Turbidity\": 0.3466, \"Oxygen\": 35.4318}, {\"Depth\": 215, \"Pressure\": 216.773, \"Temperature\": 11.3567, \"Salinity\": 35.4428, \"Density\": 1498.72, \"Fluorescence\": -0.33899999999999997, \"Turbidity\": 0.3469, \"Oxygen\": 35.4301}, {\"Depth\": 214, \"Pressure\": 215.764, \"Temperature\": 11.4483, \"Salinity\": 35.4477, \"Density\": 1499.03, \"Fluorescence\": -0.3738, \"Turbidity\": 0.348, \"Oxygen\": 35.4419}, {\"Depth\": 213, \"Pressure\": 214.755, \"Temperature\": 11.4931, \"Salinity\": 35.4594, \"Density\": 1499.18, \"Fluorescence\": -0.3438, \"Turbidity\": 0.3469, \"Oxygen\": 35.4472}, {\"Depth\": 212, \"Pressure\": 213.74599999999998, \"Temperature\": 11.5567, \"Salinity\": 35.4594, \"Density\": 1499.39, \"Fluorescence\": -0.3559, \"Turbidity\": 0.3464, \"Oxygen\": 35.4537}, {\"Depth\": 211, \"Pressure\": 212.738, \"Temperature\": 11.5643, \"Salinity\": 35.4587, \"Density\": 1499.39, \"Fluorescence\": -0.3602, \"Turbidity\": 0.3468, \"Oxygen\": 35.4515}, {\"Depth\": 210, \"Pressure\": 211.729, \"Temperature\": 11.6123, \"Salinity\": 35.4817, \"Density\": 1499.57, \"Fluorescence\": -0.33799999999999997, \"Turbidity\": 0.3464, \"Oxygen\": 35.4652}, {\"Depth\": 209, \"Pressure\": 210.72, \"Temperature\": 11.7174, \"Salinity\": 35.4801, \"Density\": 1499.91, \"Fluorescence\": -0.336, \"Turbidity\": 0.3468, \"Oxygen\": 35.479}, {\"Depth\": 208, \"Pressure\": 209.71099999999998, \"Temperature\": 11.7238, \"Salinity\": 35.4803, \"Density\": 1499.92, \"Fluorescence\": -0.3517, \"Turbidity\": 0.3468, \"Oxygen\": 35.4783}, {\"Depth\": 207, \"Pressure\": 208.703, \"Temperature\": 11.7527, \"Salinity\": 35.4764, \"Density\": 1500.0, \"Fluorescence\": -0.3737, \"Turbidity\": 0.3495, \"Oxygen\": 35.4726}, {\"Depth\": 206, \"Pressure\": 207.69400000000002, \"Temperature\": 11.7022, \"Salinity\": 35.4971, \"Density\": 1499.83, \"Fluorescence\": -0.3728, \"Turbidity\": 0.3441, \"Oxygen\": 35.4792}, {\"Depth\": 205, \"Pressure\": 206.685, \"Temperature\": 11.869000000000002, \"Salinity\": 35.5006, \"Density\": 1500.39, \"Fluorescence\": -0.3406, \"Turbidity\": 0.3465, \"Oxygen\": 35.4981}, {\"Depth\": 204, \"Pressure\": 205.676, \"Temperature\": 11.9229, \"Salinity\": 35.5108, \"Density\": 1500.57, \"Fluorescence\": -0.3353, \"Turbidity\": 0.3482, \"Oxygen\": 35.5096}, {\"Depth\": 203, \"Pressure\": 204.668, \"Temperature\": 11.985999999999999, \"Salinity\": 35.5131, \"Density\": 1500.77, \"Fluorescence\": -0.3352, \"Turbidity\": 0.3559, \"Oxygen\": 35.5132}, {\"Depth\": 202, \"Pressure\": 203.65900000000002, \"Temperature\": 12.0157, \"Salinity\": 35.5153, \"Density\": 1500.86, \"Fluorescence\": -0.3352, \"Turbidity\": 0.35200000000000004, \"Oxygen\": 35.5122}, {\"Depth\": 201, \"Pressure\": 202.65, \"Temperature\": 12.0676, \"Salinity\": 35.5241, \"Density\": 1501.03, \"Fluorescence\": -0.3343, \"Turbidity\": 0.3527, \"Oxygen\": 35.5218}, {\"Depth\": 200, \"Pressure\": 201.642, \"Temperature\": 12.1443, \"Salinity\": 35.5397, \"Density\": 1501.29, \"Fluorescence\": -0.3352, \"Turbidity\": 0.3517, \"Oxygen\": 35.5322}, {\"Depth\": 199, \"Pressure\": 200.63299999999998, \"Temperature\": 12.1257, \"Salinity\": 35.5354, \"Density\": 1501.21, \"Fluorescence\": -0.3589, \"Turbidity\": 0.3502, \"Oxygen\": 35.5345}, {\"Depth\": 198, \"Pressure\": 199.62400000000002, \"Temperature\": 12.185, \"Salinity\": 35.5433, \"Density\": 1501.4, \"Fluorescence\": -0.3437, \"Turbidity\": 0.3514, \"Oxygen\": 35.5343}, {\"Depth\": 197, \"Pressure\": 198.615, \"Temperature\": 12.2198, \"Salinity\": 35.5492, \"Density\": 1501.51, \"Fluorescence\": -0.3361, \"Turbidity\": 0.3487, \"Oxygen\": 35.5356}, {\"Depth\": 196, \"Pressure\": 197.607, \"Temperature\": 12.2501, \"Salinity\": 35.5404, \"Density\": 1501.58, \"Fluorescence\": -0.3352, \"Turbidity\": 0.3476, \"Oxygen\": 35.5456}, {\"Depth\": 195, \"Pressure\": 196.59799999999998, \"Temperature\": 12.2874, \"Salinity\": 35.5591, \"Density\": 1501.72, \"Fluorescence\": -0.3361, \"Turbidity\": 0.35, \"Oxygen\": 35.5495}, {\"Depth\": 194, \"Pressure\": 195.58900000000003, \"Temperature\": 12.3099, \"Salinity\": 35.5529, \"Density\": 1501.77, \"Fluorescence\": -0.3352, \"Turbidity\": 0.3514, \"Oxygen\": 35.5511}, {\"Depth\": 193, \"Pressure\": 194.581, \"Temperature\": 12.3203, \"Salinity\": 35.5576, \"Density\": 1501.79, \"Fluorescence\": -0.3518, \"Turbidity\": 0.3485, \"Oxygen\": 35.5564}, {\"Depth\": 192, \"Pressure\": 193.572, \"Temperature\": 12.3292, \"Salinity\": 35.5596, \"Density\": 1501.81, \"Fluorescence\": -0.3744, \"Turbidity\": 0.3453, \"Oxygen\": 35.5578}, {\"Depth\": 191, \"Pressure\": 192.563, \"Temperature\": 12.3563, \"Salinity\": 35.5605, \"Density\": 1501.88, \"Fluorescence\": -0.3578, \"Turbidity\": 0.3519, \"Oxygen\": 35.5574}, {\"Depth\": 190, \"Pressure\": 191.555, \"Temperature\": 12.3697, \"Salinity\": 35.5656, \"Density\": 1501.92, \"Fluorescence\": -0.3354, \"Turbidity\": 0.35200000000000004, \"Oxygen\": 35.5559}, {\"Depth\": 189, \"Pressure\": 190.546, \"Temperature\": 12.3812, \"Salinity\": 35.5661, \"Density\": 1501.94, \"Fluorescence\": -0.3378, \"Turbidity\": 0.3465, \"Oxygen\": 35.5606}, {\"Depth\": 188, \"Pressure\": 189.53799999999998, \"Temperature\": 12.3983, \"Salinity\": 35.5706, \"Density\": 1501.99, \"Fluorescence\": -0.35700000000000004, \"Turbidity\": 0.3447, \"Oxygen\": 35.5672}, {\"Depth\": 187, \"Pressure\": 188.52900000000002, \"Temperature\": 12.4319, \"Salinity\": 35.5739, \"Density\": 1502.09, \"Fluorescence\": -0.3724, \"Turbidity\": 0.3498, \"Oxygen\": 35.5651}, {\"Depth\": 186, \"Pressure\": 187.52, \"Temperature\": 12.4717, \"Salinity\": 35.575, \"Density\": 1502.21, \"Fluorescence\": -0.3385, \"Turbidity\": 0.3478, \"Oxygen\": 35.5682}, {\"Depth\": 185, \"Pressure\": 186.512, \"Temperature\": 12.5273, \"Salinity\": 35.5907, \"Density\": 1502.4, \"Fluorescence\": -0.3351, \"Turbidity\": 0.3472, \"Oxygen\": 35.5761}, {\"Depth\": 184, \"Pressure\": 185.503, \"Temperature\": 12.6092, \"Salinity\": 35.5971, \"Density\": 1502.66, \"Fluorescence\": -0.3352, \"Turbidity\": 0.3474, \"Oxygen\": 35.5863}, {\"Depth\": 183, \"Pressure\": 184.49400000000003, \"Temperature\": 12.6374, \"Salinity\": 35.5975, \"Density\": 1502.74, \"Fluorescence\": -0.34600000000000003, \"Turbidity\": 0.3488, \"Oxygen\": 35.5956}, {\"Depth\": 182, \"Pressure\": 183.486, \"Temperature\": 12.6633, \"Salinity\": 35.6019, \"Density\": 1502.82, \"Fluorescence\": -0.3734, \"Turbidity\": 0.3512, \"Oxygen\": 35.5977}, {\"Depth\": 181, \"Pressure\": 182.477, \"Temperature\": 12.673, \"Salinity\": 35.6041, \"Density\": 1502.84, \"Fluorescence\": -0.33899999999999997, \"Turbidity\": 0.3479, \"Oxygen\": 35.5988}, {\"Depth\": 180, \"Pressure\": 181.46900000000002, \"Temperature\": 12.6917, \"Salinity\": 35.6047, \"Density\": 1502.88, \"Fluorescence\": -0.3542, \"Turbidity\": 0.3514, \"Oxygen\": 35.602}, {\"Depth\": 179, \"Pressure\": 180.46, \"Temperature\": 12.6992, \"Salinity\": 35.6027, \"Density\": 1502.89, \"Fluorescence\": -0.3359, \"Turbidity\": 0.3521, \"Oxygen\": 35.6014}, {\"Depth\": 178, \"Pressure\": 179.451, \"Temperature\": 12.6964, \"Salinity\": 35.6056, \"Density\": 1502.87, \"Fluorescence\": -0.3718, \"Turbidity\": 0.3521, \"Oxygen\": 35.6015}, {\"Depth\": 177, \"Pressure\": 178.44299999999998, \"Temperature\": 12.7295, \"Salinity\": 35.6037, \"Density\": 1502.96, \"Fluorescence\": -0.3723, \"Turbidity\": 0.3519, \"Oxygen\": 35.5991}, {\"Depth\": 176, \"Pressure\": 177.43400000000003, \"Temperature\": 12.7279, \"Salinity\": 35.607, \"Density\": 1502.94, \"Fluorescence\": -0.3733, \"Turbidity\": 0.3547, \"Oxygen\": 35.5985}, {\"Depth\": 175, \"Pressure\": 176.426, \"Temperature\": 12.7674, \"Salinity\": 35.6025, \"Density\": 1503.05, \"Fluorescence\": -0.3538, \"Turbidity\": 0.3543, \"Oxygen\": 35.6016}, {\"Depth\": 174, \"Pressure\": 175.417, \"Temperature\": 12.7703, \"Salinity\": 35.6072, \"Density\": 1503.05, \"Fluorescence\": -0.3578, \"Turbidity\": 0.3492, \"Oxygen\": 35.6012}, {\"Depth\": 173, \"Pressure\": 174.408, \"Temperature\": 12.8057, \"Salinity\": 35.6083, \"Density\": 1503.15, \"Fluorescence\": -0.3539, \"Turbidity\": 0.3499, \"Oxygen\": 35.6025}, {\"Depth\": 172, \"Pressure\": 173.4, \"Temperature\": 12.8234, \"Salinity\": 35.6081, \"Density\": 1503.19, \"Fluorescence\": -0.3355, \"Turbidity\": 0.3507, \"Oxygen\": 35.6081}, {\"Depth\": 171, \"Pressure\": 172.391, \"Temperature\": 12.833, \"Salinity\": 35.6125, \"Density\": 1503.21, \"Fluorescence\": -0.3405, \"Turbidity\": 0.3513, \"Oxygen\": 35.6084}, {\"Depth\": 170, \"Pressure\": 171.38299999999998, \"Temperature\": 12.8425, \"Salinity\": 35.6131, \"Density\": 1503.23, \"Fluorescence\": -0.3733, \"Turbidity\": 0.3518, \"Oxygen\": 35.608000000000004}, {\"Depth\": 169, \"Pressure\": 170.37400000000002, \"Temperature\": 12.8617, \"Salinity\": 35.6154, \"Density\": 1503.28, \"Fluorescence\": -0.3502, \"Turbidity\": 0.3576, \"Oxygen\": 35.6124}, {\"Depth\": 168, \"Pressure\": 169.36599999999999, \"Temperature\": 12.8664, \"Salinity\": 35.6156, \"Density\": 1503.28, \"Fluorescence\": -0.3372, \"Turbidity\": 0.3525, \"Oxygen\": 35.6125}, {\"Depth\": 167, \"Pressure\": 168.357, \"Temperature\": 12.8856, \"Salinity\": 35.6167, \"Density\": 1503.33, \"Fluorescence\": -0.3351, \"Turbidity\": 0.3523, \"Oxygen\": 35.613}, {\"Depth\": 166, \"Pressure\": 167.34900000000002, \"Temperature\": 12.8934, \"Salinity\": 35.6197, \"Density\": 1503.34, \"Fluorescence\": -0.3363, \"Turbidity\": 0.3517, \"Oxygen\": 35.6162}, {\"Depth\": 165, \"Pressure\": 166.34, \"Temperature\": 12.9023, \"Salinity\": 35.6207, \"Density\": 1503.35, \"Fluorescence\": -0.3352, \"Turbidity\": 0.35100000000000003, \"Oxygen\": 35.6173}, {\"Depth\": 164, \"Pressure\": 165.332, \"Temperature\": 12.9105, \"Salinity\": 35.6211, \"Density\": 1503.36, \"Fluorescence\": -0.3352, \"Turbidity\": 0.3473, \"Oxygen\": 35.6179}, {\"Depth\": 163, \"Pressure\": 164.32299999999998, \"Temperature\": 12.9236, \"Salinity\": 35.622, \"Density\": 1503.39, \"Fluorescence\": -0.3334, \"Turbidity\": 0.3512, \"Oxygen\": 35.6189}, {\"Depth\": 162, \"Pressure\": 163.315, \"Temperature\": 12.9409, \"Salinity\": 35.6234, \"Density\": 1503.44, \"Fluorescence\": -0.3551, \"Turbidity\": 0.3529, \"Oxygen\": 35.6203}, {\"Depth\": 161, \"Pressure\": 162.306, \"Temperature\": 12.9649, \"Salinity\": 35.6203, \"Density\": 1503.49, \"Fluorescence\": -0.3368, \"Turbidity\": 0.3512, \"Oxygen\": 35.6176}, {\"Depth\": 160, \"Pressure\": 161.298, \"Temperature\": 12.9639, \"Salinity\": 35.621, \"Density\": 1503.48, \"Fluorescence\": -0.3759, \"Turbidity\": 0.3583, \"Oxygen\": 35.6176}, {\"Depth\": 159, \"Pressure\": 160.289, \"Temperature\": 12.9869, \"Salinity\": 35.6234, \"Density\": 1503.54, \"Fluorescence\": -0.33299999999999996, \"Turbidity\": 0.3512, \"Oxygen\": 35.6176}, {\"Depth\": 158, \"Pressure\": 159.281, \"Temperature\": 13.0049, \"Salinity\": 35.6243, \"Density\": 1503.58, \"Fluorescence\": -0.33399999999999996, \"Turbidity\": 0.3551, \"Oxygen\": 35.6206}, {\"Depth\": 157, \"Pressure\": 158.27200000000002, \"Temperature\": 13.0077, \"Salinity\": 35.6246, \"Density\": 1503.58, \"Fluorescence\": -0.3352, \"Turbidity\": 0.3577, \"Oxygen\": 35.6231}, {\"Depth\": 156, \"Pressure\": 157.264, \"Temperature\": 13.0246, \"Salinity\": 35.629, \"Density\": 1503.62, \"Fluorescence\": -0.3352, \"Turbidity\": 0.3568, \"Oxygen\": 35.6233}, {\"Depth\": 155, \"Pressure\": 156.255, \"Temperature\": 13.0444, \"Salinity\": 35.6301, \"Density\": 1503.67, \"Fluorescence\": -0.3352, \"Turbidity\": 0.3536, \"Oxygen\": 35.6239}, {\"Depth\": 154, \"Pressure\": 155.247, \"Temperature\": 13.0483, \"Salinity\": 35.6267, \"Density\": 1503.66, \"Fluorescence\": -0.3516, \"Turbidity\": 0.3549, \"Oxygen\": 35.6251}, {\"Depth\": 153, \"Pressure\": 154.238, \"Temperature\": 13.0858, \"Salinity\": 35.632, \"Density\": 1503.78, \"Fluorescence\": -0.374, \"Turbidity\": 0.3517, \"Oxygen\": 35.6256}, {\"Depth\": 152, \"Pressure\": 153.23, \"Temperature\": 13.0964, \"Salinity\": 35.6332, \"Density\": 1503.8, \"Fluorescence\": -0.3518, \"Turbidity\": 0.3521, \"Oxygen\": 35.626}, {\"Depth\": 151, \"Pressure\": 152.221, \"Temperature\": 13.1184, \"Salinity\": 35.6338, \"Density\": 1503.85, \"Fluorescence\": -0.3359, \"Turbidity\": 0.3549, \"Oxygen\": 35.6313}, {\"Depth\": 150, \"Pressure\": 151.213, \"Temperature\": 13.1228, \"Salinity\": 35.6337, \"Density\": 1503.85, \"Fluorescence\": -0.3352, \"Turbidity\": 0.3576, \"Oxygen\": 35.6322}, {\"Depth\": 149, \"Pressure\": 150.204, \"Temperature\": 13.1311, \"Salinity\": 35.6344, \"Density\": 1503.86, \"Fluorescence\": -0.3352, \"Turbidity\": 0.358, \"Oxygen\": 35.6312}, {\"Depth\": 148, \"Pressure\": 149.196, \"Temperature\": 13.1362, \"Salinity\": 35.6337, \"Density\": 1503.86, \"Fluorescence\": -0.3352, \"Turbidity\": 0.3576, \"Oxygen\": 35.6316}, {\"Depth\": 147, \"Pressure\": 148.187, \"Temperature\": 13.1371, \"Salinity\": 35.6332, \"Density\": 1503.85, \"Fluorescence\": -0.3508, \"Turbidity\": 0.3587, \"Oxygen\": 35.631}, {\"Depth\": 146, \"Pressure\": 147.179, \"Temperature\": 13.1522, \"Salinity\": 35.6314, \"Density\": 1503.88, \"Fluorescence\": -0.3541, \"Turbidity\": 0.361, \"Oxygen\": 35.628}, {\"Depth\": 145, \"Pressure\": 146.171, \"Temperature\": 13.1604, \"Salinity\": 35.6284, \"Density\": 1503.89, \"Fluorescence\": -0.3354, \"Turbidity\": 0.3604, \"Oxygen\": 35.6279}, {\"Depth\": 144, \"Pressure\": 145.162, \"Temperature\": 13.17, \"Salinity\": 35.6284, \"Density\": 1503.9, \"Fluorescence\": -0.3352, \"Turbidity\": 0.3596, \"Oxygen\": 35.6252}, {\"Depth\": 143, \"Pressure\": 144.154, \"Temperature\": 13.1901, \"Salinity\": 35.6293, \"Density\": 1503.95, \"Fluorescence\": -0.35600000000000004, \"Turbidity\": 0.3575, \"Oxygen\": 35.6249}, {\"Depth\": 142, \"Pressure\": 143.145, \"Temperature\": 13.2031, \"Salinity\": 35.6314, \"Density\": 1503.98, \"Fluorescence\": -0.3574, \"Turbidity\": 0.361, \"Oxygen\": 35.6275}, {\"Depth\": 141, \"Pressure\": 142.137, \"Temperature\": 13.2542, \"Salinity\": 35.6424, \"Density\": 1504.15, \"Fluorescence\": -0.3347, \"Turbidity\": 0.3648, \"Oxygen\": 35.6317}, {\"Depth\": 140, \"Pressure\": 141.128, \"Temperature\": 13.3016, \"Salinity\": 35.6434, \"Density\": 1504.29, \"Fluorescence\": -0.3412, \"Turbidity\": 0.3601, \"Oxygen\": 35.6359}, {\"Depth\": 139, \"Pressure\": 140.12, \"Temperature\": 13.3058, \"Salinity\": 35.6429, \"Density\": 1504.28, \"Fluorescence\": -0.3622, \"Turbidity\": 0.3599, \"Oxygen\": 35.6278}, {\"Depth\": 138, \"Pressure\": 139.112, \"Temperature\": 13.2806, \"Salinity\": 35.6479, \"Density\": 1504.19, \"Fluorescence\": -0.354, \"Turbidity\": 0.3587, \"Oxygen\": 35.6401}, {\"Depth\": 137, \"Pressure\": 138.10299999999998, \"Temperature\": 13.3503, \"Salinity\": 35.6589, \"Density\": 1504.42, \"Fluorescence\": -0.3443, \"Turbidity\": 0.3634, \"Oxygen\": 35.6497}, {\"Depth\": 136, \"Pressure\": 137.095, \"Temperature\": 13.3835, \"Salinity\": 35.6612, \"Density\": 1504.51, \"Fluorescence\": -0.3349, \"Turbidity\": 0.3603, \"Oxygen\": 35.6555}, {\"Depth\": 135, \"Pressure\": 136.086, \"Temperature\": 13.4047, \"Salinity\": 35.665, \"Density\": 1504.57, \"Fluorescence\": -0.3352, \"Turbidity\": 0.3579, \"Oxygen\": 35.6609}, {\"Depth\": 134, \"Pressure\": 135.078, \"Temperature\": 13.4198, \"Salinity\": 35.6681, \"Density\": 1504.6, \"Fluorescence\": -0.3352, \"Turbidity\": 0.358, \"Oxygen\": 35.6649}, {\"Depth\": 133, \"Pressure\": 134.07, \"Temperature\": 13.4206, \"Salinity\": 35.6689, \"Density\": 1504.59, \"Fluorescence\": -0.3352, \"Turbidity\": 0.358, \"Oxygen\": 35.6654}, {\"Depth\": 132, \"Pressure\": 133.061, \"Temperature\": 13.4328, \"Salinity\": 35.6696, \"Density\": 1504.62, \"Fluorescence\": -0.3374, \"Turbidity\": 0.3577, \"Oxygen\": 35.6662}, {\"Depth\": 131, \"Pressure\": 132.053, \"Temperature\": 13.4258, \"Salinity\": 35.6704, \"Density\": 1504.58, \"Fluorescence\": -0.3373, \"Turbidity\": 0.359, \"Oxygen\": 35.6667}, {\"Depth\": 130, \"Pressure\": 131.045, \"Temperature\": 13.4406, \"Salinity\": 35.6735, \"Density\": 1504.61, \"Fluorescence\": -0.3353, \"Turbidity\": 0.3596, \"Oxygen\": 35.6687}, {\"Depth\": 129, \"Pressure\": 130.036, \"Temperature\": 13.456, \"Salinity\": 35.6772, \"Density\": 1504.65, \"Fluorescence\": -0.3366, \"Turbidity\": 0.359, \"Oxygen\": 35.6724}, {\"Depth\": 128, \"Pressure\": 129.028, \"Temperature\": 13.4668, \"Salinity\": 35.6776, \"Density\": 1504.67, \"Fluorescence\": -0.3353, \"Turbidity\": 0.3589, \"Oxygen\": 35.6735}, {\"Depth\": 127, \"Pressure\": 128.02, \"Temperature\": 13.4728, \"Salinity\": 35.6791, \"Density\": 1504.67, \"Fluorescence\": -0.3352, \"Turbidity\": 0.3579, \"Oxygen\": 35.6749}, {\"Depth\": 126, \"Pressure\": 127.01100000000001, \"Temperature\": 13.4859, \"Salinity\": 35.6809, \"Density\": 1504.7, \"Fluorescence\": -0.3352, \"Turbidity\": 0.3572, \"Oxygen\": 35.6779}, {\"Depth\": 125, \"Pressure\": 126.00299999999999, \"Temperature\": 13.4959, \"Salinity\": 35.6806, \"Density\": 1504.72, \"Fluorescence\": -0.3352, \"Turbidity\": 0.3522, \"Oxygen\": 35.6774}, {\"Depth\": 124, \"Pressure\": 124.995, \"Temperature\": 13.523, \"Salinity\": 35.6926, \"Density\": 1504.8, \"Fluorescence\": -0.3352, \"Turbidity\": 0.3579, \"Oxygen\": 35.6836}, {\"Depth\": 123, \"Pressure\": 123.986, \"Temperature\": 13.5859, \"Salinity\": 35.6969, \"Density\": 1505.0, \"Fluorescence\": -0.3368, \"Turbidity\": 0.3544, \"Oxygen\": 35.6933}, {\"Depth\": 122, \"Pressure\": 122.978, \"Temperature\": 13.6188, \"Salinity\": 35.7006, \"Density\": 1505.09, \"Fluorescence\": -0.3351, \"Turbidity\": 0.3509, \"Oxygen\": 35.6962}, {\"Depth\": 121, \"Pressure\": 121.97, \"Temperature\": 13.6285, \"Salinity\": 35.6987, \"Density\": 1505.11, \"Fluorescence\": -0.3364, \"Turbidity\": 0.3558, \"Oxygen\": 35.6971}, {\"Depth\": 120, \"Pressure\": 120.961, \"Temperature\": 13.6446, \"Salinity\": 35.699, \"Density\": 1505.14, \"Fluorescence\": -0.3491, \"Turbidity\": 0.3555, \"Oxygen\": 35.6966}, {\"Depth\": 119, \"Pressure\": 119.95299999999999, \"Temperature\": 13.6641, \"Salinity\": 35.7018, \"Density\": 1505.19, \"Fluorescence\": -0.3483, \"Turbidity\": 0.3519, \"Oxygen\": 35.6979}, {\"Depth\": 118, \"Pressure\": 118.945, \"Temperature\": 13.6684, \"Salinity\": 35.7014, \"Density\": 1505.19, \"Fluorescence\": -0.3345, \"Turbidity\": 0.3556, \"Oxygen\": 35.6974}, {\"Depth\": 117, \"Pressure\": 117.936, \"Temperature\": 13.7048, \"Salinity\": 35.7036, \"Density\": 1505.3, \"Fluorescence\": -0.3352, \"Turbidity\": 0.3468, \"Oxygen\": 35.6994}, {\"Depth\": 116, \"Pressure\": 116.928, \"Temperature\": 13.7473, \"Salinity\": 35.715, \"Density\": 1505.43, \"Fluorescence\": -0.3341, \"Turbidity\": 0.3504, \"Oxygen\": 35.7087}, {\"Depth\": 115, \"Pressure\": 115.92, \"Temperature\": 13.7761, \"Salinity\": 35.7197, \"Density\": 1505.51, \"Fluorescence\": -0.3532, \"Turbidity\": 0.3486, \"Oxygen\": 35.7146}, {\"Depth\": 114, \"Pressure\": 114.912, \"Temperature\": 13.817, \"Salinity\": 35.72, \"Density\": 1505.63, \"Fluorescence\": -0.3746, \"Turbidity\": 0.3472, \"Oxygen\": 35.7154}, {\"Depth\": 113, \"Pressure\": 113.90299999999999, \"Temperature\": 13.8252, \"Salinity\": 35.7183, \"Density\": 1505.64, \"Fluorescence\": -0.3392, \"Turbidity\": 0.3511, \"Oxygen\": 35.7161}, {\"Depth\": 112, \"Pressure\": 112.895, \"Temperature\": 13.8316, \"Salinity\": 35.7213, \"Density\": 1505.65, \"Fluorescence\": -0.3508, \"Turbidity\": 0.3504, \"Oxygen\": 35.717}, {\"Depth\": 111, \"Pressure\": 111.887, \"Temperature\": 13.8562, \"Salinity\": 35.7219, \"Density\": 1505.71, \"Fluorescence\": -0.3552, \"Turbidity\": 0.35200000000000004, \"Oxygen\": 35.7178}, {\"Depth\": 110, \"Pressure\": 110.87899999999999, \"Temperature\": 13.8775, \"Salinity\": 35.7228, \"Density\": 1505.76, \"Fluorescence\": -0.335, \"Turbidity\": 0.3515, \"Oxygen\": 35.7202}, {\"Depth\": 109, \"Pressure\": 109.87, \"Temperature\": 13.9219, \"Salinity\": 35.7251, \"Density\": 1505.89, \"Fluorescence\": -0.3352, \"Turbidity\": 0.3513, \"Oxygen\": 35.7215}, {\"Depth\": 108, \"Pressure\": 108.86200000000001, \"Temperature\": 13.9133, \"Salinity\": 35.7276, \"Density\": 1505.85, \"Fluorescence\": -0.3352, \"Turbidity\": 0.3519, \"Oxygen\": 35.7227}, {\"Depth\": 107, \"Pressure\": 107.854, \"Temperature\": 13.9414, \"Salinity\": 35.7295, \"Density\": 1505.93, \"Fluorescence\": -0.3342, \"Turbidity\": 0.3521, \"Oxygen\": 35.7243}, {\"Depth\": 106, \"Pressure\": 106.846, \"Temperature\": 13.9578, \"Salinity\": 35.7303, \"Density\": 1505.97, \"Fluorescence\": -0.3341, \"Turbidity\": 0.3534, \"Oxygen\": 35.7267}, {\"Depth\": 105, \"Pressure\": 105.837, \"Temperature\": 13.9584, \"Salinity\": 35.7317, \"Density\": 1505.95, \"Fluorescence\": -0.3352, \"Turbidity\": 0.3572, \"Oxygen\": 35.728}, {\"Depth\": 104, \"Pressure\": 104.829, \"Temperature\": 13.987, \"Salinity\": 35.7331, \"Density\": 1506.03, \"Fluorescence\": -0.3344, \"Turbidity\": 0.3563, \"Oxygen\": 35.7287}, {\"Depth\": 103, \"Pressure\": 103.821, \"Temperature\": 13.9809, \"Salinity\": 35.7313, \"Density\": 1505.99, \"Fluorescence\": -0.3353, \"Turbidity\": 0.3517, \"Oxygen\": 35.7287}, {\"Depth\": 102, \"Pressure\": 102.81299999999999, \"Temperature\": 14.0833, \"Salinity\": 35.7435, \"Density\": 1506.32, \"Fluorescence\": -0.3088, \"Turbidity\": 0.3536, \"Oxygen\": 35.739000000000004}, {\"Depth\": 101, \"Pressure\": 101.804, \"Temperature\": 14.1022, \"Salinity\": 35.746, \"Density\": 1506.37, \"Fluorescence\": -0.3248, \"Turbidity\": 0.3519, \"Oxygen\": 35.7435}, {\"Depth\": 100, \"Pressure\": 100.796, \"Temperature\": 14.0851, \"Salinity\": 35.746, \"Density\": 1506.3, \"Fluorescence\": -0.292, \"Turbidity\": 0.35700000000000004, \"Oxygen\": 35.7386}, {\"Depth\": 99, \"Pressure\": 99.788, \"Temperature\": 14.1308, \"Salinity\": 35.7501, \"Density\": 1506.43, \"Fluorescence\": -0.3008, \"Turbidity\": 0.3524, \"Oxygen\": 35.7469}, {\"Depth\": 98, \"Pressure\": 98.78, \"Temperature\": 14.1474, \"Salinity\": 35.7533, \"Density\": 1506.47, \"Fluorescence\": -0.3145, \"Turbidity\": 0.3578, \"Oxygen\": 35.7509}, {\"Depth\": 97, \"Pressure\": 97.772, \"Temperature\": 14.1958, \"Salinity\": 35.7539, \"Density\": 1506.61, \"Fluorescence\": -0.2965, \"Turbidity\": 0.3543, \"Oxygen\": 35.7501}, {\"Depth\": 96, \"Pressure\": 96.76299999999999, \"Temperature\": 14.214, \"Salinity\": 35.7555, \"Density\": 1506.66, \"Fluorescence\": -0.3138, \"Turbidity\": 0.3567, \"Oxygen\": 35.7507}, {\"Depth\": 95, \"Pressure\": 95.755, \"Temperature\": 14.2516, \"Salinity\": 35.7582, \"Density\": 1506.76, \"Fluorescence\": -0.2926, \"Turbidity\": 0.3546, \"Oxygen\": 35.7566}, {\"Depth\": 94, \"Pressure\": 94.74700000000001, \"Temperature\": 14.3446, \"Salinity\": 35.7664, \"Density\": 1507.05, \"Fluorescence\": -0.2935, \"Turbidity\": 0.3559, \"Oxygen\": 35.7621}, {\"Depth\": 93, \"Pressure\": 93.73899999999999, \"Temperature\": 14.4187, \"Salinity\": 35.7799, \"Density\": 1507.29, \"Fluorescence\": -0.2924, \"Turbidity\": 0.3527, \"Oxygen\": 35.7723}, {\"Depth\": 92, \"Pressure\": 92.73100000000001, \"Temperature\": 14.4845, \"Salinity\": 35.7847, \"Density\": 1507.49, \"Fluorescence\": -0.2601, \"Turbidity\": 0.359, \"Oxygen\": 35.7819}, {\"Depth\": 91, \"Pressure\": 91.723, \"Temperature\": 14.4799, \"Salinity\": 35.7843, \"Density\": 1507.46, \"Fluorescence\": -0.2567, \"Turbidity\": 0.3563, \"Oxygen\": 35.7803}, {\"Depth\": 90, \"Pressure\": 90.714, \"Temperature\": 14.5426, \"Salinity\": 35.7867, \"Density\": 1507.64, \"Fluorescence\": -0.2586, \"Turbidity\": 0.3543, \"Oxygen\": 35.7817}, {\"Depth\": 89, \"Pressure\": 89.706, \"Temperature\": 14.6053, \"Salinity\": 35.7852, \"Density\": 1507.83, \"Fluorescence\": -0.2563, \"Turbidity\": 0.3606, \"Oxygen\": 35.778}, {\"Depth\": 88, \"Pressure\": 88.698, \"Temperature\": 14.6316, \"Salinity\": 35.7781, \"Density\": 1507.88, \"Fluorescence\": -0.2308, \"Turbidity\": 0.364, \"Oxygen\": 35.7762}, {\"Depth\": 87, \"Pressure\": 87.69, \"Temperature\": 14.6604, \"Salinity\": 35.7782, \"Density\": 1507.96, \"Fluorescence\": -0.2015, \"Turbidity\": 0.3597, \"Oxygen\": 35.7749}, {\"Depth\": 86, \"Pressure\": 86.682, \"Temperature\": 14.6645, \"Salinity\": 35.7781, \"Density\": 1507.96, \"Fluorescence\": -0.1771, \"Turbidity\": 0.3604, \"Oxygen\": 35.7723}, {\"Depth\": 85, \"Pressure\": 85.67399999999999, \"Temperature\": 14.6815, \"Salinity\": 35.7765, \"Density\": 1507.99, \"Fluorescence\": -0.2, \"Turbidity\": 0.3611, \"Oxygen\": 35.7709}, {\"Depth\": 84, \"Pressure\": 84.665, \"Temperature\": 14.7174, \"Salinity\": 35.775999999999996, \"Density\": 1508.09, \"Fluorescence\": -0.196, \"Turbidity\": 0.3617, \"Oxygen\": 35.7716}, {\"Depth\": 83, \"Pressure\": 83.65700000000001, \"Temperature\": 14.7517, \"Salinity\": 35.7765, \"Density\": 1508.18, \"Fluorescence\": -0.188, \"Turbidity\": 0.365, \"Oxygen\": 35.7691}, {\"Depth\": 82, \"Pressure\": 82.649, \"Temperature\": 14.81, \"Salinity\": 35.7755, \"Density\": 1508.35, \"Fluorescence\": -0.1544, \"Turbidity\": 0.3633, \"Oxygen\": 35.7717}, {\"Depth\": 81, \"Pressure\": 81.641, \"Temperature\": 14.8137, \"Salinity\": 35.774, \"Density\": 1508.34, \"Fluorescence\": -0.151, \"Turbidity\": 0.3637, \"Oxygen\": 35.7671}, {\"Depth\": 80, \"Pressure\": 80.633, \"Temperature\": 14.8533, \"Salinity\": 35.771, \"Density\": 1508.45, \"Fluorescence\": -0.1638, \"Turbidity\": 0.3655, \"Oxygen\": 35.7645}, {\"Depth\": 79, \"Pressure\": 79.625, \"Temperature\": 14.8841, \"Salinity\": 35.7662, \"Density\": 1508.52, \"Fluorescence\": -0.1866, \"Turbidity\": 0.3629, \"Oxygen\": 35.7637}, {\"Depth\": 78, \"Pressure\": 78.617, \"Temperature\": 14.8997, \"Salinity\": 35.7668, \"Density\": 1508.55, \"Fluorescence\": -0.1573, \"Turbidity\": 0.3633, \"Oxygen\": 35.7633}, {\"Depth\": 77, \"Pressure\": 77.609, \"Temperature\": 14.9033, \"Salinity\": 35.7655, \"Density\": 1508.55, \"Fluorescence\": -0.1761, \"Turbidity\": 0.3675, \"Oxygen\": 35.76}, {\"Depth\": 76, \"Pressure\": 76.601, \"Temperature\": 14.9152, \"Salinity\": 35.7651, \"Density\": 1508.57, \"Fluorescence\": -0.1788, \"Turbidity\": 0.3677, \"Oxygen\": 35.7578}, {\"Depth\": 75, \"Pressure\": 75.593, \"Temperature\": 14.9381, \"Salinity\": 35.760999999999996, \"Density\": 1508.62, \"Fluorescence\": -0.1789, \"Turbidity\": 0.3659, \"Oxygen\": 35.7557}, {\"Depth\": 74, \"Pressure\": 74.584, \"Temperature\": 14.9609, \"Salinity\": 35.7583, \"Density\": 1508.67, \"Fluorescence\": -0.1425, \"Turbidity\": 0.3679, \"Oxygen\": 35.7543}, {\"Depth\": 73, \"Pressure\": 73.57600000000001, \"Temperature\": 14.9799, \"Salinity\": 35.7521, \"Density\": 1508.71, \"Fluorescence\": -0.1162, \"Turbidity\": 0.3662, \"Oxygen\": 35.7433}, {\"Depth\": 72, \"Pressure\": 72.568, \"Temperature\": 14.9894, \"Salinity\": 35.75, \"Density\": 1508.72, \"Fluorescence\": -0.1241, \"Turbidity\": 0.3721, \"Oxygen\": 35.7436}, {\"Depth\": 71, \"Pressure\": 71.56, \"Temperature\": 15.0925, \"Salinity\": 35.7347, \"Density\": 1509.01, \"Fluorescence\": -0.081, \"Turbidity\": 0.3657, \"Oxygen\": 35.7294}, {\"Depth\": 70, \"Pressure\": 70.55199999999999, \"Temperature\": 15.16, \"Salinity\": 35.7238, \"Density\": 1509.19, \"Fluorescence\": -0.1004, \"Turbidity\": 0.3699, \"Oxygen\": 35.7084}, {\"Depth\": 69, \"Pressure\": 69.544, \"Temperature\": 15.2262, \"Salinity\": 35.7134, \"Density\": 1509.37, \"Fluorescence\": -0.0516, \"Turbidity\": 0.375, \"Oxygen\": 35.698}, {\"Depth\": 68, \"Pressure\": 68.536, \"Temperature\": 15.3032, \"Salinity\": 35.7006, \"Density\": 1509.58, \"Fluorescence\": -0.0351, \"Turbidity\": 0.3836, \"Oxygen\": 35.6909}, {\"Depth\": 67, \"Pressure\": 67.528, \"Temperature\": 15.3431, \"Salinity\": 35.6898, \"Density\": 1509.67, \"Fluorescence\": -0.0623, \"Turbidity\": 0.3716, \"Oxygen\": 35.6815}, {\"Depth\": 66, \"Pressure\": 66.52, \"Temperature\": 15.366, \"Salinity\": 35.6846, \"Density\": 1509.72, \"Fluorescence\": 0.0041, \"Turbidity\": 0.3746, \"Oxygen\": 35.6591}, {\"Depth\": 65, \"Pressure\": 65.512, \"Temperature\": 15.5509, \"Salinity\": 35.6269, \"Density\": 1510.22, \"Fluorescence\": -0.0295, \"Turbidity\": 0.377, \"Oxygen\": 35.6142}, {\"Depth\": 64, \"Pressure\": 64.50399999999999, \"Temperature\": 15.5998, \"Salinity\": 35.6197, \"Density\": 1510.34, \"Fluorescence\": -0.0276, \"Turbidity\": 0.3785, \"Oxygen\": 35.6045}, {\"Depth\": 63, \"Pressure\": 63.496, \"Temperature\": 15.6246, \"Salinity\": 35.6158, \"Density\": 1510.4, \"Fluorescence\": 0.0708, \"Turbidity\": 0.3835, \"Oxygen\": 35.6092}, {\"Depth\": 62, \"Pressure\": 62.488, \"Temperature\": 15.6592, \"Salinity\": 35.6105, \"Density\": 1510.48, \"Fluorescence\": 0.1013, \"Turbidity\": 0.3793, \"Oxygen\": 35.5955}, {\"Depth\": 61, \"Pressure\": 61.48, \"Temperature\": 15.6877, \"Salinity\": 35.5976, \"Density\": 1510.54, \"Fluorescence\": 0.0567, \"Turbidity\": 0.37799999999999995, \"Oxygen\": 35.5885}, {\"Depth\": 60, \"Pressure\": 60.472, \"Temperature\": 15.7162, \"Salinity\": 35.5959, \"Density\": 1510.61, \"Fluorescence\": 0.0918, \"Turbidity\": 0.38299999999999995, \"Oxygen\": 35.5901}, {\"Depth\": 59, \"Pressure\": 59.464, \"Temperature\": 15.7826, \"Salinity\": 35.5829, \"Density\": 1510.78, \"Fluorescence\": 0.1271, \"Turbidity\": 0.3784, \"Oxygen\": 35.5775}, {\"Depth\": 58, \"Pressure\": 58.456, \"Temperature\": 15.8177, \"Salinity\": 35.576, \"Density\": 1510.87, \"Fluorescence\": 0.0553, \"Turbidity\": 0.3802, \"Oxygen\": 35.5729}, {\"Depth\": 57, \"Pressure\": 57.448, \"Temperature\": 15.8422, \"Salinity\": 35.5737, \"Density\": 1510.92, \"Fluorescence\": 0.0988, \"Turbidity\": 0.3843, \"Oxygen\": 35.5679}, {\"Depth\": 56, \"Pressure\": 56.44, \"Temperature\": 15.8822, \"Salinity\": 35.5637, \"Density\": 1511.02, \"Fluorescence\": 0.0954, \"Turbidity\": 0.3826, \"Oxygen\": 35.5676}, {\"Depth\": 55, \"Pressure\": 55.431999999999995, \"Temperature\": 15.8995, \"Salinity\": 35.5631, \"Density\": 1511.05, \"Fluorescence\": 0.0565, \"Turbidity\": 0.3873, \"Oxygen\": 35.5571}, {\"Depth\": 54, \"Pressure\": 54.424, \"Temperature\": 16.9184, \"Salinity\": 35.4824, \"Density\": 1514.05, \"Fluorescence\": 0.1728, \"Turbidity\": 0.3831, \"Oxygen\": 35.4803}, {\"Depth\": 53, \"Pressure\": 53.416000000000004, \"Temperature\": 16.9012, \"Salinity\": 35.5018, \"Density\": 1514.0, \"Fluorescence\": 0.1294, \"Turbidity\": 0.381, \"Oxygen\": 35.4983}, {\"Depth\": 52, \"Pressure\": 52.408, \"Temperature\": 17.0199, \"Salinity\": 35.5046, \"Density\": 1514.34, \"Fluorescence\": 0.1819, \"Turbidity\": 0.38299999999999995, \"Oxygen\": 35.501999999999995}, {\"Depth\": 51, \"Pressure\": 51.4, \"Temperature\": 17.0727, \"Salinity\": 35.5103, \"Density\": 1514.49, \"Fluorescence\": 0.1825, \"Turbidity\": 0.3799, \"Oxygen\": 35.5005}, {\"Depth\": 50, \"Pressure\": 50.391999999999996, \"Temperature\": 17.2631, \"Salinity\": 35.5028, \"Density\": 1515.03, \"Fluorescence\": 0.1614, \"Turbidity\": 0.3798, \"Oxygen\": 35.4976}, {\"Depth\": 49, \"Pressure\": 49.38399999999999, \"Temperature\": 17.3262, \"Salinity\": 35.5009, \"Density\": 1515.2, \"Fluorescence\": 0.1484, \"Turbidity\": 0.3836, \"Oxygen\": 35.4998}, {\"Depth\": 48, \"Pressure\": 48.376000000000005, \"Temperature\": 17.3453, \"Salinity\": 35.5032, \"Density\": 1515.24, \"Fluorescence\": 0.1985, \"Turbidity\": 0.3847, \"Oxygen\": 35.5004}, {\"Depth\": 47, \"Pressure\": 47.368, \"Temperature\": 17.3564, \"Salinity\": 35.4993, \"Density\": 1515.25, \"Fluorescence\": 0.2015, \"Turbidity\": 0.3828, \"Oxygen\": 35.4922}, {\"Depth\": 46, \"Pressure\": 46.36, \"Temperature\": 17.3642, \"Salinity\": 35.4892, \"Density\": 1515.25, \"Fluorescence\": 0.182, \"Turbidity\": 0.3815, \"Oxygen\": 35.4829}, {\"Depth\": 45, \"Pressure\": 45.352, \"Temperature\": 17.4598, \"Salinity\": 35.4292, \"Density\": 1515.44, \"Fluorescence\": 0.1947, \"Turbidity\": 0.3808, \"Oxygen\": 35.4222}, {\"Depth\": 44, \"Pressure\": 44.343999999999994, \"Temperature\": 17.4866, \"Salinity\": 35.4144, \"Density\": 1515.49, \"Fluorescence\": 0.1853, \"Turbidity\": 0.3738, \"Oxygen\": 35.4265}, {\"Depth\": 43, \"Pressure\": 43.336000000000006, \"Temperature\": 17.4856, \"Salinity\": 35.4134, \"Density\": 1515.47, \"Fluorescence\": 0.2549, \"Turbidity\": 0.3783, \"Oxygen\": 35.4289}, {\"Depth\": 42, \"Pressure\": 42.328, \"Temperature\": 17.5121, \"Salinity\": 35.4025, \"Density\": 1515.52, \"Fluorescence\": 0.3144, \"Turbidity\": 0.3827, \"Oxygen\": 35.4189}, {\"Depth\": 41, \"Pressure\": 41.32, \"Temperature\": 17.5357, \"Salinity\": 35.3848, \"Density\": 1515.55, \"Fluorescence\": 0.1957, \"Turbidity\": 0.3774, \"Oxygen\": 35.4026}, {\"Depth\": 40, \"Pressure\": 40.313, \"Temperature\": 17.5919, \"Salinity\": 35.3483, \"Density\": 1515.66, \"Fluorescence\": 0.1726, \"Turbidity\": 0.373, \"Oxygen\": 35.3619}, {\"Depth\": 39, \"Pressure\": 39.305, \"Temperature\": 17.8798, \"Salinity\": 35.3294, \"Density\": 1516.46, \"Fluorescence\": 0.1976, \"Turbidity\": 0.3776, \"Oxygen\": 35.3098}, {\"Depth\": 38, \"Pressure\": 38.297, \"Temperature\": 18.5534, \"Salinity\": 35.3325, \"Density\": 1518.4, \"Fluorescence\": 0.1856, \"Turbidity\": 0.3814, \"Oxygen\": 35.3063}, {\"Depth\": 37, \"Pressure\": 37.289, \"Temperature\": 19.3215, \"Salinity\": 35.2464, \"Density\": 1520.48, \"Fluorescence\": 0.2042, \"Turbidity\": 0.3893, \"Oxygen\": 35.2404}, {\"Depth\": 36, \"Pressure\": 36.281, \"Temperature\": 19.272000000000002, \"Salinity\": 35.2371, \"Density\": 1520.31, \"Fluorescence\": 0.1485, \"Turbidity\": 0.3733, \"Oxygen\": 35.2582}, {\"Depth\": 35, \"Pressure\": 35.273, \"Temperature\": 19.4463, \"Salinity\": 35.2396, \"Density\": 1520.79, \"Fluorescence\": 0.161, \"Turbidity\": 0.374, \"Oxygen\": 35.2466}, {\"Depth\": 34, \"Pressure\": 34.265, \"Temperature\": 19.4965, \"Salinity\": 35.239000000000004, \"Density\": 1520.91, \"Fluorescence\": 0.1723, \"Turbidity\": 0.3753, \"Oxygen\": 35.2314}, {\"Depth\": 33, \"Pressure\": 33.257, \"Temperature\": 19.6014, \"Salinity\": 35.2353, \"Density\": 1521.18, \"Fluorescence\": 0.129, \"Turbidity\": 0.3707, \"Oxygen\": 35.2047}, {\"Depth\": 32, \"Pressure\": 32.249, \"Temperature\": 19.9462, \"Salinity\": 35.1994, \"Density\": 1522.09, \"Fluorescence\": 0.1318, \"Turbidity\": 0.3769, \"Oxygen\": 35.1985}, {\"Depth\": 31, \"Pressure\": 31.241999999999997, \"Temperature\": 20.0003, \"Salinity\": 35.1987, \"Density\": 1522.22, \"Fluorescence\": 0.1076, \"Turbidity\": 0.3689, \"Oxygen\": 35.1929}, {\"Depth\": 30, \"Pressure\": 30.234, \"Temperature\": 20.1049, \"Salinity\": 35.1874, \"Density\": 1522.48, \"Fluorescence\": 0.1312, \"Turbidity\": 0.3708, \"Oxygen\": 35.1825}, {\"Depth\": 29, \"Pressure\": 29.226, \"Temperature\": 20.0872, \"Salinity\": 35.1882, \"Density\": 1522.41, \"Fluorescence\": 0.1004, \"Turbidity\": 0.3714, \"Oxygen\": 35.1778}, {\"Depth\": 28, \"Pressure\": 28.218000000000004, \"Temperature\": 20.255, \"Salinity\": 35.1757, \"Density\": 1522.85, \"Fluorescence\": 0.0614, \"Turbidity\": 0.3689, \"Oxygen\": 35.1679}, {\"Depth\": 27, \"Pressure\": 27.21, \"Temperature\": 20.4448, \"Salinity\": 35.1495, \"Density\": 1523.32, \"Fluorescence\": 0.0482, \"Turbidity\": 0.3715, \"Oxygen\": 35.1504}, {\"Depth\": 26, \"Pressure\": 26.201999999999998, \"Temperature\": 20.5025, \"Salinity\": 35.1546, \"Density\": 1523.47, \"Fluorescence\": 0.021, \"Turbidity\": 0.3707, \"Oxygen\": 35.1531}, {\"Depth\": 25, \"Pressure\": 25.194000000000003, \"Temperature\": 20.5103, \"Salinity\": 35.155, \"Density\": 1523.47, \"Fluorescence\": -0.0234, \"Turbidity\": 0.3719, \"Oxygen\": 35.1548}, {\"Depth\": 24, \"Pressure\": 24.186999999999998, \"Temperature\": 20.5428, \"Salinity\": 35.1553, \"Density\": 1523.54, \"Fluorescence\": -0.0078, \"Turbidity\": 0.3747, \"Oxygen\": 35.1524}, {\"Depth\": 23, \"Pressure\": 23.179000000000002, \"Temperature\": 20.5743, \"Salinity\": 35.1505, \"Density\": 1523.61, \"Fluorescence\": -0.0147, \"Turbidity\": 0.3681, \"Oxygen\": 35.1467}, {\"Depth\": 22, \"Pressure\": 22.171, \"Temperature\": 20.5818, \"Salinity\": 35.1507, \"Density\": 1523.61, \"Fluorescence\": -0.0659, \"Turbidity\": 0.3715, \"Oxygen\": 35.1475}, {\"Depth\": 21, \"Pressure\": 21.163, \"Temperature\": 20.6113, \"Salinity\": 35.1487, \"Density\": 1523.67, \"Fluorescence\": -0.0746, \"Turbidity\": 0.3709, \"Oxygen\": 35.146}, {\"Depth\": 20, \"Pressure\": 20.155, \"Temperature\": 20.616999999999997, \"Salinity\": 35.1449, \"Density\": 1523.67, \"Fluorescence\": -0.051, \"Turbidity\": 0.3775, \"Oxygen\": 35.144}, {\"Depth\": 19, \"Pressure\": 19.147000000000002, \"Temperature\": 20.6225, \"Salinity\": 35.1464, \"Density\": 1523.67, \"Fluorescence\": -0.0842, \"Turbidity\": 0.3751, \"Oxygen\": 35.1445}, {\"Depth\": 18, \"Pressure\": 18.14, \"Temperature\": 20.6433, \"Salinity\": 35.1449, \"Density\": 1523.7, \"Fluorescence\": -0.091, \"Turbidity\": 0.374, \"Oxygen\": 35.1417}, {\"Depth\": 17, \"Pressure\": 17.132, \"Temperature\": 20.6061, \"Salinity\": 35.1202, \"Density\": 1523.56, \"Fluorescence\": -0.0917, \"Turbidity\": 0.3762, \"Oxygen\": 35.1166}, {\"Depth\": 16, \"Pressure\": 16.124000000000002, \"Temperature\": 20.4442, \"Salinity\": 34.9937, \"Density\": 1522.96, \"Fluorescence\": -0.1008, \"Turbidity\": 0.3728, \"Oxygen\": 34.985}, {\"Depth\": 15, \"Pressure\": 15.116, \"Temperature\": 20.3622, \"Salinity\": 34.9556, \"Density\": 1522.68, \"Fluorescence\": -0.1008, \"Turbidity\": 0.3785, \"Oxygen\": 34.9441}, {\"Depth\": 14, \"Pressure\": 14.109000000000002, \"Temperature\": 20.2673, \"Salinity\": 34.8824, \"Density\": 1522.32, \"Fluorescence\": -0.0902, \"Turbidity\": 0.3788, \"Oxygen\": 34.8993}, {\"Depth\": 13, \"Pressure\": 13.100999999999999, \"Temperature\": 20.2138, \"Salinity\": 34.8506, \"Density\": 1522.12, \"Fluorescence\": -0.0965, \"Turbidity\": 0.3788, \"Oxygen\": 34.8215}, {\"Depth\": 12, \"Pressure\": 12.093, \"Temperature\": 20.1535, \"Salinity\": 34.8054, \"Density\": 1521.88, \"Fluorescence\": -0.1007, \"Turbidity\": 0.3781, \"Oxygen\": 34.7779}, {\"Depth\": 11, \"Pressure\": 11.085, \"Temperature\": 20.0937, \"Salinity\": 34.7586, \"Density\": 1521.65, \"Fluorescence\": -0.0732, \"Turbidity\": 0.3811, \"Oxygen\": 34.7666}, {\"Depth\": 10, \"Pressure\": 10.077, \"Temperature\": 20.0606, \"Salinity\": 34.7444, \"Density\": 1521.53, \"Fluorescence\": -0.0728, \"Turbidity\": 0.3863, \"Oxygen\": 34.7483}, {\"Depth\": 9, \"Pressure\": 9.07, \"Temperature\": 20.0224, \"Salinity\": 34.7157, \"Density\": 1521.37, \"Fluorescence\": -0.071, \"Turbidity\": 0.3836, \"Oxygen\": 34.7077}, {\"Depth\": 8, \"Pressure\": 8.062000000000001, \"Temperature\": 20.0089, \"Salinity\": 34.705, \"Density\": 1521.3, \"Fluorescence\": -0.0422, \"Turbidity\": 0.385, \"Oxygen\": 34.6916}, {\"Depth\": 7, \"Pressure\": 7.053999999999999, \"Temperature\": 19.9213, \"Salinity\": 34.64, \"Density\": 1520.97, \"Fluorescence\": -0.0316, \"Turbidity\": 0.3843, \"Oxygen\": 34.6333}, {\"Depth\": 6, \"Pressure\": 6.046, \"Temperature\": 19.9109, \"Salinity\": 34.6342, \"Density\": 1520.92, \"Fluorescence\": -0.0185, \"Turbidity\": 0.3842, \"Oxygen\": 34.631}, {\"Depth\": 5, \"Pressure\": 5.039, \"Temperature\": 19.9138, \"Salinity\": 34.6359, \"Density\": 1520.91, \"Fluorescence\": -0.0323, \"Turbidity\": 0.3816, \"Oxygen\": 34.6319}, {\"Depth\": 4, \"Pressure\": 4.031000000000001, \"Temperature\": 19.9145, \"Salinity\": 34.6371, \"Density\": 1520.9, \"Fluorescence\": -0.0236, \"Turbidity\": 0.3874, \"Oxygen\": 34.6333}, {\"Depth\": 3, \"Pressure\": 3.023, \"Temperature\": 19.9165, \"Salinity\": 34.6385, \"Density\": 1520.89, \"Fluorescence\": -0.0218, \"Turbidity\": 0.3842, \"Oxygen\": 34.6347}, {\"Depth\": 2, \"Pressure\": 2.015, \"Temperature\": 19.9122, \"Salinity\": 34.6354, \"Density\": 1520.86, \"Fluorescence\": 0.0187, \"Turbidity\": 0.4047, \"Oxygen\": 34.6308}]}}, {\"mode\": \"vega-lite\"});\n",
              "</script>"
            ]
          },
          "metadata": {
            "tags": []
          },
          "execution_count": 36
        }
      ]
    },
    {
      "cell_type": "markdown",
      "metadata": {
        "id": "2ndmwZoZQxUq",
        "colab_type": "text"
      },
      "source": [
        "## Your Turn\n",
        "Try adapting the the line or scatterplot code above to plot profiles or comparisons of other variables. For example:\n",
        "* Turbidity vs. Depth\n",
        "* Oxygen vs. Depth\n",
        "* Oxygen vs. Temperature\n"
      ]
    },
    {
      "cell_type": "code",
      "metadata": {
        "id": "rFCbXigrQy4h",
        "colab_type": "code",
        "colab": {}
      },
      "source": [
        "# Your code here"
      ],
      "execution_count": 37,
      "outputs": []
    },
    {
      "cell_type": "markdown",
      "metadata": {
        "id": "y_GS8U7WRDU8",
        "colab_type": "text"
      },
      "source": [
        "## Additional Resources\n",
        "So that is our quick intro.  Next timee we will build on this code to plot some Glider datasets.\n",
        "\n",
        "If you are interested in learning more about the basics of coding in Python, I encourage you to check out these examples\n",
        "* [REU Activity 1 - Python Basics](https://github.com/ooi-data-lab/datalab-reu-2020/blob/master/Activity_1_Python_Basics.ipynb)\n",
        "* [REU Activity 2 - Data Visualization](https://github.com/ooi-data-lab/datalab-reu-2020/blob/master/Activity_2_Data_Visualization.ipynb)\n",
        "\n",
        "If you are interested in seeing some additional examples of the plotting features available in python, I encourage you to check out:\n",
        "* [Matplotlib Examples](https://matplotlib.org/gallery/index.html)\n",
        "* [Seaborn Gallery](https://seaborn.pydata.org/examples/index.html)\n",
        "* [Altair Example Gallery](https://altair-viz.github.io/gallery/index.html)\n",
        "* [Python Graph Gallery](https://python-graph-gallery.com/)\n",
        "\n",
        "This notebook was largely adapted from my [2019 Data Labs Quick Intro to Python](https://github.com/ooi-data-lab/data-lab-workshops/blob/master/Summer_Examples/Python_Introduction.ipynb)\n",
        "\n",
        "You can find more cool math formulas for 2020 in this [Guardian article](https://www.theguardian.com/science/2019/dec/30/did-you-solve-it-2020-in-numbers).\n",
        "\n",
        "\n"
      ]
    }
  ]
}